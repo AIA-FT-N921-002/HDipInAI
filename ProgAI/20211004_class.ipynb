{
 "cells": [
  {
   "cell_type": "code",
   "execution_count": 3,
   "id": "abcbf6cf",
   "metadata": {},
   "outputs": [
    {
     "name": "stdout",
     "output_type": "stream",
     "text": [
      "Name\n"
     ]
    }
   ],
   "source": [
    "print('name'.capitalize())"
   ]
  },
  {
   "cell_type": "code",
   "execution_count": 4,
   "id": "2e9ef7ed",
   "metadata": {},
   "outputs": [
    {
     "name": "stdout",
     "output_type": "stream",
     "text": [
      "7\n"
     ]
    }
   ],
   "source": [
    "import random\n",
    "\n",
    "print(random.randint(0,100))"
   ]
  },
  {
   "cell_type": "code",
   "execution_count": 11,
   "id": "e82d1b76",
   "metadata": {},
   "outputs": [
    {
     "name": "stdout",
     "output_type": "stream",
     "text": [
      "John Doe\n",
      "John Doe\n",
      "John Doe\n",
      "John Doe\n",
      "John Doe\n"
     ]
    }
   ],
   "source": [
    "def formatName(name, surname):\n",
    "    print(f'{name} {surname}')\n",
    "    \n",
    "# Caller Normal argument\n",
    "formatName('John','Doe')\n",
    "\n",
    "# Caller Keyword  argument\n",
    "formatName(surname='Doe',name='John')              \n",
    "\n",
    "# Caller Pass all objects in iterable as individual positional arguments\n",
    "params = ('John','Doe') \n",
    "formatName(*params)\n",
    "params = ['John','Doe']\n",
    "formatName(*params)\n",
    "\n",
    "# Caller Pass all key/value pairs in dict as individual keyword arguments\n",
    "params = {'name': 'John', 'surname':'Doe'}\n",
    "formatName(**params)"
   ]
  },
  {
   "cell_type": "code",
   "execution_count": 17,
   "id": "06a36aef",
   "metadata": {},
   "outputs": [],
   "source": [
    "x = {'a':1,'b':2,'c':3}"
   ]
  },
  {
   "cell_type": "code",
   "execution_count": 18,
   "id": "57307bd3",
   "metadata": {},
   "outputs": [
    {
     "name": "stdout",
     "output_type": "stream",
     "text": [
      "1\n",
      "2\n",
      "3\n"
     ]
    }
   ],
   "source": [
    "for i in x.keys():\n",
    "    print(x[i])"
   ]
  },
  {
   "cell_type": "code",
   "execution_count": 13,
   "id": "4478486a",
   "metadata": {},
   "outputs": [
    {
     "name": "stdout",
     "output_type": "stream",
     "text": [
      "['Vic', 'tor']\n"
     ]
    }
   ],
   "source": [
    "print(\"Vic tor\".split())"
   ]
  },
  {
   "cell_type": "code",
   "execution_count": null,
   "id": "fa80f670",
   "metadata": {},
   "outputs": [],
   "source": []
  }
 ],
 "metadata": {
  "kernelspec": {
   "display_name": "Python 3",
   "language": "python",
   "name": "python3"
  },
  "language_info": {
   "codemirror_mode": {
    "name": "ipython",
    "version": 3
   },
   "file_extension": ".py",
   "mimetype": "text/x-python",
   "name": "python",
   "nbconvert_exporter": "python",
   "pygments_lexer": "ipython3",
   "version": "3.8.8"
  }
 },
 "nbformat": 4,
 "nbformat_minor": 5
}
