{
 "cells": [
  {
   "cell_type": "code",
   "execution_count": 3,
   "id": "abcbf6cf",
   "metadata": {},
   "outputs": [
    {
     "name": "stdout",
     "output_type": "stream",
     "text": [
      "Name\n"
     ]
    }
   ],
   "source": [
    "print('name'.capitalize())"
   ]
  },
  {
   "cell_type": "code",
   "execution_count": 4,
   "id": "2e9ef7ed",
   "metadata": {},
   "outputs": [
    {
     "name": "stdout",
     "output_type": "stream",
     "text": [
      "7\n"
     ]
    }
   ],
   "source": [
    "import random\n",
    "\n",
    "print(random.randint(0,100))"
   ]
  },
  {
   "cell_type": "code",
   "execution_count": 11,
   "id": "e82d1b76",
   "metadata": {},
   "outputs": [
    {
     "name": "stdout",
     "output_type": "stream",
     "text": [
      "John Doe\n",
      "John Doe\n",
      "John Doe\n",
      "John Doe\n",
      "John Doe\n"
     ]
    }
   ],
   "source": [
    "def formatName(name, surname):\n",
    "    print(f'{name} {surname}')\n",
    "    \n",
    "# Caller Normal argument\n",
    "formatName('John','Doe')\n",
    "\n",
    "# Caller Keyword  argument\n",
    "formatName(surname='Doe',name='John')              \n",
    "\n",
    "# Caller Pass all objects in iterable as individual positional arguments\n",
    "params = ('John','Doe') \n",
    "formatName(*params)\n",
    "params = ['John','Doe']\n",
    "formatName(*params)\n",
    "\n",
    "# Caller Pass all key/value pairs in dict as individual keyword arguments\n",
    "params = {'name': 'John', 'surname':'Doe'}\n",
    "formatName(**params)"
   ]
  },
  {
   "cell_type": "code",
   "execution_count": 17,
   "id": "06a36aef",
   "metadata": {},
   "outputs": [],
   "source": [
    "x = {'a':1,'b':2,'c':3}"
   ]
  },
  {
   "cell_type": "code",
   "execution_count": 18,
   "id": "57307bd3",
   "metadata": {},
   "outputs": [
    {
     "name": "stdout",
     "output_type": "stream",
     "text": [
      "1\n",
      "2\n",
      "3\n"
     ]
    }
   ],
   "source": [
    "for i in x.keys():\n",
    "    print(x[i])"
   ]
  },
  {
   "cell_type": "code",
   "execution_count": 13,
   "id": "4478486a",
   "metadata": {},
   "outputs": [
    {
     "name": "stdout",
     "output_type": "stream",
     "text": [
      "['Vic', 'tor']\n"
     ]
    }
   ],
   "source": [
    "print(\"Vic tor\".split())"
   ]
  },
  {
   "cell_type": "code",
   "execution_count": 14,
   "id": "89ebacc3",
   "metadata": {},
   "outputs": [
    {
     "name": "stdout",
     "output_type": "stream",
     "text": [
      "4\n",
      "18.0\n"
     ]
    }
   ],
   "source": [
    "def func( x ):\n",
    "    return x + 1\n",
    "\n",
    "n = int( input() )\n",
    "print( func( n / 2 ) * func( n + 1 ) )"
   ]
  },
  {
   "cell_type": "code",
   "execution_count": 3,
   "id": "1681534f",
   "metadata": {},
   "outputs": [
    {
     "name": "stdout",
     "output_type": "stream",
     "text": [
      "1\n",
      "2\n",
      "3\n",
      "4\n",
      "5\n"
     ]
    }
   ],
   "source": [
    "my_tuple = set([1,2,1,3,4,5])\n",
    "\n",
    "for i in my_tuple:\n",
    "    print(i)"
   ]
  },
  {
   "cell_type": "code",
   "execution_count": 5,
   "id": "43d5c7cc",
   "metadata": {},
   "outputs": [
    {
     "name": "stdout",
     "output_type": "stream",
     "text": [
      "[]\n",
      "[]\n"
     ]
    }
   ],
   "source": [
    "my_list = []\n",
    "\n",
    "print(my_list)\n",
    "\n",
    "another_list = list()\n",
    "\n",
    "print(another_list)"
   ]
  },
  {
   "cell_type": "code",
   "execution_count": 11,
   "id": "59ce2dd9",
   "metadata": {},
   "outputs": [
    {
     "name": "stdout",
     "output_type": "stream",
     "text": [
      "The frozen set is: frozenset({'e', 'i', 'a', 'u', 'o'})\n",
      "The empty frozen set is: frozenset()\n"
     ]
    },
    {
     "ename": "AttributeError",
     "evalue": "'frozenset' object has no attribute 'add'",
     "output_type": "error",
     "traceback": [
      "\u001b[1;31m---------------------------------------------------------------------------\u001b[0m",
      "\u001b[1;31mAttributeError\u001b[0m                            Traceback (most recent call last)",
      "\u001b[1;32m<ipython-input-11-659b7b20d539>\u001b[0m in \u001b[0;36m<module>\u001b[1;34m\u001b[0m\n\u001b[0;32m     10\u001b[0m \u001b[1;33m\u001b[0m\u001b[0m\n\u001b[0;32m     11\u001b[0m \u001b[1;31m# frozensets are immutable, this fires AttributeError: 'frozenset' object has no attribute 'add'\u001b[0m\u001b[1;33m\u001b[0m\u001b[1;33m\u001b[0m\u001b[1;33m\u001b[0m\u001b[0m\n\u001b[1;32m---> 12\u001b[1;33m \u001b[0mfSet\u001b[0m\u001b[1;33m.\u001b[0m\u001b[0madd\u001b[0m\u001b[1;33m(\u001b[0m\u001b[1;34m'v'\u001b[0m\u001b[1;33m)\u001b[0m\u001b[1;33m\u001b[0m\u001b[1;33m\u001b[0m\u001b[0m\n\u001b[0m",
      "\u001b[1;31mAttributeError\u001b[0m: 'frozenset' object has no attribute 'add'"
     ]
    }
   ],
   "source": [
    "# tuple of vowels\n",
    "vowels = ('a', 'e', 'i', 'o', 'u', 'a')\n",
    "\n",
    "fSet = frozenset(vowels)\n",
    "print('The frozen set is:', fSet)\n",
    "# The frozen set is: frozenset({'e', 'i', 'a', 'u', 'o'})\n",
    "\n",
    "print('The empty frozen set is:', frozenset())\n",
    "# The empty frozen set is: frozenset()\n",
    "\n",
    "# frozensets are immutable, this fires AttributeError: 'frozenset' object has no attribute 'add'\n",
    "fSet.add('v')"
   ]
  },
  {
   "cell_type": "code",
   "execution_count": 14,
   "id": "b36adfeb",
   "metadata": {},
   "outputs": [
    {
     "name": "stdout",
     "output_type": "stream",
     "text": [
      "dict_items([('brand', 'Ford'), ('model', 'Mustang'), ('year', 1964)])\n"
     ]
    }
   ],
   "source": [
    "car = {\"brand\": \"Ford\",\"model\": \"Mustang\",\"year\": 1964}\n",
    "x = car.items()\n",
    "print(x)"
   ]
  },
  {
   "cell_type": "code",
   "execution_count": 15,
   "id": "8c43406f",
   "metadata": {},
   "outputs": [
    {
     "name": "stdout",
     "output_type": "stream",
     "text": [
      "5 4\n"
     ]
    }
   ],
   "source": [
    "def func(x = 1, y = 2):\n",
    "    x = x + y\n",
    "    y = y + 1\n",
    "    print(x, y)\n",
    "\n",
    "func(y = 3, x = 2)"
   ]
  },
  {
   "cell_type": "code",
   "execution_count": 16,
   "id": "aed87094",
   "metadata": {},
   "outputs": [
    {
     "name": "stdout",
     "output_type": "stream",
     "text": [
      "WorldWorldWorldWorldWorld\n"
     ]
    }
   ],
   "source": [
    "def say(message, times = 1):\n",
    "    print(message * times)\n",
    "\n",
    "say('World', 5)"
   ]
  },
  {
   "cell_type": "code",
   "execution_count": 17,
   "id": "4f07245e",
   "metadata": {},
   "outputs": [
    {
     "name": "stdout",
     "output_type": "stream",
     "text": [
      "x is 50\n",
      "Changed local x to 2\n",
      "x is now 2\n"
     ]
    }
   ],
   "source": [
    "x = 50\n",
    "def func(x):\n",
    "    print('x is', x)\n",
    "    x = 2\n",
    "    print('Changed local x to', x)\n",
    "    return x\n",
    "x = func(x)\n",
    "print('x is now', x)"
   ]
  },
  {
   "cell_type": "code",
   "execution_count": 18,
   "id": "7cb5e9e2",
   "metadata": {},
   "outputs": [
    {
     "name": "stdout",
     "output_type": "stream",
     "text": [
      "8\n"
     ]
    }
   ],
   "source": [
    "def bar( z ):\n",
    "    i = 1\n",
    "    while ( i <= z ):\n",
    "        i = i * 2\n",
    "    return i\n",
    "\n",
    "print (bar( 7 ))"
   ]
  },
  {
   "cell_type": "code",
   "execution_count": null,
   "id": "bc519a8f",
   "metadata": {},
   "outputs": [],
   "source": []
  }
 ],
 "metadata": {
  "kernelspec": {
   "display_name": "Python 3",
   "language": "python",
   "name": "python3"
  },
  "language_info": {
   "codemirror_mode": {
    "name": "ipython",
    "version": 3
   },
   "file_extension": ".py",
   "mimetype": "text/x-python",
   "name": "python",
   "nbconvert_exporter": "python",
   "pygments_lexer": "ipython3",
   "version": "3.8.8"
  }
 },
 "nbformat": 4,
 "nbformat_minor": 5
}
