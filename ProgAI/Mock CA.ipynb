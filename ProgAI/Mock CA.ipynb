{
 "cells": [
  {
   "cell_type": "code",
   "execution_count": 1,
   "id": "crucial-robert",
   "metadata": {},
   "outputs": [],
   "source": [
    "import random\n",
    "import csv\n",
    "\n",
    "names = [\"Alvin Carpenter\",\"Lorna Jenkins\",\"Nisha Vang\",\"Ashlee Owens\",\n",
    "        \"Rojin Sparrow\",\"Madeeha Bellamy\",\"Ewen Stott\",\"Franco Crouch\",\n",
    "        \"Jensen Conroy\",\"Clarissa Churchill\",\"Batman\",\"Aron Parsons\",\n",
    "        \"Tyron Goodman\",\"Shahzaib Petty\",\"Julius Colley\",\"Calista Cummings\",\n",
    "        \"Eiliyah West\",\"Adem Wardle\",\"Keaton Ferry\",\"Salman Whitley\",\n",
    "        \"Simran Dudley\",\"Halle Sampson\",\"Zander Spencer\",\"Gurveer Lutz\",\n",
    "        \"Hasnain Mendoza\",\"Scarlette Mohammed\",\"Nadeem Craft\",\"Ajay Bryan\",\n",
    "        \"Kiera Ridley\",\"Otto Valenzuela\",\"Tarik Corona\",\"Ella-Rose Choi\",\n",
    "        \"Roland Burns\",\"Sheena Walls\",\"Robert Horne\",\"Eleasha Firth\",\n",
    "        \"Gracie Hood\",\"Albert Cross\",\"Domonic Keller\",\"Kenya Hartman\",\n",
    "        \"Luna Crosby\",\"Isabella-Rose Hawkins\",\"Kathryn Lindsey\",\"Karen Diaz\",\n",
    "        \"Gianluca Walker\",\"Ephraim Booth\",\"Zayan Yang\",\"Conal Taylor\",\n",
    "        \"Jimmie Gallegos\",\"Ritik Moses\",\"Lois Wong\",\"Sylvie Yoder\",\n",
    "        \"Romana Wagner\",\"Kelly Hodge\",\"Romy Cohen\",\"Renee Park\",\n",
    "        \"Siraj Blevins\",\"Lexi Hendricks\",\"Mario Easton\",\"Aoife Wynn\",\n",
    "        \"Devon Lowry\",\"Mathias Russo\",\"Fionn Cochran\",\"Ella-Grace Hollis\",\n",
    "        \"Karis Lane\",\"Huseyin Sargent\",\"Charlene Myers\",\"Leighton Bloggs\",\n",
    "        \"Marilyn Burks\",\"Alessio Day\",\"Maisha Frost\",\"Keri Rocha\",\"Lillie Paterson\",\n",
    "        \"Andre Matthews\",\"Blair Torres\",\"Roscoe Dunne\",\"Larissa Kinney\",\"Camron Rees\",\n",
    "        \"Jagdeep Sims\",\"Sandra Wickens\",\"Soraya Bevan\",\"Libbi Driscoll\",\"Shanaya Bouvet\",\n",
    "        \"Zaynab Markham\",\"Sinead Holland\",\"Dougie Whelan\",\"Rylee Hinton\",\"Federico Ray\",\n",
    "        \"Fatima Goodwin\",\"Amandeep Mclean\",\"Eleri Garza\",\"Heath Robson\",\"Areebah Calhoun\",\n",
    "        \"Nour Fox\",\"Lillie-Mae O'Neill\",\"Margot Reyna\",\"Ibrahim Witt\",\"Rukhsar Roman\",\n",
    "        \"Frida Rayner\",\"Keir Soto\",\"Cody Buckley\"]\n",
    "\n",
    "    \n",
    "sports = [\"Archery\",\"Badminton\",\"Cricket\",\"Bowling\",\"Boxing\",\n",
    "        \"Curling\",\"Tennis\",\"Skateboarding\",\"Surfing\",\"Hockey\",\n",
    "        \"Figure skating\",\"Yoga\",\"Fencing\",\"Fitness\",\"Gymnastics\",\n",
    "        \"Karate\",\"Volleyball\",\"Weightlifting\",\"Basketball\",\n",
    "        \"Baseball\",\"Rugby\",\"Wrestling\",\"High jumping\",\n",
    "        \"Hang gliding\",\"Car racing\",\"Cycling\",\"Running\",\n",
    "        \"Table tennis\",\"Fishing\",\"Judo\",\"Climbing\",\"Pool\",\n",
    "        \"Shooting\",\"Horse racing\",\"Horseback riding\",\"Golf\",\"Soccer\"]\n",
    "\n",
    "genders = ['Male', 'Female', 'Non-binary']\n",
    "\n",
    "f1 = open('members.csv','w', newline='\\n')\n",
    "writer = csv.writer(f1)\n",
    "\n",
    "writer.writerow([\"ID\",\"Name\",\"Sport\",\"Gender\",\"Age\"])\n",
    "\n",
    "for n in range(random.randint(500, 1000)):\n",
    "    writer.writerow([n+1, random.choice(names), random.choice(sports),\n",
    "                     random.choice(genders), random.randint(12, 86)])\n",
    "\n",
    "f1.close()"
   ]
  },
  {
   "cell_type": "code",
   "execution_count": null,
   "id": "4582013e",
   "metadata": {},
   "outputs": [],
   "source": []
  }
 ],
 "metadata": {
  "kernelspec": {
   "display_name": "Python 3",
   "language": "python",
   "name": "python3"
  },
  "language_info": {
   "codemirror_mode": {
    "name": "ipython",
    "version": 3
   },
   "file_extension": ".py",
   "mimetype": "text/x-python",
   "name": "python",
   "nbconvert_exporter": "python",
   "pygments_lexer": "ipython3",
   "version": "3.8.8"
  }
 },
 "nbformat": 4,
 "nbformat_minor": 5
}
