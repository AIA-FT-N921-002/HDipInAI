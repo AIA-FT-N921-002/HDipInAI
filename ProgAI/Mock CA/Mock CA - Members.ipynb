{
 "cells": [
  {
   "cell_type": "markdown",
   "id": "30cf16d7",
   "metadata": {},
   "source": [
    "Mock CA\n",
    "=====\n",
    "\n",
    "Requirements:\n",
    "----------\n",
    "+ ~Function `view_all_members`~\n",
    "+ View Relevant Data About a Particular Sport\n",
    "    + ~Total number members in a particular sport~\n",
    "    + Breakdown of how many members follow this sport by group age\n",
    "        + Ages between 12 and 86 splits into 4 groups\n",
    "    + Breakdown of how many male/female members in this particular sport\n",
    "+ A menu to choose 2 options (General and offer a way to search for the sport)\n",
    "+ Option to close the program\n",
    "+ Allow the user to see different analytics w/out having to run the program again\n",
    "+ Comment the code\n",
    "\n",
    "Marking Scheme\n",
    "---------\n",
    "+ User Menu: 15\n",
    "+ All members function: 10\n",
    "+ Sport search functionality: 20\n",
    "+ Analytics for a particular sport: 40\n",
    "+ Markdown cells include sensible reasoning for the design choices: 15"
   ]
  },
  {
   "cell_type": "code",
   "execution_count": 40,
   "id": "2373c540",
   "metadata": {},
   "outputs": [
    {
     "name": "stdout",
     "output_type": "stream",
     "text": [
      "yoga has 35 members\n"
     ]
    },
    {
     "ename": "NameError",
     "evalue": "name 'sport' is not defined",
     "output_type": "error",
     "traceback": [
      "\u001b[1;31m---------------------------------------------------------------------------\u001b[0m",
      "\u001b[1;31mNameError\u001b[0m                                 Traceback (most recent call last)",
      "\u001b[1;32m<ipython-input-40-f61033eb6074>\u001b[0m in \u001b[0;36m<module>\u001b[1;34m\u001b[0m\n\u001b[0;32m     65\u001b[0m \u001b[0mmembers\u001b[0m \u001b[1;33m=\u001b[0m \u001b[0mload_members_list_from_file\u001b[0m\u001b[1;33m(\u001b[0m\u001b[1;33m)\u001b[0m\u001b[1;33m\u001b[0m\u001b[1;33m\u001b[0m\u001b[0m\n\u001b[0;32m     66\u001b[0m \u001b[1;31m# view_all_members(members)\u001b[0m\u001b[1;33m\u001b[0m\u001b[1;33m\u001b[0m\u001b[1;33m\u001b[0m\u001b[0m\n\u001b[1;32m---> 67\u001b[1;33m \u001b[0mview_breakdown_by_sport\u001b[0m\u001b[1;33m(\u001b[0m\u001b[1;34m'yoga'\u001b[0m\u001b[1;33m,\u001b[0m \u001b[0mmembers\u001b[0m\u001b[1;33m)\u001b[0m\u001b[1;33m\u001b[0m\u001b[1;33m\u001b[0m\u001b[0m\n\u001b[0m",
      "\u001b[1;32m<ipython-input-40-f61033eb6074>\u001b[0m in \u001b[0;36mview_breakdown_by_sport\u001b[1;34m(sport, members)\u001b[0m\n\u001b[0;32m     60\u001b[0m     \u001b[0mprint\u001b[0m\u001b[1;33m(\u001b[0m\u001b[1;34mf'{sport} has {total_members_by_sport} members'\u001b[0m\u001b[1;33m)\u001b[0m\u001b[1;33m\u001b[0m\u001b[1;33m\u001b[0m\u001b[0m\n\u001b[0;32m     61\u001b[0m \u001b[1;33m\u001b[0m\u001b[0m\n\u001b[1;32m---> 62\u001b[1;33m     \u001b[0mview_sport_member_by_gender\u001b[0m\u001b[1;33m(\u001b[0m\u001b[0mmembers_by_sport\u001b[0m\u001b[1;33m)\u001b[0m\u001b[1;33m\u001b[0m\u001b[1;33m\u001b[0m\u001b[0m\n\u001b[0m\u001b[0;32m     63\u001b[0m \u001b[1;33m\u001b[0m\u001b[0m\n\u001b[0;32m     64\u001b[0m \u001b[1;33m\u001b[0m\u001b[0m\n",
      "\u001b[1;32m<ipython-input-40-f61033eb6074>\u001b[0m in \u001b[0;36mview_sport_member_by_gender\u001b[1;34m(members_by_sport)\u001b[0m\n\u001b[0;32m     50\u001b[0m     \u001b[0mtotal_nb_members_by_sport\u001b[0m \u001b[1;33m=\u001b[0m \u001b[0mlen\u001b[0m\u001b[1;33m(\u001b[0m\u001b[1;33m[\u001b[0m\u001b[0mm\u001b[0m \u001b[1;32mfor\u001b[0m \u001b[0mm\u001b[0m \u001b[1;32min\u001b[0m \u001b[0mmembers_by_sport\u001b[0m \u001b[1;32mif\u001b[0m \u001b[0mm\u001b[0m\u001b[1;33m.\u001b[0m\u001b[0mgender\u001b[0m \u001b[1;33m==\u001b[0m \u001b[1;34m'Non-binary'\u001b[0m\u001b[1;33m]\u001b[0m\u001b[1;33m)\u001b[0m\u001b[1;33m\u001b[0m\u001b[1;33m\u001b[0m\u001b[0m\n\u001b[0;32m     51\u001b[0m \u001b[1;33m\u001b[0m\u001b[0m\n\u001b[1;32m---> 52\u001b[1;33m     \u001b[0mprint\u001b[0m\u001b[1;33m(\u001b[0m\u001b[1;34mf'{sport} has {total_male_members_by_sport} male members'\u001b[0m\u001b[1;33m)\u001b[0m\u001b[1;33m\u001b[0m\u001b[1;33m\u001b[0m\u001b[0m\n\u001b[0m\u001b[0;32m     53\u001b[0m     \u001b[0mprint\u001b[0m\u001b[1;33m(\u001b[0m\u001b[1;34mf'{sport} has {total_female_members_by_sport} female members'\u001b[0m\u001b[1;33m)\u001b[0m\u001b[1;33m\u001b[0m\u001b[1;33m\u001b[0m\u001b[0m\n\u001b[0;32m     54\u001b[0m     \u001b[0mprint\u001b[0m\u001b[1;33m(\u001b[0m\u001b[1;34mf'{sport} has {total_nb_members_by_sport} non-binary members'\u001b[0m\u001b[1;33m)\u001b[0m\u001b[1;33m\u001b[0m\u001b[1;33m\u001b[0m\u001b[0m\n",
      "\u001b[1;31mNameError\u001b[0m: name 'sport' is not defined"
     ]
    }
   ],
   "source": [
    "class Member:\n",
    "    def __init__(self, name, sport, gender, age):\n",
    "        self.name = name\n",
    "        self.sport = sport\n",
    "        self.gender = gender\n",
    "        self.age = age\n",
    "        self.group_age = self.get_group_age()\n",
    "        \n",
    "    def get_group_age(self):\n",
    "        if self.age <= 24:\n",
    "            return 'Gen Z'\n",
    "        \n",
    "        if self.age <= 40:\n",
    "            return 'Millennial'\n",
    "        \n",
    "        if self.age <= 56:\n",
    "            return 'Gen X'\n",
    "        \n",
    "        return 'Older Generations'\n",
    "\n",
    "    \n",
    "    \n",
    "def load_members_list_from_file():    \n",
    "    file = open(\"members.csv\",'r')    \n",
    "    lines = file.readlines()[1:]    \n",
    "    members = []\n",
    "    \n",
    "    for i in lines:\n",
    "        line = i.split(',')\n",
    "        line[4].replace('\\n','')\n",
    "        \n",
    "        member = Member(name=line[1], sport=line[2], gender=line[3], age=int(line[4]))\n",
    "        members.append(member)\n",
    "        \n",
    "    file.close()\n",
    "    \n",
    "    return members\n",
    "        \n",
    "\n",
    "def view_all_members(members):\n",
    "    members.sort(key=lambda x: x.sport)\n",
    "    \n",
    "    for member in members:\n",
    "        print(f'{member.sport}: {member.name}, {member.age}, {member.gender}')\n",
    "        \n",
    "\n",
    "def view_sport_member_by_gender(sport, members_by_sport):\n",
    "    total_male_members_by_sport = len([m for m in members_by_sport if m.gender == 'Male'])\n",
    "    total_female_members_by_sport = len([m for m in members_by_sport if m.gender == 'Female'])\n",
    "    total_nb_members_by_sport = len([m for m in members_by_sport if m.gender == 'Non-binary'])\n",
    "    \n",
    "    print(f'{sport} has {total_male_members_by_sport} male members')\n",
    "    print(f'{sport} has {total_female_members_by_sport} female members')\n",
    "    print(f'{sport} has {total_nb_members_by_sport} non-binary members')\n",
    "        \n",
    "        \n",
    "def view_breakdown_by_sport(sport, members):\n",
    "    members_by_sport = [m for m in members if m.sport.lower() == sport.lower()]\n",
    "    total_members_by_sport = len(members_by_sport)    \n",
    "    print(f'{sport} has {total_members_by_sport} members')\n",
    "    \n",
    "    view_sport_member_by_gender(sport, members_by_sport)\n",
    "    \n",
    "        \n",
    "members = load_members_list_from_file()  \n",
    "# view_all_members(members)\n",
    "view_breakdown_by_sport('yoga', members)"
   ]
  },
  {
   "cell_type": "code",
   "execution_count": 18,
   "id": "d4c2a0bc",
   "metadata": {},
   "outputs": [
    {
     "name": "stdout",
     "output_type": "stream",
     "text": [
      "Gen Z (<= 24)\n"
     ]
    }
   ],
   "source": [
    "print(members[1].group_age)"
   ]
  },
  {
   "cell_type": "code",
   "execution_count": null,
   "id": "c82a19de",
   "metadata": {},
   "outputs": [],
   "source": []
  }
 ],
 "metadata": {
  "kernelspec": {
   "display_name": "Python 3",
   "language": "python",
   "name": "python3"
  },
  "language_info": {
   "codemirror_mode": {
    "name": "ipython",
    "version": 3
   },
   "file_extension": ".py",
   "mimetype": "text/x-python",
   "name": "python",
   "nbconvert_exporter": "python",
   "pygments_lexer": "ipython3",
   "version": "3.8.8"
  }
 },
 "nbformat": 4,
 "nbformat_minor": 5
}
