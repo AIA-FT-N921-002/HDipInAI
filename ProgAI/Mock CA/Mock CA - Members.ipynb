{
 "cells": [
  {
   "cell_type": "markdown",
   "id": "30cf16d7",
   "metadata": {},
   "source": [
    "Mock CA\n",
    "=====\n",
    "\n",
    "Requirements:\n",
    "----------\n",
    "+ ~Function `view_all_members`~\n",
    "+ View Relevant Data About a Particular Sport\n",
    "    + ~Total number members in a particular sport~\n",
    "    + Breakdown of how many members follow this sport by group age\n",
    "        + Ages between 12 and 86 splits into 4 groups\n",
    "    + Breakdown of how many male/female members in this particular sport\n",
    "+ A menu to choose 2 options (General and offer a way to search for the sport)\n",
    "+ Option to close the program\n",
    "+ Allow the user to see different analytics w/out having to run the program again\n",
    "+ Comment the code\n",
    "\n",
    "Marking Scheme\n",
    "---------\n",
    "+ User Menu: 15\n",
    "+ All members function: 10\n",
    "+ Sport search functionality: 20\n",
    "+ Analytics for a particular sport: 40\n",
    "+ Markdown cells include sensible reasoning for the design choices: 15"
   ]
  },
  {
   "cell_type": "code",
   "execution_count": 47,
   "id": "2373c540",
   "metadata": {},
   "outputs": [
    {
     "name": "stdout",
     "output_type": "stream",
     "text": [
      "yoga has 35 members\n",
      "\n",
      "yoga members by gender:\n",
      "Male: 9\n",
      "Female: 13\n",
      "Non-binary: 13\n",
      "\n",
      "yoga members by age group:\n",
      "Gen Z: 10\n",
      "Millennial: 7\n",
      "Gen X: 4\n",
      "Older Generations: 14\n"
     ]
    }
   ],
   "source": [
    "class Member:\n",
    "    def __init__(self, name, sport, gender, age):\n",
    "        self.name = name\n",
    "        self.sport = sport\n",
    "        self.gender = gender\n",
    "        self.age = age\n",
    "        self.age_group = self.get_age_group()\n",
    "        \n",
    "    def get_age_group(self):\n",
    "        if self.age <= 24:\n",
    "            return 'Gen Z'\n",
    "        \n",
    "        if self.age <= 40:\n",
    "            return 'Millennial'\n",
    "        \n",
    "        if self.age <= 56:\n",
    "            return 'Gen X'\n",
    "        \n",
    "        return 'Older Generations'\n",
    "\n",
    "    \n",
    "    \n",
    "def load_members_list_from_file():    \n",
    "    file = open(\"members.csv\",'r')    \n",
    "    lines = file.readlines()[1:]    \n",
    "    members = []\n",
    "    \n",
    "    for i in lines:\n",
    "        line = i.split(',')\n",
    "        line[4].replace('\\n','')\n",
    "        \n",
    "        member = Member(name=line[1], sport=line[2], gender=line[3], age=int(line[4]))\n",
    "        members.append(member)\n",
    "        \n",
    "    file.close()\n",
    "    \n",
    "    return members\n",
    "        \n",
    "\n",
    "def view_all_members(members):\n",
    "    members.sort(key=lambda x: x.sport)\n",
    "    \n",
    "    for member in members:\n",
    "        print(f'{member.sport}: {member.name}, {member.age}, {member.gender}')\n",
    "        \n",
    "\n",
    "def view_sport_member_by_gender(sport, members_by_sport):\n",
    "    genders = ['Male','Female','Non-binary']\n",
    "    print(f\"\\n{sport} members by gender:\")    \n",
    "    \n",
    "    for gender in genders:\n",
    "        total = len([m for m in members_by_sport if m.gender == gender])\n",
    "        print(f'{gender}: {total}')\n",
    "        \n",
    "\n",
    "def view_sport_member_by_age_group(sport, members_by_sport):\n",
    "    age_groups = ['Gen Z','Millennial','Gen X','Older Generations']\n",
    "    print(f\"\\n{sport} members by age group:\")    \n",
    "    \n",
    "    for age_group in age_groups:\n",
    "        total = len([m for m in members_by_sport if m.age_group == age_group])\n",
    "        print(f'{age_group}: {total}')\n",
    "        \n",
    "        \n",
    "def view_breakdown_by_sport(sport, members):\n",
    "    members_by_sport = [m for m in members if m.sport.lower() == sport.lower()]\n",
    "    total_members_by_sport = len(members_by_sport)    \n",
    "    print(f'{sport} has {total_members_by_sport} members in total')\n",
    "    \n",
    "    view_sport_member_by_gender(sport, members_by_sport)\n",
    "    view_sport_member_by_age_group(sport, members_by_sport)\n",
    "    \n",
    "        \n",
    "members = load_members_list_from_file()  \n",
    "# view_all_members(members)\n",
    "view_breakdown_by_sport('yoga', members)"
   ]
  },
  {
   "cell_type": "code",
   "execution_count": 18,
   "id": "d4c2a0bc",
   "metadata": {},
   "outputs": [
    {
     "name": "stdout",
     "output_type": "stream",
     "text": [
      "Gen Z (<= 24)\n"
     ]
    }
   ],
   "source": []
  },
  {
   "cell_type": "code",
   "execution_count": null,
   "id": "c82a19de",
   "metadata": {},
   "outputs": [],
   "source": []
  }
 ],
 "metadata": {
  "kernelspec": {
   "display_name": "Python 3",
   "language": "python",
   "name": "python3"
  },
  "language_info": {
   "codemirror_mode": {
    "name": "ipython",
    "version": 3
   },
   "file_extension": ".py",
   "mimetype": "text/x-python",
   "name": "python",
   "nbconvert_exporter": "python",
   "pygments_lexer": "ipython3",
   "version": "3.8.8"
  }
 },
 "nbformat": 4,
 "nbformat_minor": 5
}
