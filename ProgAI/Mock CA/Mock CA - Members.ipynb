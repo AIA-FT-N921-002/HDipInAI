{
 "cells": [
  {
   "cell_type": "markdown",
   "id": "30cf16d7",
   "metadata": {},
   "source": [
    "Mock CA\n",
    "=====\n",
    "\n",
    "Requirements:\n",
    "----------\n",
    "+ Function `view_all_members`\n",
    "+ View Relevant Data About a Particular Sport\n",
    "    + Total number members in a particular sport\n",
    "    + Breakdown of how many members follow this sport by group age\n",
    "        + Ages between 12 and 86 splits into 4 groups\n",
    "    + Breakdown of how many male/female members in this particular sport\n",
    "+ A menu to choose 2 options (General and offer a way to search for the sport)\n",
    "+ Option to close the program\n",
    "+ Allow the user to see different analytics w/out having to run the program again\n",
    "+ Comment the code\n",
    "\n",
    "Marking Scheme\n",
    "---------\n",
    "+ User Menu: 15\n",
    "+ All members function: 10\n",
    "+ Sport search functionality: 20\n",
    "+ Analytics for a particular sport: 40\n",
    "+ Markdown cells include sensible reasoning for the design choices: 15"
   ]
  },
  {
   "cell_type": "code",
   "execution_count": 11,
   "id": "2373c540",
   "metadata": {},
   "outputs": [
    {
     "name": "stdout",
     "output_type": "stream",
     "text": [
      "Aoife Wynn\n"
     ]
    }
   ],
   "source": [
    "class Member:\n",
    "    def __init__(self, name, sport, gender, age):\n",
    "        self.name = name\n",
    "        self.sport = sport\n",
    "        self.gender = gender\n",
    "        self.age = age\n",
    "        # self.group_age = sel\n",
    "        \n",
    "    # def get_group_age(self):\n",
    "\n",
    "    \n",
    "def load_members_list_from_file():    \n",
    "    file = open(\"members.csv\",'r')    \n",
    "    lines = file.readlines()[1:]    \n",
    "    members = []\n",
    "    \n",
    "    for i in lines:\n",
    "        line = i.split(',')\n",
    "        member = Member(name=line[1], sport=line[2], gender=line[3], age=line[4])\n",
    "        members.append(member)\n",
    "    file.close()\n",
    "    \n",
    "    return members\n",
    "        \n",
    "members = load_members_list_from_file()        \n"
   ]
  },
  {
   "cell_type": "code",
   "execution_count": null,
   "id": "d4c2a0bc",
   "metadata": {},
   "outputs": [],
   "source": []
  },
  {
   "cell_type": "code",
   "execution_count": null,
   "id": "c82a19de",
   "metadata": {},
   "outputs": [],
   "source": []
  }
 ],
 "metadata": {
  "kernelspec": {
   "display_name": "Python 3",
   "language": "python",
   "name": "python3"
  },
  "language_info": {
   "codemirror_mode": {
    "name": "ipython",
    "version": 3
   },
   "file_extension": ".py",
   "mimetype": "text/x-python",
   "name": "python",
   "nbconvert_exporter": "python",
   "pygments_lexer": "ipython3",
   "version": "3.8.8"
  }
 },
 "nbformat": 4,
 "nbformat_minor": 5
}
