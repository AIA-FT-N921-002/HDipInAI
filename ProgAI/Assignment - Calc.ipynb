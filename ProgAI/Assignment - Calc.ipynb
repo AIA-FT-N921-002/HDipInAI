{
 "cells": [
  {
   "cell_type": "code",
   "execution_count": 44,
   "id": "c8037d70",
   "metadata": {},
   "outputs": [
    {
     "name": "stdout",
     "output_type": "stream",
     "text": [
      "OPERATIONS: \n",
      "Addition.........: +\n",
      "Subtraction......: -\n",
      "Multiplication...: *\n",
      "Division.........: /\n",
      "select operation: +\n",
      "\n",
      "\n",
      "\n",
      "Addition: \n",
      "type a number (enter to sum): 2\n",
      "type a number (enter to sum): 2\n",
      "type a number (enter to sum): 2\n",
      "type a number (enter to sum): \n",
      "Result = 6\n"
     ]
    }
   ],
   "source": [
    "import math\n",
    "\n",
    "def print_menu_and_get_operation():        \n",
    "    print(\"OPERATIONS: \")\n",
    "    print(\"Addition.........: +\")\n",
    "    print(\"Subtraction......: -\")\n",
    "    print(\"Multiplication...: *\")\n",
    "    print(\"Division.........: /\")     \n",
    "    \n",
    "    operation = ''\n",
    "    \n",
    "    while '+-*/'.find(operation) < 0 or operation == '':\n",
    "        operation = input(\"select operation: \").strip()\n",
    "\n",
    "    return operation\n",
    "\n",
    "\n",
    "def run_operation(operation):\n",
    "    print(\"\\n\\n\")\n",
    "    if operation == '+':\n",
    "        run_addition()\n",
    "    elif operation == '-':\n",
    "        run_subtraction()\n",
    "    elif operation == '*':             \n",
    "        run_multiplication()\n",
    "    else:\n",
    "        run_division()        \n",
    "    \n",
    "        \n",
    "        \n",
    "def run_addition():\n",
    "    print(\"Addition: \")\n",
    "        \n",
    "    numbers = list()    \n",
    "    sum_input = None\n",
    "        \n",
    "    while sum_input != '':        \n",
    "        try:            \n",
    "            sum_input = input(\"type a number (enter to sum): \").strip()                       \n",
    "                \n",
    "            if (sum_input == ''):\n",
    "                total = sum(numbers)        \n",
    "                print(f\"Result = {total}\")  \n",
    "                break\n",
    "                \n",
    "            numbers.append(int(sum_input))\n",
    "            \n",
    "        except: \n",
    "            print('not a valid integer')     \n",
    "   \n",
    "\n",
    "    \n",
    "def run_subtraction():\n",
    "    print(\"Subtraction: \") \n",
    "    a = int(input(\"a:\"))\n",
    "    b = int(input(\"b:\"))\n",
    "    c = a - b\n",
    "    print(f\"Result = {a} - {b} = {c}\")\n",
    "    \n",
    "    \n",
    "    \n",
    "def run_multiplication():\n",
    "    print(\"Multiplication: \")\n",
    "    \n",
    "    numbers = list()    \n",
    "    sum_input = None\n",
    "        \n",
    "    while sum_input != '':        \n",
    "        try:            \n",
    "            sum_input = input(\"type a number (enter to multiply): \").strip()                       \n",
    "                \n",
    "            if (sum_input == ''):\n",
    "                result = math.prod(numbers)\n",
    "                print(f\"Result = {result}\")  \n",
    "                break\n",
    "                \n",
    "            numbers.append(int(sum_input))\n",
    "            \n",
    "        except: \n",
    "            print('not a valid integer')  \n",
    "    \n",
    "    \n",
    "\n",
    "def run_division():\n",
    "    print(\"Division: \")  \n",
    "    a = int(input(\"a:\"))\n",
    "    b = int(input(\"b:\"))\n",
    "    c = a / b\n",
    "    print(f\"Result = {a} / {b} = {c}\")\n",
    "    \n",
    "    \n",
    "    \n",
    "\n",
    "operation = print_menu_and_get_operation()\n",
    "run_operation(operation)\n",
    "\n",
    "\n"
   ]
  },
  {
   "cell_type": "code",
   "execution_count": 40,
   "id": "c9a5d6f6",
   "metadata": {},
   "outputs": [
    {
     "name": "stdout",
     "output_type": "stream",
     "text": [
      "what7\n",
      "False\n"
     ]
    }
   ],
   "source": [
    "print(input('what') == '')"
   ]
  },
  {
   "cell_type": "code",
   "execution_count": 34,
   "id": "efa4a24a",
   "metadata": {},
   "outputs": [
    {
     "name": "stdout",
     "output_type": "stream",
     "text": [
      "True\n"
     ]
    }
   ],
   "source": [
    "print(type(1) == int)"
   ]
  },
  {
   "cell_type": "code",
   "execution_count": null,
   "id": "aa2af156",
   "metadata": {},
   "outputs": [],
   "source": []
  }
 ],
 "metadata": {
  "kernelspec": {
   "display_name": "Python 3",
   "language": "python",
   "name": "python3"
  },
  "language_info": {
   "codemirror_mode": {
    "name": "ipython",
    "version": 3
   },
   "file_extension": ".py",
   "mimetype": "text/x-python",
   "name": "python",
   "nbconvert_exporter": "python",
   "pygments_lexer": "ipython3",
   "version": "3.8.8"
  }
 },
 "nbformat": 4,
 "nbformat_minor": 5
}
