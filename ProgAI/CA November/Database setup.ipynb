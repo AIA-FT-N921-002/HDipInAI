{
 "cells": [
  {
   "cell_type": "code",
   "execution_count": 1,
   "id": "f657c1de",
   "metadata": {},
   "outputs": [
    {
     "name": "stdout",
     "output_type": "stream",
     "text": [
      "INSERT INTO learners (first_name, student_number) VALUES (\"Victor\", \"2021324\");\n"
     ]
    }
   ],
   "source": [
    "import mysql.connector as sql\n",
    "\n",
    "def writing(first_name, student_number):\n",
    "    cnx = sql.connect(host='52.50.23.197',\n",
    "                  port='3306',\n",
    "                  user='student',\n",
    "                  password='student',\n",
    "                  database='wonderful_learners')\n",
    "    cursor = cnx.cursor()\n",
    "\n",
    "    query = 'INSERT INTO learners (first_name, student_number) VALUES (\"' + first_name + '\", \"' + str(student_number) + '\");'\n",
    "    print(query)\n",
    "    cursor.execute(query)\n",
    "\n",
    "    cnx.commit()\n",
    "    cnx.close()\n",
    "\n",
    "\n",
    "first_name = \"Victor\"\n",
    "student_number = \"2021324\"\n",
    "writing(first_name,student_number)"
   ]
  },
  {
   "cell_type": "code",
   "execution_count": null,
   "id": "c4d6e156",
   "metadata": {},
   "outputs": [],
   "source": []
  }
 ],
 "metadata": {
  "kernelspec": {
   "display_name": "Python 3",
   "language": "python",
   "name": "python3"
  },
  "language_info": {
   "codemirror_mode": {
    "name": "ipython",
    "version": 3
   },
   "file_extension": ".py",
   "mimetype": "text/x-python",
   "name": "python",
   "nbconvert_exporter": "python",
   "pygments_lexer": "ipython3",
   "version": "3.8.8"
  }
 },
 "nbformat": 4,
 "nbformat_minor": 5
}
