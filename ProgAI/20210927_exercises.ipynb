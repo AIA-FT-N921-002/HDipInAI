{
 "cells": [
  {
   "cell_type": "code",
   "execution_count": 7,
   "id": "1045a759",
   "metadata": {},
   "outputs": [
    {
     "name": "stdout",
     "output_type": "stream",
     "text": [
      "1\n",
      "2\n",
      "3\n",
      "4\n",
      "5\n",
      "6\n",
      "7\n",
      "8\n",
      "9\n",
      "10\n"
     ]
    }
   ],
   "source": [
    "# Exercises from https://pynative.com/python-if-else-and-for-loop-exercise-with-solutions/\n",
    "\n",
    "# Exercise 1: Print First 10 natural numbers using while loop\n",
    "num = 1\n",
    "while num <= 10:\n",
    "    print(num)\n",
    "    num += 1"
   ]
  },
  {
   "cell_type": "code",
   "execution_count": 13,
   "id": "47afed72",
   "metadata": {},
   "outputs": [
    {
     "name": "stdout",
     "output_type": "stream",
     "text": [
      " 1\n",
      " 1 2\n",
      " 1 2 3\n",
      " 1 2 3 4\n",
      " 1 2 3 4 5\n"
     ]
    }
   ],
   "source": [
    "# Exercise 2: Print the following pattern\n",
    "    \n",
    "str_num = \"\"\n",
    "for i in range(1, 6):\n",
    "    str_num = f'{str_num} {i}'\n",
    "    print(str_num)    "
   ]
  },
  {
   "cell_type": "code",
   "execution_count": null,
   "id": "9169366e",
   "metadata": {},
   "outputs": [],
   "source": [
    "# Exercise 3: Calculate the sum of all numbers from 1 to a given number\n",
    "\n",
    "num = int(input(\"Enter number \")"
   ]
  }
 ],
 "metadata": {
  "kernelspec": {
   "display_name": "Python 3",
   "language": "python",
   "name": "python3"
  },
  "language_info": {
   "codemirror_mode": {
    "name": "ipython",
    "version": 3
   },
   "file_extension": ".py",
   "mimetype": "text/x-python",
   "name": "python",
   "nbconvert_exporter": "python",
   "pygments_lexer": "ipython3",
   "version": "3.8.8"
  }
 },
 "nbformat": 4,
 "nbformat_minor": 5
}
