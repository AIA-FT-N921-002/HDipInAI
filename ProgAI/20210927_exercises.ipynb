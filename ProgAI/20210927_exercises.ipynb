{
 "cells": [
  {
   "cell_type": "code",
   "execution_count": 7,
   "id": "1045a759",
   "metadata": {},
   "outputs": [
    {
     "name": "stdout",
     "output_type": "stream",
     "text": [
      "1\n",
      "2\n",
      "3\n",
      "4\n",
      "5\n",
      "6\n",
      "7\n",
      "8\n",
      "9\n",
      "10\n"
     ]
    }
   ],
   "source": [
    "# Exercises from https://pynative.com/python-if-else-and-for-loop-exercise-with-solutions/\n",
    "\n",
    "# Exercise 1: Print First 10 natural numbers using while loop\n",
    "num = 1\n",
    "while num <= 10:\n",
    "    print(num)\n",
    "    num += 1"
   ]
  },
  {
   "cell_type": "code",
   "execution_count": 13,
   "id": "d815fb24",
   "metadata": {},
   "outputs": [
    {
     "name": "stdout",
     "output_type": "stream",
     "text": [
      " 1\n",
      " 1 2\n",
      " 1 2 3\n",
      " 1 2 3 4\n",
      " 1 2 3 4 5\n"
     ]
    }
   ],
   "source": [
    "# Exercise 2: Print the following pattern\n",
    "    \n",
    "str_num = \"\"\n",
    "for i in range(1, 6):\n",
    "    str_num = f'{str_num} {i}'\n",
    "    print(str_num)    "
   ]
  },
  {
   "cell_type": "code",
   "execution_count": 19,
   "id": "81ec1c76",
   "metadata": {},
   "outputs": [
    {
     "name": "stdout",
     "output_type": "stream",
     "text": [
      "Enter number 10\n",
      "Sum is: 55\n"
     ]
    }
   ],
   "source": [
    "# Exercise 3: Calculate the sum of all numbers from 1 to a given number\n",
    "\n",
    "num = int(input(\"Enter number \"))\n",
    "total = sum([i for i in range(1, num + 1)])\n",
    "print(f'Sum is: {total}')"
   ]
  },
  {
   "cell_type": "code",
   "execution_count": 29,
   "id": "53d31f77",
   "metadata": {},
   "outputs": [
    {
     "name": "stdout",
     "output_type": "stream",
     "text": [
      "Enter number 2\n",
      "2\n",
      "4\n",
      "6\n",
      "8\n",
      "10\n",
      "12\n",
      "14\n",
      "16\n",
      "18\n",
      "20\n"
     ]
    }
   ],
   "source": [
    "# Exercise 4: Write a program to print multiplication table of a given number\n",
    "\n",
    "valid_number = False\n",
    "\n",
    "while valid_number is False:\n",
    "    num = int(input(\"Enter number \"))\n",
    "    if num < 0 or num > 10:\n",
    "        print('number can\\'t be < 0 nor > 10')\n",
    "    else:\n",
    "        valid_number = True  \n",
    "        \n",
    "stop_num = num * 11         \n",
    "\n",
    "for i in range(num, stop_num, num):\n",
    "    print(i)\n",
    "    \n",
    "\n",
    "\n",
    "\n",
    "    "
   ]
  },
  {
   "cell_type": "code",
   "execution_count": 7,
   "id": "d6e9ca48",
   "metadata": {},
   "outputs": [
    {
     "name": "stdout",
     "output_type": "stream",
     "text": [
      "75\n",
      "150\n",
      "145\n"
     ]
    }
   ],
   "source": [
    "# Exercise 5: Display numbers from a list using loop\n",
    "\n",
    "numbers = [12, 75, 150, 180, 145, 525, 50]\n",
    "\n",
    "i = 0\n",
    "\n",
    "while numbers[i] <= 500:     \n",
    "    if numbers[i] % 5 == 0 and numbers[i] <= 150:\n",
    "        print(numbers[i])  \n",
    "    i += 1"
   ]
  },
  {
   "cell_type": "code",
   "execution_count": 14,
   "id": "91c17c0d",
   "metadata": {},
   "outputs": [
    {
     "name": "stdout",
     "output_type": "stream",
     "text": [
      "5\n",
      "Total digits are: 5\n"
     ]
    }
   ],
   "source": [
    "# Exercise 6: Count the total number of digits in a number\n",
    "num = str(75869)\n",
    "i = 0\n",
    "count = 0\n",
    "\n",
    "while i < len(num):\n",
    "    # print(num[i])\n",
    "    i += 1\n",
    "    \n",
    "print(i)   \n",
    "\n",
    "# solution\n",
    "\n",
    "num = 75869\n",
    "count = 0\n",
    "while num != 0:\n",
    "    # floor division\n",
    "    # to reduce the last digit from number\n",
    "    num = num // 10\n",
    "\n",
    "    # increment counter by 1\n",
    "    count = count + 1\n",
    "print(\"Total digits are:\", count)\n",
    "\n",
    "\n"
   ]
  },
  {
   "cell_type": "code",
   "execution_count": 28,
   "id": "b4344b70",
   "metadata": {},
   "outputs": [
    {
     "name": "stdout",
     "output_type": "stream",
     "text": [
      "5 4 3 2 1 \n",
      "4 3 2 1 \n",
      "3 2 1 \n",
      "2 1 \n",
      "1 \n"
     ]
    }
   ],
   "source": [
    "# Exercise 7: Print the following pattern\n",
    "\n",
    "for i in range(5, 0, -1):\n",
    "    for j in range(i, 0, -1):\n",
    "        print(j, end=' ')\n",
    "    print()\n",
    "    "
   ]
  },
  {
   "cell_type": "code",
   "execution_count": 30,
   "id": "5a207d56",
   "metadata": {},
   "outputs": [
    {
     "name": "stdout",
     "output_type": "stream",
     "text": [
      "50\n",
      "40\n",
      "30\n",
      "20\n",
      "10\n"
     ]
    }
   ],
   "source": [
    "# Exercise 8: Print list in reverse order using a loop\n",
    "list1 = [10,20,30,40,50]\n",
    "for i in reversed(list1):\n",
    "    print(i)\n"
   ]
  },
  {
   "cell_type": "code",
   "execution_count": 31,
   "id": "37f22679",
   "metadata": {},
   "outputs": [
    {
     "name": "stdout",
     "output_type": "stream",
     "text": [
      "-10\n",
      "-9\n",
      "-8\n",
      "-7\n",
      "-6\n",
      "-5\n",
      "-4\n",
      "-3\n",
      "-2\n",
      "-1\n"
     ]
    }
   ],
   "source": [
    "#Exercise 9: Display numbers from -10 to -1 using for loop\n",
    "\n",
    "for i in range(-10, 0, 1):\n",
    "    print(i)"
   ]
  },
  {
   "cell_type": "code",
   "execution_count": 33,
   "id": "1798b8a4",
   "metadata": {},
   "outputs": [
    {
     "name": "stdout",
     "output_type": "stream",
     "text": [
      "0\n",
      "1\n",
      "2\n",
      "3\n",
      "4\n",
      "Done!\n"
     ]
    }
   ],
   "source": [
    "# Exercise 10: Use else block to display a message “Done” after successful execution of for loop\n",
    "\n",
    "for i in range(5):\n",
    "    print(i)\n",
    "else:\n",
    "    print('Done!')\n",
    "    "
   ]
  },
  {
   "cell_type": "code",
   "execution_count": 38,
   "id": "4c813911",
   "metadata": {},
   "outputs": [
    {
     "name": "stdout",
     "output_type": "stream",
     "text": [
      "29\n",
      "31\n",
      "37\n",
      "41\n",
      "43\n",
      "47\n"
     ]
    }
   ],
   "source": [
    "#Exercise 11: Write a program to display all prime numbers within a range\n",
    "\n",
    "start = 25\n",
    "end = 50\n",
    "\n",
    "for i in range(25, 51, 1):\n",
    "    is_prime = True\n",
    "    \n",
    "    for j in range(1, 51):        \n",
    "        if i % j == 0 and j != 1 and j != i:\n",
    "            is_prime = False\n",
    "            break\n",
    "            \n",
    "    if is_prime:\n",
    "        print(i) "
   ]
  },
  {
   "cell_type": "code",
   "execution_count": 49,
   "id": "f3a02e39",
   "metadata": {},
   "outputs": [
    {
     "name": "stdout",
     "output_type": "stream",
     "text": [
      "0 1 1 2 3 5 8 13 21 34 "
     ]
    }
   ],
   "source": [
    "# Exercise 12: Display Fibonacci series up to 10 terms\n",
    "\n",
    "a, b = 0, 1\n",
    "for i in range(10):\n",
    "    print(a, end=' ')\n",
    "    a, b = b, a + b   \n",
    "    "
   ]
  },
  {
   "cell_type": "code",
   "execution_count": 57,
   "id": "58b943f3",
   "metadata": {},
   "outputs": [
    {
     "name": "stdout",
     "output_type": "stream",
     "text": [
      "120\n",
      "120\n"
     ]
    }
   ],
   "source": [
    "# Exercise 13: Find the factorial of a given number\n",
    "\n",
    "factorial = 1\n",
    "for i in range(1,6):\n",
    "    factorial = factorial * i\n",
    "else:\n",
    "    print(factorial)\n",
    "    \n",
    "# using recursion    \n",
    "    \n",
    "def get_factorial(n):\n",
    "    if n == 0:\n",
    "        return 1\n",
    "    else:\n",
    "        return n * get_factorial(n - 1)\n",
    "        \n",
    "print(get_factorial(5))        "
   ]
  },
  {
   "cell_type": "code",
   "execution_count": 74,
   "id": "c4abd426",
   "metadata": {},
   "outputs": [
    {
     "name": "stdout",
     "output_type": "stream",
     "text": [
      "24567\n"
     ]
    }
   ],
   "source": [
    "# Exercise 14: Reverse a given integer number\n",
    "\n",
    "given = 76542\n",
    "expected = [i for i in reversed(str(given))]\n",
    "print(''.join(expected))    "
   ]
  },
  {
   "cell_type": "code",
   "execution_count": 83,
   "id": "356cb69f",
   "metadata": {},
   "outputs": [
    {
     "name": "stdout",
     "output_type": "stream",
     "text": [
      "20 40 60 80 100 "
     ]
    }
   ],
   "source": [
    "# Exercise 15: Use a loop to display elements from a given list present at odd index positions\n",
    "\n",
    "my_list = [10,20,30,40,50,60,70,80,90,100]\n",
    "\n",
    "# for i in range(1, len(my_list), 2):\n",
    "for i in my_list[1::2]:\n",
    "    print(i, end=' ')"
   ]
  },
  {
   "cell_type": "code",
   "execution_count": 89,
   "id": "0561c8a3",
   "metadata": {},
   "outputs": [
    {
     "name": "stdout",
     "output_type": "stream",
     "text": [
      "Current Number is 1 and the cube is 1\n",
      "Current Number is 2 and the cube is 8\n",
      "Current Number is 3 and the cube is 27\n",
      "Current Number is 4 and the cube is 64\n",
      "Current Number is 5 and the cube is 125\n",
      "Current Number is 6 and the cube is 216\n"
     ]
    }
   ],
   "source": [
    "# Exercise 16: Calculate the cube of all numbers from 1 to a given number\n",
    "input_number = 6\n",
    "for i in range(1, input_number + 1):\n",
    "    cube = i**3\n",
    "    print(f'Current Number is {i} and the cube is {cube}')"
   ]
  },
  {
   "cell_type": "code",
   "execution_count": 91,
   "id": "f721c5d6",
   "metadata": {},
   "outputs": [
    {
     "name": "stdout",
     "output_type": "stream",
     "text": [
      "['2']\n",
      "['2', '2']\n",
      "['2', '2', '2']\n",
      "['2', '2', '2', '2']\n",
      "['2', '2', '2', '2', '2']\n"
     ]
    }
   ],
   "source": [
    "# Exercise 17: Find the sum of the series upto n terms\n",
    "\n",
    "total = 0\n",
    "for i in range(1,6):\n",
    "    num = ['2' for j in range(i)]\n",
    "    print(num)"
   ]
  },
  {
   "cell_type": "code",
   "execution_count": null,
   "id": "823e925b",
   "metadata": {},
   "outputs": [],
   "source": []
  }
 ],
 "metadata": {
  "kernelspec": {
   "display_name": "Python 3",
   "language": "python",
   "name": "python3"
  },
  "language_info": {
   "codemirror_mode": {
    "name": "ipython",
    "version": 3
   },
   "file_extension": ".py",
   "mimetype": "text/x-python",
   "name": "python",
   "nbconvert_exporter": "python",
   "pygments_lexer": "ipython3",
   "version": "3.8.8"
  }
 },
 "nbformat": 4,
 "nbformat_minor": 5
}
