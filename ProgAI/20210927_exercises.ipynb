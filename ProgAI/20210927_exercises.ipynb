{
 "cells": [
  {
   "cell_type": "code",
   "execution_count": 7,
   "id": "1045a759",
   "metadata": {},
   "outputs": [
    {
     "name": "stdout",
     "output_type": "stream",
     "text": [
      "1\n",
      "2\n",
      "3\n",
      "4\n",
      "5\n",
      "6\n",
      "7\n",
      "8\n",
      "9\n",
      "10\n"
     ]
    }
   ],
   "source": [
    "# Exercises from https://pynative.com/python-if-else-and-for-loop-exercise-with-solutions/\n",
    "\n",
    "# Exercise 1: Print First 10 natural numbers using while loop\n",
    "num = 1\n",
    "while num <= 10:\n",
    "    print(num)\n",
    "    num += 1"
   ]
  },
  {
   "cell_type": "code",
   "execution_count": 13,
   "id": "1fec9b7a",
   "metadata": {},
   "outputs": [
    {
     "name": "stdout",
     "output_type": "stream",
     "text": [
      " 1\n",
      " 1 2\n",
      " 1 2 3\n",
      " 1 2 3 4\n",
      " 1 2 3 4 5\n"
     ]
    }
   ],
   "source": [
    "# Exercise 2: Print the following pattern\n",
    "    \n",
    "str_num = \"\"\n",
    "for i in range(1, 6):\n",
    "    str_num = f'{str_num} {i}'\n",
    "    print(str_num)    "
   ]
  },
  {
   "cell_type": "code",
   "execution_count": 19,
   "id": "da2645eb",
   "metadata": {},
   "outputs": [
    {
     "name": "stdout",
     "output_type": "stream",
     "text": [
      "Enter number 10\n",
      "Sum is: 55\n"
     ]
    }
   ],
   "source": [
    "# Exercise 3: Calculate the sum of all numbers from 1 to a given number\n",
    "\n",
    "num = int(input(\"Enter number \"))\n",
    "total = sum([i for i in range(1, num + 1)])\n",
    "print(f'Sum is: {total}')"
   ]
  },
  {
   "cell_type": "code",
   "execution_count": 29,
   "id": "318da762",
   "metadata": {},
   "outputs": [
    {
     "name": "stdout",
     "output_type": "stream",
     "text": [
      "Enter number 2\n",
      "2\n",
      "4\n",
      "6\n",
      "8\n",
      "10\n",
      "12\n",
      "14\n",
      "16\n",
      "18\n",
      "20\n"
     ]
    }
   ],
   "source": [
    "# Exercise 4: Write a program to print multiplication table of a given number\n",
    "\n",
    "valid_number = False\n",
    "\n",
    "while valid_number is False:\n",
    "    num = int(input(\"Enter number \"))\n",
    "    if num < 0 or num > 10:\n",
    "        print('number can\\'t be < 0 nor > 10')\n",
    "    else:\n",
    "        valid_number = True  \n",
    "        \n",
    "stop_num = num * 11         \n",
    "\n",
    "for i in range(num, stop_num, num):\n",
    "    print(i)\n",
    "    \n",
    "\n",
    "\n",
    "\n",
    "    "
   ]
  },
  {
   "cell_type": "code",
   "execution_count": null,
   "id": "c26afcc6",
   "metadata": {},
   "outputs": [],
   "source": []
  },
  {
   "cell_type": "code",
   "execution_count": null,
   "id": "12b3743b",
   "metadata": {},
   "outputs": [],
   "source": []
  }
 ],
 "metadata": {
  "kernelspec": {
   "display_name": "Python 3",
   "language": "python",
   "name": "python3"
  },
  "language_info": {
   "codemirror_mode": {
    "name": "ipython",
    "version": 3
   },
   "file_extension": ".py",
   "mimetype": "text/x-python",
   "name": "python",
   "nbconvert_exporter": "python",
   "pygments_lexer": "ipython3",
   "version": "3.8.8"
  }
 },
 "nbformat": 4,
 "nbformat_minor": 5
}
