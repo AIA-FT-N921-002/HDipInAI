{
 "cells": [
  {
   "cell_type": "code",
   "execution_count": 1,
   "id": "70eb4b37",
   "metadata": {},
   "outputs": [
    {
     "name": "stdout",
     "output_type": "stream",
     "text": [
      "x: 8\n",
      "y: 7\n",
      "At least one of the conditions is satified\n"
     ]
    }
   ],
   "source": [
    "x = int(input(\"x: \"))\n",
    "y = int(input(\"y: \"))\n",
    "\n",
    "if x > 3 or y % 2 == 0:\n",
    "    print('At least one of the conditions is satified')\n",
    "else:\n",
    "    print('Neither condition is satisfied')"
   ]
  },
  {
   "cell_type": "code",
   "execution_count": 2,
   "id": "e82263f6",
   "metadata": {},
   "outputs": [
    {
     "name": "stdout",
     "output_type": "stream",
     "text": [
      "n: 8\n",
      "1\n",
      "12\n",
      "123\n",
      "1234\n",
      "12345\n",
      "123456\n",
      "1234567\n",
      "12345678\n"
     ]
    }
   ],
   "source": [
    "n = int(input(\"n: \"))\n",
    "\n",
    "str_x=\"\"\n",
    "for x in range(n):    \n",
    "    str_x = str_x + str(x+1)\n",
    "    print (str_x)        \n"
   ]
  },
  {
   "cell_type": "code",
   "execution_count": 4,
   "id": "3ee18461",
   "metadata": {},
   "outputs": [
    {
     "name": "stdout",
     "output_type": "stream",
     "text": [
      "1\n",
      "\n",
      "12\n",
      "\n",
      "123\n",
      "\n",
      "1234\n",
      "\n",
      "12345\n",
      "\n",
      "123456\n",
      "\n",
      "1234567\n",
      "\n",
      "12345678\n",
      "\n"
     ]
    }
   ],
   "source": [
    "for x in range(1, n + 1):\n",
    "    for y in range(1, x + 1):\n",
    "        print(y, end='') \n",
    "    print(\"\\n\")"
   ]
  },
  {
   "cell_type": "code",
   "execution_count": 5,
   "id": "613e3c27",
   "metadata": {},
   "outputs": [
    {
     "name": "stdout",
     "output_type": "stream",
     "text": [
      "1\n",
      "12\n",
      "123\n",
      "1234\n",
      "12345\n",
      "123456\n",
      "1234567\n",
      "12345678\n"
     ]
    }
   ],
   "source": [
    "x = 0\n",
    "str_x = \"\"\n",
    "while x < n:\n",
    "    str_x = str_x + str(x+1)\n",
    "    print (str_x) \n",
    "    x = x + 1"
   ]
  },
  {
   "cell_type": "code",
   "execution_count": 6,
   "id": "fad1287b",
   "metadata": {},
   "outputs": [
    {
     "name": "stdout",
     "output_type": "stream",
     "text": [
      "birth year: 287\n",
      "birth year: 1900\n"
     ]
    }
   ],
   "source": [
    "validAnswer = False\n",
    "\n",
    "while not validAnswer:\n",
    "    try:\n",
    "        year = int(input(\"birth year: \"))        \n",
    "        validAnswer = 1900 <= year <= 2020            \n",
    "    except:\n",
    "        print('\\ninvalid value!')\n",
    "        "
   ]
  },
  {
   "cell_type": "code",
   "execution_count": null,
   "id": "983416ca",
   "metadata": {},
   "outputs": [],
   "source": []
  }
 ],
 "metadata": {
  "kernelspec": {
   "display_name": "Python 3",
   "language": "python",
   "name": "python3"
  },
  "language_info": {
   "codemirror_mode": {
    "name": "ipython",
    "version": 3
   },
   "file_extension": ".py",
   "mimetype": "text/x-python",
   "name": "python",
   "nbconvert_exporter": "python",
   "pygments_lexer": "ipython3",
   "version": "3.8.8"
  }
 },
 "nbformat": 4,
 "nbformat_minor": 5
}
