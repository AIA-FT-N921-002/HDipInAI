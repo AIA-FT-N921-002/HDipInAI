{
 "cells": [
  {
   "cell_type": "code",
   "execution_count": 7,
   "id": "8605e32d",
   "metadata": {},
   "outputs": [],
   "source": [
    "# import mysql.connector"
   ]
  },
  {
   "cell_type": "code",
   "execution_count": 6,
   "id": "dee82bca",
   "metadata": {},
   "outputs": [
    {
     "name": "stdout",
     "output_type": "stream",
     "text": [
      "Collecting mysql-connector-python\n",
      "  Downloading mysql_connector_python-8.0.27-1commercial-cp38-cp38-win_amd64.whl (7.7 MB)\n",
      "Collecting protobuf>=3.0.0\n",
      "  Downloading protobuf-3.19.1-cp38-cp38-win_amd64.whl (895 kB)\n",
      "Installing collected packages: protobuf, mysql-connector-python\n",
      "Successfully installed mysql-connector-python-8.0.27 protobuf-3.19.1\n"
     ]
    }
   ],
   "source": [
    "!pip install mysql-connector-python"
   ]
  },
  {
   "cell_type": "code",
   "execution_count": 13,
   "id": "09512b3a",
   "metadata": {},
   "outputs": [],
   "source": [
    "import mysql.connector as sql"
   ]
  },
  {
   "cell_type": "code",
   "execution_count": 14,
   "id": "c666dade",
   "metadata": {},
   "outputs": [],
   "source": [
    "cnx = sql.connect(host='localhost', port='33060', user='homestead', password='secret')\n",
    "\n",
    "cursor = cnx.cursor()\n",
    "\n",
    "query = \"INSERT INTO expert_stats_tmp (LastName, FirstName, Age) VALUES ('Lovelace', 'Ada', 36) \"\n",
    "\n",
    "cnx.close()"
   ]
  },
  {
   "cell_type": "code",
   "execution_count": null,
   "id": "2c924d5b",
   "metadata": {},
   "outputs": [],
   "source": []
  }
 ],
 "metadata": {
  "kernelspec": {
   "display_name": "Python 3",
   "language": "python",
   "name": "python3"
  },
  "language_info": {
   "codemirror_mode": {
    "name": "ipython",
    "version": 3
   },
   "file_extension": ".py",
   "mimetype": "text/x-python",
   "name": "python",
   "nbconvert_exporter": "python",
   "pygments_lexer": "ipython3",
   "version": "3.8.8"
  }
 },
 "nbformat": 4,
 "nbformat_minor": 5
}
