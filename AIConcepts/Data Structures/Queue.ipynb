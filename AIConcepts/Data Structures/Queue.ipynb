{
 "cells": [
  {
   "cell_type": "markdown",
   "metadata": {},
   "source": [
    "## Queue"
   ]
  },
  {
   "cell_type": "markdown",
   "metadata": {},
   "source": [
    "Python program to demonstrate queue implementation using collections.dequeue "
   ]
  },
  {
   "cell_type": "code",
   "execution_count": 1,
   "metadata": {},
   "outputs": [],
   "source": [
    "from collections import deque "
   ]
  },
  {
   "cell_type": "markdown",
   "metadata": {},
   "source": [
    "Initializing a queue "
   ]
  },
  {
   "cell_type": "code",
   "execution_count": 2,
   "metadata": {},
   "outputs": [],
   "source": [
    "q = deque() "
   ]
  },
  {
   "cell_type": "markdown",
   "metadata": {},
   "source": [
    "Adding elements to a queue "
   ]
  },
  {
   "cell_type": "code",
   "execution_count": 3,
   "metadata": {},
   "outputs": [
    {
     "name": "stdout",
     "output_type": "stream",
     "text": [
      "Initial queue\n",
      "deque(['a', 'b', 'c'])\n",
      "<class 'collections.deque'>\n"
     ]
    }
   ],
   "source": [
    "q.append('a') \n",
    "q.append('b') \n",
    "q.append('c') \n",
    "\n",
    "print(\"Initial queue\") \n",
    "print(q) \n",
    "print(type(q))"
   ]
  },
  {
   "cell_type": "markdown",
   "metadata": {},
   "source": [
    "Removing elements from a queue "
   ]
  },
  {
   "cell_type": "code",
   "execution_count": 4,
   "metadata": {},
   "outputs": [
    {
     "name": "stdout",
     "output_type": "stream",
     "text": [
      "\n",
      "Elements dequeued from the queue\n",
      "a\n",
      "b\n",
      "c\n",
      "\n",
      "Queue after removing elements\n",
      "deque([])\n"
     ]
    }
   ],
   "source": [
    "print(\"\\nElements dequeued from the queue\") \n",
    "print(q.popleft()) \n",
    "print(q.popleft()) \n",
    "print(q.popleft()) \n",
    "\n",
    "print(\"\\nQueue after removing elements\") \n",
    "print(q) "
   ]
  },
  {
   "cell_type": "code",
   "execution_count": 5,
   "metadata": {},
   "outputs": [],
   "source": [
    "class ListQueue:\n",
    "\n",
    "    def __init__(self):\n",
    "        self.items = []\n",
    "        self.size = 0\n",
    "\n",
    "    def empty(self):\n",
    "        return self.items == []\n",
    "\n",
    "    def enqueue(self, data):\n",
    "        self.items.insert(0, data)\n",
    "        self.size += 1\n",
    "\n",
    "    def dequeue(self):\n",
    "        data = self.items.pop()\n",
    "        self.size -= 1\n",
    "        return data\n",
    "\n",
    "    def size(self):\n",
    "        return self.size\n",
    "\n",
    "list_queue = ListQueue()\n"
   ]
  },
  {
   "cell_type": "code",
   "execution_count": 6,
   "metadata": {},
   "outputs": [
    {
     "name": "stdout",
     "output_type": "stream",
     "text": [
      "--- 2.7449252605438232 seconds ---\n"
     ]
    }
   ],
   "source": [
    "import time\n",
    "start_time = time.time()\n",
    "for i in range(100000):\n",
    "    #print(i)\n",
    "    list_queue.enqueue(i)\n",
    "for i in range(100000):\n",
    "    list_queue.dequeue()\n",
    "print(\"--- %s seconds ---\" % (time.time() - start_time))"
   ]
  },
  {
   "cell_type": "code",
   "execution_count": null,
   "metadata": {},
   "outputs": [],
   "source": []
  }
 ],
 "metadata": {
  "kernelspec": {
   "display_name": "Python 3",
   "language": "python",
   "name": "python3"
  },
  "language_info": {
   "codemirror_mode": {
    "name": "ipython",
    "version": 3
   },
   "file_extension": ".py",
   "mimetype": "text/x-python",
   "name": "python",
   "nbconvert_exporter": "python",
   "pygments_lexer": "ipython3",
   "version": "3.8.8"
  }
 },
 "nbformat": 4,
 "nbformat_minor": 4
}
