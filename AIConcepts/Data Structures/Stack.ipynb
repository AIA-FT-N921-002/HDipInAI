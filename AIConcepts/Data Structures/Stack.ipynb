{
 "cells": [
  {
   "cell_type": "markdown",
   "metadata": {},
   "source": [
    "## Stack"
   ]
  },
  {
   "cell_type": "markdown",
   "metadata": {},
   "source": [
    "Python program to demonstrate stack implementation using inbuilt list "
   ]
  },
  {
   "cell_type": "markdown",
   "metadata": {},
   "source": [
    "Initializing a stack"
   ]
  },
  {
   "cell_type": "code",
   "execution_count": 5,
   "metadata": {},
   "outputs": [],
   "source": [
    "myStack = []"
   ]
  },
  {
   "cell_type": "markdown",
   "metadata": {},
   "source": [
    "Adding elements to a stack"
   ]
  },
  {
   "cell_type": "code",
   "execution_count": 6,
   "metadata": {},
   "outputs": [
    {
     "name": "stdout",
     "output_type": "stream",
     "text": [
      "Initial stack\n",
      "['a', 'b', 'c']\n"
     ]
    }
   ],
   "source": [
    "myStack.append('a') \n",
    "myStack.append('b') \n",
    "myStack.append('c') \n",
    "\n",
    "print(\"Initial stack\") \n",
    "print(myStack) "
   ]
  },
  {
   "cell_type": "markdown",
   "metadata": {},
   "source": [
    "Removing elements from a queue "
   ]
  },
  {
   "cell_type": "code",
   "execution_count": 7,
   "metadata": {},
   "outputs": [
    {
     "name": "stdout",
     "output_type": "stream",
     "text": [
      "\n",
      "Elements removed from the stack\n",
      "c\n",
      "['a', 'b']\n",
      "b\n",
      "['a']\n",
      "a\n",
      "\n",
      "Notice order of removal - Last in, First Out\n",
      "\n",
      "Stack after removing elements\n",
      "[]\n"
     ]
    }
   ],
   "source": [
    "print(\"\\nElements removed from the stack\") \n",
    "print(myStack.pop())\n",
    "print(myStack)\n",
    "print(myStack.pop()) \n",
    "print(myStack)\n",
    "print(myStack.pop())\n",
    "print(\"\\nNotice order of removal - Last in, First Out\") \n",
    "\n",
    "print(\"\\nStack after removing elements\") \n",
    "print(myStack) "
   ]
  },
  {
   "cell_type": "code",
   "execution_count": null,
   "metadata": {},
   "outputs": [],
   "source": []
  }
 ],
 "metadata": {
  "kernelspec": {
   "display_name": "Python 3",
   "language": "python",
   "name": "python3"
  },
  "language_info": {
   "codemirror_mode": {
    "name": "ipython",
    "version": 3
   },
   "file_extension": ".py",
   "mimetype": "text/x-python",
   "name": "python",
   "nbconvert_exporter": "python",
   "pygments_lexer": "ipython3",
   "version": "3.8.8"
  }
 },
 "nbformat": 4,
 "nbformat_minor": 4
}
