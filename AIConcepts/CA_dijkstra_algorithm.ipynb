{
 "cells": [
  {
   "cell_type": "code",
   "execution_count": 1,
   "metadata": {},
   "outputs": [],
   "source": [
    "import heapq\n",
    "import pandas as pd\n",
    "import networkx as nx\n",
    "import matplotlib.pyplot as plt"
   ]
  },
  {
   "cell_type": "code",
   "execution_count": 2,
   "metadata": {},
   "outputs": [],
   "source": [
    "def calculate_distances(graph, starting_vertex):\n",
    "    distances = {vertex: float('infinity') for vertex in graph}\n",
    "    distances[starting_vertex] = 0\n",
    "\n",
    "    pq = [(0, starting_vertex)]\n",
    "    \n",
    "    while len(pq) > 0:\n",
    "        current_distance, current_vertex = heapq.heappop(pq)\n",
    "\n",
    "        # Nodes can get added to the priority queue multiple times. We only\n",
    "        # process a vertex the first time we remove it from the priority queue.\n",
    "        if current_distance > distances[current_vertex]:\n",
    "            continue\n",
    "\n",
    "        for neighbor, weight in graph[current_vertex].items():\n",
    "            distance = current_distance + weight\n",
    "\n",
    "            # Only consider this new path if it's better than any path we've\n",
    "            # already found.\n",
    "            if distance < distances[neighbor]:\n",
    "                distances[neighbor] = distance\n",
    "                heapq.heappush(pq, (distance, neighbor))\n",
    "\n",
    "    return distances"
   ]
  },
  {
   "cell_type": "code",
   "execution_count": 3,
   "metadata": {},
   "outputs": [],
   "source": [
    "airport_graph_dict = {\n",
    "    'Seattle': {'San Francisco':807,'Denver':1331,'Chicago':2097},\n",
    "    'San Francisco': {'Seattle':807,'Denver':1267,'Los Angeles':381},\n",
    "    'Los Angeles': {'San Francisco':381,'Denver':1015,'Kansas City':1663,'Dallas':1435},\n",
    "    'Denver': {'Seattle':1331,'San Francisco':1267,'Los Angeles':1015,'Kansas City':599,'Chicago':1003},\n",
    "    'Chicago': {'Seattle':2097,'Denver':1003,'Kansas City':533,'New York':787,'Boston':983},\n",
    "    'Boston': {'Chicago':983,'New York':214},\n",
    "    'New York': {'Boston':214,'Chicago':787,'Kansas City':1260,'Atlanta':888},\n",
    "    'Kansas City': {'Chicago':533,'New York':1260,'Atlanta':864,'Dallas':496,'Los Angeles':1663,'Denver':599},\n",
    "    'Atlanta': {'New York':888,'Miami':661,'Houston':810,'Dallas':781,'Kansas City':864},\n",
    "    'Dallas': {'Atlanta':781,'Houston':239,'Los Angeles':1435,'Kansas City':496},\n",
    "    'Houston': {'Dallas':239,'Atlanta':810,'Miami':1187},\n",
    "    'Miami': {'Houston':1187,'Atlanta':661}\n",
    "}"
   ]
  },
  {
   "cell_type": "code",
   "execution_count": 4,
   "metadata": {},
   "outputs": [
    {
     "name": "stdout",
     "output_type": "stream",
     "text": [
      "{'Seattle': 0, 'San Francisco': 807, 'Los Angeles': 1188, 'Denver': 1331, 'Chicago': 2097, 'Boston': 3080, 'New York': 2884, 'Kansas City': 1930, 'Atlanta': 2794, 'Dallas': 2426, 'Houston': 2665, 'Miami': 3455}\n"
     ]
    }
   ],
   "source": [
    "print(calculate_distances(airport_graph_dict, 'Seattle'))"
   ]
  },
  {
   "cell_type": "code",
   "execution_count": 6,
   "metadata": {},
   "outputs": [],
   "source": [
    "graph_airports_table = open(\"graph_airports_table.csv\",\"w\")\n",
    "graph_airports_table.write('source,target,type,weight\\n')\n",
    "\n",
    "for i in airport_graph_dict.keys():\n",
    "    for j in airport_graph_dict[i].keys():\n",
    "        source = i\n",
    "        target = j\n",
    "        weight = int(airport_graph_dict[i][j])\n",
    "        graph_airports_table.write(f'{source},{target},Undirected,{weight}\\n')\n",
    "        \n",
    "graph_airports_table.close()        "
   ]
  },
  {
   "cell_type": "code",
   "execution_count": 7,
   "metadata": {},
   "outputs": [],
   "source": [
    "airports_pd = pd.read_csv(\"graph_airports_table.csv\")\n",
    "# print(airports_pd)"
   ]
  },
  {
   "cell_type": "code",
   "execution_count": 27,
   "metadata": {},
   "outputs": [],
   "source": [
    "airport_g = nx.from_pandas_edgelist(airports_pd, source='source', target='target', edge_attr='weight')"
   ]
  },
  {
   "cell_type": "code",
   "execution_count": 28,
   "metadata": {},
   "outputs": [],
   "source": [
    "# nx.draw(airport_g)"
   ]
  },
  {
   "cell_type": "code",
   "execution_count": 30,
   "metadata": {},
   "outputs": [
    {
     "data": {
      "text/html": [
       "\n",
       "        <iframe\n",
       "            width=\"800\"\n",
       "            height=\"500px\"\n",
       "            src=\"example.html\"\n",
       "            frameborder=\"0\"\n",
       "            allowfullscreen\n",
       "        ></iframe>\n",
       "        "
      ],
      "text/plain": [
       "<IPython.lib.display.IFrame at 0x2475ef08580>"
      ]
     },
     "execution_count": 30,
     "metadata": {},
     "output_type": "execute_result"
    }
   ],
   "source": [
    "# !pip install pyvis\n",
    "\n",
    "from pyvis.network import Network\n",
    "\n",
    "net = Network(notebook=True, width=800)\n",
    "net.from_nx(airport_g)\n",
    "net.show(\"example.html\")"
   ]
  },
  {
   "cell_type": "code",
   "execution_count": null,
   "metadata": {},
   "outputs": [],
   "source": []
  }
 ],
 "metadata": {
  "kernelspec": {
   "display_name": "Python 3",
   "language": "python",
   "name": "python3"
  },
  "language_info": {
   "codemirror_mode": {
    "name": "ipython",
    "version": 3
   },
   "file_extension": ".py",
   "mimetype": "text/x-python",
   "name": "python",
   "nbconvert_exporter": "python",
   "pygments_lexer": "ipython3",
   "version": "3.8.8"
  }
 },
 "nbformat": 4,
 "nbformat_minor": 4
}
