{
 "cells": [
  {
   "cell_type": "code",
   "execution_count": 1,
   "id": "47b61e41",
   "metadata": {},
   "outputs": [
    {
     "name": "stdout",
     "output_type": "stream",
     "text": [
      "HELLO WORLD!\n"
     ]
    }
   ],
   "source": [
    "print(\"HELLO WORLD!\")"
   ]
  },
  {
   "cell_type": "code",
   "execution_count": 2,
   "id": "924ec08b",
   "metadata": {},
   "outputs": [
    {
     "name": "stdout",
     "output_type": "stream",
     "text": [
      "blabla\n",
      "bleble\n"
     ]
    }
   ],
   "source": [
    "print(\"blabla\\nbleble\")"
   ]
  },
  {
   "cell_type": "code",
   "execution_count": 1,
   "id": "30dc129b",
   "metadata": {},
   "outputs": [],
   "source": [
    "import math, cmath"
   ]
  },
  {
   "cell_type": "code",
   "execution_count": 2,
   "id": "c2bf920f",
   "metadata": {},
   "outputs": [],
   "source": [
    "def is_odd(your_favorite_number):\n",
    "    if your_favorite_number % 2 == 0:\n",
    "        print('even')\n",
    "    else: \n",
    "        print('odd')  \n",
    "    \n",
    "\n",
    "def is_negative(your_number):  \n",
    "    if your_number == 0:\n",
    "        print('zero is neither positive nor negative')\n",
    "    else:            \n",
    "        response = 'negative' if your_number < 0 else 'positive'\n",
    "        print(response)    \n",
    "    \n",
    "\n",
    "def is_negative_obscure_way(your_number):  \n",
    "    if your_number == 0:\n",
    "        print('zero is neither positive nor negative')\n",
    "    else:\n",
    "        response = ('negative[2]', 'positive[2]')[your_number >= 0]\n",
    "        print(response) "
   ]
  },
  {
   "cell_type": "code",
   "execution_count": 3,
   "id": "d676826f",
   "metadata": {},
   "outputs": [],
   "source": [
    "# root of a quadratic equation\n",
    "\n",
    "def get_discriminant(a,b,c):\n",
    "    discriminant = b**2 - (4*a*c)\n",
    "    print(f'\\ndiscriminant = {discriminant}:')\n",
    "    return discriminant"
   ]
  },
  {
   "cell_type": "code",
   "execution_count": 4,
   "id": "62fd6946",
   "metadata": {},
   "outputs": [],
   "source": [
    "def quadratic_equation_root(a,b,c):\n",
    "    print('\\nreal-number solutions:')\n",
    "    discriminant = get_discriminant(a,b,c)    \n",
    "    \n",
    "    if discriminant < 0:\n",
    "        # such as a=3, b=4, c=2\n",
    "        print('neither of the solutions are real numbers')        \n",
    "        return\n",
    "    \n",
    "    discriminant_root = math.sqrt(discriminant)\n",
    "    \n",
    "    if discriminant > 0:        \n",
    "        # such as a=6, b=10, c=-1\n",
    "        x_minus = (-b - discriminant_root) / (2 * a)\n",
    "        x_plus = (-b + discriminant_root) / (2 * a)        \n",
    "        print(f'there are two real number solutions: {x_plus} and {x_minus}')\n",
    "    else:        \n",
    "        # such as a=9, b=12, c=4\n",
    "        x = -b / (2 * a)\n",
    "        print(f'there is a repeated real number solution: {x}') "
   ]
  },
  {
   "cell_type": "code",
   "execution_count": 5,
   "id": "9700bd92",
   "metadata": {},
   "outputs": [],
   "source": [
    "# imported the cmath module to perform complex square root\n",
    "\n",
    "def quadratic_equation_root_complex(a,b,c):  \n",
    "    print('\\ncomplex-number solutions:')\n",
    "    discriminant = get_discriminant(a,b,c)    \n",
    "    \n",
    "    x_minus = (-b - cmath.sqrt(discriminant)) / (2 * a)\n",
    "    x_plus = (-b + cmath.sqrt(discriminant)) / (2 * a)\n",
    "    \n",
    "    print(f'solutions are {x_minus} and {x_plus}')"
   ]
  },
  {
   "cell_type": "code",
   "execution_count": 8,
   "id": "faa6f04d",
   "metadata": {},
   "outputs": [
    {
     "name": "stdout",
     "output_type": "stream",
     "text": [
      "Enter a integer: -3\n",
      "odd\n",
      "negative\n",
      "negative[2]\n"
     ]
    }
   ],
   "source": [
    "# demo    \n",
    "any_number = int(input('Enter a integer: '))\n",
    "\n",
    "is_odd(any_number)\n",
    "is_negative(any_number)\n",
    "is_negative_obscure_way(any_number)\n",
    "\n"
   ]
  },
  {
   "cell_type": "code",
   "execution_count": null,
   "id": "8ef962b0",
   "metadata": {},
   "outputs": [],
   "source": [
    "print('\\n\\nRoot of a Quadratic Equation:')\n",
    "a = int(input('a: '))\n",
    "b = int(input('b: '))\n",
    "c = int(input('c: '))\n",
    "\n",
    "quadratic_equation_root(a,b,c)\n",
    "quadratic_equation_root_complex(a,b,c)"
   ]
  },
  {
   "cell_type": "code",
   "execution_count": null,
   "id": "67378829",
   "metadata": {},
   "outputs": [],
   "source": []
  }
 ],
 "metadata": {
  "kernelspec": {
   "display_name": "Python 3",
   "language": "python",
   "name": "python3"
  },
  "language_info": {
   "codemirror_mode": {
    "name": "ipython",
    "version": 3
   },
   "file_extension": ".py",
   "mimetype": "text/x-python",
   "name": "python",
   "nbconvert_exporter": "python",
   "pygments_lexer": "ipython3",
   "version": "3.8.8"
  }
 },
 "nbformat": 4,
 "nbformat_minor": 5
}
