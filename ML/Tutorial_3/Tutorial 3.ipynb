{
 "cells": [
  {
   "cell_type": "markdown",
   "metadata": {},
   "source": [
    "# Tutorial 3\n",
    "# Decision Trees and Random Forest"
   ]
  },
  {
   "cell_type": "code",
   "execution_count": 1,
   "metadata": {},
   "outputs": [],
   "source": [
    "# Load libraries\n",
    "import pandas as pd\n",
    "from sklearn.tree import DecisionTreeClassifier       # Import Decision Tree Classifier\n",
    "from sklearn.model_selection import train_test_split  # Import train_test_split function\n",
    "from sklearn import metrics                           # Import scikit-learn metrics module for accuracy calculation\n",
    "from sklearn import tree\n",
    "\n",
    "import warnings\n",
    "warnings.filterwarnings('ignore') # We can suppress the warnings"
   ]
  },
  {
   "cell_type": "markdown",
   "metadata": {},
   "source": [
    "## Loading Data\n",
    "### The data file diabetes.csv is available on Moodle\n",
    "https://www.kaggle.com/uciml/pima-indians-diabetes-database"
   ]
  },
  {
   "cell_type": "code",
   "execution_count": 2,
   "metadata": {},
   "outputs": [],
   "source": [
    "# Define the labels for the diabetes datafile\n",
    "col_names = ['pregnant', 'glucose', 'bp', 'skin', 'insulin', 'bmi', 'pedigree', 'age', 'label']\n",
    "\n",
    "# load dataset\n",
    "pima = pd.read_csv(\"diabetes.csv\", header=0, names=col_names)\n",
    "# change the path of C drive where you have downsloaded your \"pima-indians-diabetes.csv\""
   ]
  },
  {
   "cell_type": "code",
   "execution_count": 3,
   "metadata": {},
   "outputs": [
    {
     "data": {
      "text/html": [
       "<div>\n",
       "<style scoped>\n",
       "    .dataframe tbody tr th:only-of-type {\n",
       "        vertical-align: middle;\n",
       "    }\n",
       "\n",
       "    .dataframe tbody tr th {\n",
       "        vertical-align: top;\n",
       "    }\n",
       "\n",
       "    .dataframe thead th {\n",
       "        text-align: right;\n",
       "    }\n",
       "</style>\n",
       "<table border=\"1\" class=\"dataframe\">\n",
       "  <thead>\n",
       "    <tr style=\"text-align: right;\">\n",
       "      <th></th>\n",
       "      <th>pregnant</th>\n",
       "      <th>glucose</th>\n",
       "      <th>bp</th>\n",
       "      <th>skin</th>\n",
       "      <th>insulin</th>\n",
       "      <th>bmi</th>\n",
       "      <th>pedigree</th>\n",
       "      <th>age</th>\n",
       "      <th>label</th>\n",
       "    </tr>\n",
       "  </thead>\n",
       "  <tbody>\n",
       "    <tr>\n",
       "      <th>0</th>\n",
       "      <td>6</td>\n",
       "      <td>148</td>\n",
       "      <td>72</td>\n",
       "      <td>35</td>\n",
       "      <td>0</td>\n",
       "      <td>33.6</td>\n",
       "      <td>0.627</td>\n",
       "      <td>50</td>\n",
       "      <td>1</td>\n",
       "    </tr>\n",
       "    <tr>\n",
       "      <th>1</th>\n",
       "      <td>1</td>\n",
       "      <td>85</td>\n",
       "      <td>66</td>\n",
       "      <td>29</td>\n",
       "      <td>0</td>\n",
       "      <td>26.6</td>\n",
       "      <td>0.351</td>\n",
       "      <td>31</td>\n",
       "      <td>0</td>\n",
       "    </tr>\n",
       "    <tr>\n",
       "      <th>2</th>\n",
       "      <td>8</td>\n",
       "      <td>183</td>\n",
       "      <td>64</td>\n",
       "      <td>0</td>\n",
       "      <td>0</td>\n",
       "      <td>23.3</td>\n",
       "      <td>0.672</td>\n",
       "      <td>32</td>\n",
       "      <td>1</td>\n",
       "    </tr>\n",
       "    <tr>\n",
       "      <th>3</th>\n",
       "      <td>1</td>\n",
       "      <td>89</td>\n",
       "      <td>66</td>\n",
       "      <td>23</td>\n",
       "      <td>94</td>\n",
       "      <td>28.1</td>\n",
       "      <td>0.167</td>\n",
       "      <td>21</td>\n",
       "      <td>0</td>\n",
       "    </tr>\n",
       "    <tr>\n",
       "      <th>4</th>\n",
       "      <td>0</td>\n",
       "      <td>137</td>\n",
       "      <td>40</td>\n",
       "      <td>35</td>\n",
       "      <td>168</td>\n",
       "      <td>43.1</td>\n",
       "      <td>2.288</td>\n",
       "      <td>33</td>\n",
       "      <td>1</td>\n",
       "    </tr>\n",
       "  </tbody>\n",
       "</table>\n",
       "</div>"
      ],
      "text/plain": [
       "   pregnant  glucose  bp  skin  insulin   bmi  pedigree  age  label\n",
       "0         6      148  72    35        0  33.6     0.627   50      1\n",
       "1         1       85  66    29        0  26.6     0.351   31      0\n",
       "2         8      183  64     0        0  23.3     0.672   32      1\n",
       "3         1       89  66    23       94  28.1     0.167   21      0\n",
       "4         0      137  40    35      168  43.1     2.288   33      1"
      ]
     },
     "execution_count": 3,
     "metadata": {},
     "output_type": "execute_result"
    }
   ],
   "source": [
    "# Display the first 5 records\n",
    "pima.head()"
   ]
  },
  {
   "cell_type": "code",
   "execution_count": 4,
   "metadata": {},
   "outputs": [
    {
     "data": {
      "text/plain": [
       "pregnant    0\n",
       "glucose     0\n",
       "bp          0\n",
       "skin        0\n",
       "insulin     0\n",
       "bmi         0\n",
       "pedigree    0\n",
       "age         0\n",
       "label       0\n",
       "dtype: int64"
      ]
     },
     "execution_count": 4,
     "metadata": {},
     "output_type": "execute_result"
    }
   ],
   "source": [
    "# Check missing/ null values in variables\n",
    "pima.isnull().sum()"
   ]
  },
  {
   "cell_type": "markdown",
   "metadata": {},
   "source": [
    "## Feature Selection"
   ]
  },
  {
   "cell_type": "code",
   "execution_count": 5,
   "metadata": {},
   "outputs": [
    {
     "name": "stdout",
     "output_type": "stream",
     "text": [
      "     pregnant  insulin   bmi  age  glucose  bp  pedigree\n",
      "0           6        0  33.6   50      148  72     0.627\n",
      "1           1        0  26.6   31       85  66     0.351\n",
      "2           8        0  23.3   32      183  64     0.672\n",
      "3           1       94  28.1   21       89  66     0.167\n",
      "4           0      168  43.1   33      137  40     2.288\n",
      "..        ...      ...   ...  ...      ...  ..       ...\n",
      "763        10      180  32.9   63      101  76     0.171\n",
      "764         2        0  36.8   27      122  70     0.340\n",
      "765         5      112  26.2   30      121  72     0.245\n",
      "766         1        0  30.1   47      126  60     0.349\n",
      "767         1        0  30.4   23       93  70     0.315\n",
      "\n",
      "[768 rows x 7 columns] 0      1\n",
      "1      0\n",
      "2      1\n",
      "3      0\n",
      "4      1\n",
      "      ..\n",
      "763    0\n",
      "764    0\n",
      "765    0\n",
      "766    1\n",
      "767    0\n",
      "Name: label, Length: 768, dtype: int64\n"
     ]
    }
   ],
   "source": [
    "# split dataset in features and target variable\n",
    "feature_cols = ['pregnant', 'insulin', 'bmi', 'age','glucose','bp','pedigree']\n",
    "X = pima[feature_cols]               # Features of the dataset\n",
    "y = pima.label                       # Target variable of the dataset\n",
    "\n",
    "# Display the X and y arrays\n",
    "print(X, y)"
   ]
  },
  {
   "cell_type": "markdown",
   "metadata": {},
   "source": [
    "## Splitting Data"
   ]
  },
  {
   "cell_type": "code",
   "execution_count": 7,
   "metadata": {},
   "outputs": [],
   "source": [
    "# Split dataset into training set and test set\n",
    "X_train, X_test, y_train, y_test = train_test_split(X, y, test_size = 0.3, random_state = 1) # 70% training and 30% test"
   ]
  },
  {
   "cell_type": "markdown",
   "metadata": {},
   "source": [
    "## Building Decision Tree Model"
   ]
  },
  {
   "cell_type": "code",
   "execution_count": 9,
   "metadata": {},
   "outputs": [],
   "source": [
    "# Create Decision Tree classifer object\n",
    "clf = DecisionTreeClassifier(max_depth = 3, random_state = 0) # criterion='gini' or 'entropy'\n",
    "\n",
    "# Train Decision Tree Classifer\n",
    "clf = clf.fit(X_train, y_train)\n",
    "\n",
    "#Predict the response for test dataset\n",
    "y_pred = clf.predict(X_test)"
   ]
  },
  {
   "cell_type": "markdown",
   "metadata": {},
   "source": [
    "## Evaluating Model"
   ]
  },
  {
   "cell_type": "code",
   "execution_count": 10,
   "metadata": {},
   "outputs": [
    {
     "name": "stdout",
     "output_type": "stream",
     "text": [
      "Accuracy: 0.7575757575757576\n",
      "Accuracy: 0.76\n"
     ]
    }
   ],
   "source": [
    "# Model Accuracy, how often is the classifier correct?\n",
    "print(\"Accuracy:\",metrics.accuracy_score(y_test, y_pred))\n",
    "\n",
    "# Rounded upto 2 decimal places\n",
    "print( \"Accuracy: {:.2f}\".format(metrics.accuracy_score(y_test, y_pred)) )"
   ]
  },
  {
   "cell_type": "code",
   "execution_count": 9,
   "metadata": {},
   "outputs": [
    {
     "data": {
      "image/png": "[encoded data removed]",
      "text/plain": [
       "<Figure size 1200x1200 with 1 Axes>"
      ]
     },
     "metadata": {
      "needs_background": "light"
     },
     "output_type": "display_data"
    }
   ],
   "source": [
    "import matplotlib.pyplot as plt\n",
    "from sklearn.tree import DecisionTreeClassifier\n",
    "from sklearn import tree\n",
    "\n",
    "# column names for dataset\n",
    "fn = ['pregnant', 'insulin', 'bmi', 'age','glucose','bp','pedigree']\n",
    "# classes of dataset\n",
    "cn = ['0','1']\n",
    "\n",
    "# Setting dpi = 300 to make image clearer than default\n",
    "fig, axes = plt.subplots(nrows = 1, ncols = 1, figsize = (4,4), dpi=300)\n",
    "\n",
    "tree.plot_tree(clf,\n",
    "           feature_names = fn, \n",
    "           class_names = cn,\n",
    "           filled = True);\n",
    "# In case of any errors, install conda install python-graphviz     on the command line"
   ]
  },
  {
   "cell_type": "code",
   "execution_count": 11,
   "metadata": {
    "scrolled": false
   },
   "outputs": [
    {
     "ename": "ModuleNotFoundError",
     "evalue": "No module named 'graphviz'",
     "output_type": "error",
     "traceback": [
      "\u001b[1;31m---------------------------------------------------------------------------\u001b[0m",
      "\u001b[1;31mModuleNotFoundError\u001b[0m                       Traceback (most recent call last)",
      "\u001b[1;32m<ipython-input-11-5692487a48b2>\u001b[0m in \u001b[0;36m<module>\u001b[1;34m\u001b[0m\n\u001b[0;32m      2\u001b[0m \u001b[1;31m# conda install -c anaconda python-graphviz\u001b[0m\u001b[1;33m\u001b[0m\u001b[1;33m\u001b[0m\u001b[1;33m\u001b[0m\u001b[0m\n\u001b[0;32m      3\u001b[0m \u001b[1;32mfrom\u001b[0m \u001b[0msklearn\u001b[0m\u001b[1;33m.\u001b[0m\u001b[0mtree\u001b[0m \u001b[1;32mimport\u001b[0m \u001b[0mexport_graphviz\u001b[0m\u001b[1;33m\u001b[0m\u001b[1;33m\u001b[0m\u001b[0m\n\u001b[1;32m----> 4\u001b[1;33m \u001b[1;32mimport\u001b[0m \u001b[0mgraphviz\u001b[0m\u001b[1;33m\u001b[0m\u001b[1;33m\u001b[0m\u001b[0m\n\u001b[0m\u001b[0;32m      5\u001b[0m \u001b[1;33m\u001b[0m\u001b[0m\n\u001b[0;32m      6\u001b[0m \u001b[1;31m# Create an object named as 'dot_data_oima' by calling a method 'export_graphviz'\u001b[0m\u001b[1;33m\u001b[0m\u001b[1;33m\u001b[0m\u001b[1;33m\u001b[0m\u001b[0m\n",
      "\u001b[1;31mModuleNotFoundError\u001b[0m: No module named 'graphviz'"
     ]
    }
   ],
   "source": [
    "# Use the below command on anconda navigator \n",
    "# conda install -c anaconda python-graphviz\n",
    "from sklearn.tree import export_graphviz\n",
    "import graphviz \n",
    "\n",
    "# Create an object named as 'dot_data_oima' by calling a method 'export_graphviz'\n",
    "dot_data_pima = export_graphviz(clf, out_file = None, \n",
    "                                feature_names = fn,  \n",
    "                                class_names = cn,  \n",
    "                                filled = True, rounded = True,  \n",
    "                                special_characters = True)\n",
    "\n",
    "graph = graphviz.Source(dot_data_pima) \n",
    "graph "
   ]
  },
  {
   "cell_type": "markdown",
   "metadata": {},
   "source": [
    "## Use Iris dataset to classify the records of iris data set.\n",
    "The details of this data set are available at the following link: https://archive.ics.uci.edu/ml/datasets/iris. The features of the data set are mentioned below\n",
    "1. sepal length in cm\n",
    "2. sepal width in cm\n",
    "3. petal length in cm\n",
    "4. petal width in cm\n",
    "5. <b>class</b>: Iris Setosa, Iris Versicolour and Iris Virginica"
   ]
  },
  {
   "cell_type": "code",
   "execution_count": 11,
   "metadata": {},
   "outputs": [],
   "source": [
    "from sklearn.datasets import load_iris\n",
    "from sklearn import tree\n",
    "\n",
    "# Assign column names for iris dataset\n",
    "fn_iris = ['Sepal_length', 'Sepal_width', 'Petal_length', 'Petal_width']\n",
    "\n",
    "# Assign classes of iris dataset, 0: Iris Setosa, 1: Iris Versicolour, 2: Iris Virginica\n",
    "cn_iris = ['0', '1', '2']\n",
    "\n",
    "# Load the iris data set into 'iris' array\n",
    "iris = load_iris()\n",
    "\n",
    "X = iris.data\n",
    "y = iris.target\n",
    "\n",
    "# Create a classification object by calling a method (DecisionTreeClassifier())\n",
    "clf_iris = DecisionTreeClassifier()\n",
    "\n",
    "# Train the decision tree model by calling a fit() method\n",
    "clf_iris = clf_iris.fit(X, y)"
   ]
  },
  {
   "cell_type": "code",
   "execution_count": 12,
   "metadata": {},
   "outputs": [
    {
     "data": {
      "image/svg+xml": [
       "<?xml version=\"1.0\" encoding=\"UTF-8\" standalone=\"no\"?>\r\n",
       "<!DOCTYPE svg PUBLIC \"-//W3C//DTD SVG 1.1//EN\"\r\n",
       " \"http://www.w3.org/Graphics/SVG/1.1/DTD/svg11.dtd\">\r\n",
       "<!-- Generated by graphviz version 2.38.0 (20140413.2041)\r\n",
       " -->\r\n",
       "<!-- Title: Tree Pages: 1 -->\r\n",
       "<svg width=\"830pt\" height=\"671pt\"\r\n",
       " viewBox=\"0.00 0.00 830.00 671.00\" xmlns=\"http://www.w3.org/2000/svg\" xmlns:xlink=\"http://www.w3.org/1999/xlink\">\r\n",
       "<g id=\"graph0\" class=\"graph\" transform=\"scale(1 1) rotate(0) translate(4 667)\">\r\n",
       "<title>Tree</title>\r\n",
       "<polygon fill=\"white\" stroke=\"none\" points=\"-4,4 -4,-667 826,-667 826,4 -4,4\"/>\r\n",
       "<!-- 0 -->\r\n",
       "<g id=\"node1\" class=\"node\"><title>0</title>\r\n",
       "<path fill=\"#ffffff\" stroke=\"black\" d=\"M495,-663C495,-663 382,-663 382,-663 376,-663 370,-657 370,-651 370,-651 370,-592 370,-592 370,-586 376,-580 382,-580 382,-580 495,-580 495,-580 501,-580 507,-586 507,-592 507,-592 507,-651 507,-651 507,-657 501,-663 495,-663\"/>\r\n",
       "<text text-anchor=\"start\" x=\"384\" y=\"-647.8\" font-family=\"Helvetica,sans-Serif\" font-size=\"14.00\">Petal_width ≤ 0.8</text>\r\n",
       "<text text-anchor=\"start\" x=\"401\" y=\"-632.8\" font-family=\"Helvetica,sans-Serif\" font-size=\"14.00\">gini = 0.667</text>\r\n",
       "<text text-anchor=\"start\" x=\"391\" y=\"-617.8\" font-family=\"Helvetica,sans-Serif\" font-size=\"14.00\">samples = 150</text>\r\n",
       "<text text-anchor=\"start\" x=\"378\" y=\"-602.8\" font-family=\"Helvetica,sans-Serif\" font-size=\"14.00\">value = [50, 50, 50]</text>\r\n",
       "<text text-anchor=\"start\" x=\"409.5\" y=\"-587.8\" font-family=\"Helvetica,sans-Serif\" font-size=\"14.00\">class = 0</text>\r\n",
       "</g>\r\n",
       "<!-- 1 -->\r\n",
       "<g id=\"node2\" class=\"node\"><title>1</title>\r\n",
       "<path fill=\"#e58139\" stroke=\"black\" d=\"M415,-536.5C415,-536.5 318,-536.5 318,-536.5 312,-536.5 306,-530.5 306,-524.5 306,-524.5 306,-480.5 306,-480.5 306,-474.5 312,-468.5 318,-468.5 318,-468.5 415,-468.5 415,-468.5 421,-468.5 427,-474.5 427,-480.5 427,-480.5 427,-524.5 427,-524.5 427,-530.5 421,-536.5 415,-536.5\"/>\r\n",
       "<text text-anchor=\"start\" x=\"337.5\" y=\"-521.3\" font-family=\"Helvetica,sans-Serif\" font-size=\"14.00\">gini = 0.0</text>\r\n",
       "<text text-anchor=\"start\" x=\"323\" y=\"-506.3\" font-family=\"Helvetica,sans-Serif\" font-size=\"14.00\">samples = 50</text>\r\n",
       "<text text-anchor=\"start\" x=\"314\" y=\"-491.3\" font-family=\"Helvetica,sans-Serif\" font-size=\"14.00\">value = [50, 0, 0]</text>\r\n",
       "<text text-anchor=\"start\" x=\"337.5\" y=\"-476.3\" font-family=\"Helvetica,sans-Serif\" font-size=\"14.00\">class = 0</text>\r\n",
       "</g>\r\n",
       "<!-- 0&#45;&gt;1 -->\r\n",
       "<g id=\"edge1\" class=\"edge\"><title>0&#45;&gt;1</title>\r\n",
       "<path fill=\"none\" stroke=\"black\" d=\"M413.52,-579.907C406.662,-568.763 399.213,-556.658 392.309,-545.439\"/>\r\n",
       "<polygon fill=\"black\" stroke=\"black\" points=\"395.132,-543.349 386.91,-536.667 389.171,-547.018 395.132,-543.349\"/>\r\n",
       "<text text-anchor=\"middle\" x=\"381.12\" y=\"-557.287\" font-family=\"Helvetica,sans-Serif\" font-size=\"14.00\">True</text>\r\n",
       "</g>\r\n",
       "<!-- 2 -->\r\n",
       "<g id=\"node3\" class=\"node\"><title>2</title>\r\n",
       "<path fill=\"#ffffff\" stroke=\"black\" d=\"M566,-544C566,-544 457,-544 457,-544 451,-544 445,-538 445,-532 445,-532 445,-473 445,-473 445,-467 451,-461 457,-461 457,-461 566,-461 566,-461 572,-461 578,-467 578,-473 578,-473 578,-532 578,-532 578,-538 572,-544 566,-544\"/>\r\n",
       "<text text-anchor=\"start\" x=\"453\" y=\"-528.8\" font-family=\"Helvetica,sans-Serif\" font-size=\"14.00\">Petal_width ≤ 1.75</text>\r\n",
       "<text text-anchor=\"start\" x=\"482.5\" y=\"-513.8\" font-family=\"Helvetica,sans-Serif\" font-size=\"14.00\">gini = 0.5</text>\r\n",
       "<text text-anchor=\"start\" x=\"464\" y=\"-498.8\" font-family=\"Helvetica,sans-Serif\" font-size=\"14.00\">samples = 100</text>\r\n",
       "<text text-anchor=\"start\" x=\"455\" y=\"-483.8\" font-family=\"Helvetica,sans-Serif\" font-size=\"14.00\">value = [0, 50, 50]</text>\r\n",
       "<text text-anchor=\"start\" x=\"482.5\" y=\"-468.8\" font-family=\"Helvetica,sans-Serif\" font-size=\"14.00\">class = 1</text>\r\n",
       "</g>\r\n",
       "<!-- 0&#45;&gt;2 -->\r\n",
       "<g id=\"edge2\" class=\"edge\"><title>0&#45;&gt;2</title>\r\n",
       "<path fill=\"none\" stroke=\"black\" d=\"M463.827,-579.907C469.319,-571.105 475.185,-561.703 480.857,-552.612\"/>\r\n",
       "<polygon fill=\"black\" stroke=\"black\" points=\"483.894,-554.358 486.218,-544.021 477.955,-550.652 483.894,-554.358\"/>\r\n",
       "<text text-anchor=\"middle\" x=\"491.858\" y=\"-564.676\" font-family=\"Helvetica,sans-Serif\" font-size=\"14.00\">False</text>\r\n",
       "</g>\r\n",
       "<!-- 3 -->\r\n",
       "<g id=\"node4\" class=\"node\"><title>3</title>\r\n",
       "<path fill=\"#4de88e\" stroke=\"black\" d=\"M462,-425C462,-425 347,-425 347,-425 341,-425 335,-419 335,-413 335,-413 335,-354 335,-354 335,-348 341,-342 347,-342 347,-342 462,-342 462,-342 468,-342 474,-348 474,-354 474,-354 474,-413 474,-413 474,-419 468,-425 462,-425\"/>\r\n",
       "<text text-anchor=\"start\" x=\"343\" y=\"-409.8\" font-family=\"Helvetica,sans-Serif\" font-size=\"14.00\">Petal_length ≤ 4.95</text>\r\n",
       "<text text-anchor=\"start\" x=\"367\" y=\"-394.8\" font-family=\"Helvetica,sans-Serif\" font-size=\"14.00\">gini = 0.168</text>\r\n",
       "<text text-anchor=\"start\" x=\"361\" y=\"-379.8\" font-family=\"Helvetica,sans-Serif\" font-size=\"14.00\">samples = 54</text>\r\n",
       "<text text-anchor=\"start\" x=\"352\" y=\"-364.8\" font-family=\"Helvetica,sans-Serif\" font-size=\"14.00\">value = [0, 49, 5]</text>\r\n",
       "<text text-anchor=\"start\" x=\"375.5\" y=\"-349.8\" font-family=\"Helvetica,sans-Serif\" font-size=\"14.00\">class = 1</text>\r\n",
       "</g>\r\n",
       "<!-- 2&#45;&gt;3 -->\r\n",
       "<g id=\"edge3\" class=\"edge\"><title>2&#45;&gt;3</title>\r\n",
       "<path fill=\"none\" stroke=\"black\" d=\"M474.377,-460.907C465.994,-451.742 457.018,-441.927 448.387,-432.489\"/>\r\n",
       "<polygon fill=\"black\" stroke=\"black\" points=\"450.889,-430.038 441.557,-425.021 445.723,-434.762 450.889,-430.038\"/>\r\n",
       "</g>\r\n",
       "<!-- 12 -->\r\n",
       "<g id=\"node13\" class=\"node\"><title>12</title>\r\n",
       "<path fill=\"#843de6\" stroke=\"black\" d=\"M676,-425C676,-425 561,-425 561,-425 555,-425 549,-419 549,-413 549,-413 549,-354 549,-354 549,-348 555,-342 561,-342 561,-342 676,-342 676,-342 682,-342 688,-348 688,-354 688,-354 688,-413 688,-413 688,-419 682,-425 676,-425\"/>\r\n",
       "<text text-anchor=\"start\" x=\"557\" y=\"-409.8\" font-family=\"Helvetica,sans-Serif\" font-size=\"14.00\">Petal_length ≤ 4.85</text>\r\n",
       "<text text-anchor=\"start\" x=\"581\" y=\"-394.8\" font-family=\"Helvetica,sans-Serif\" font-size=\"14.00\">gini = 0.043</text>\r\n",
       "<text text-anchor=\"start\" x=\"575\" y=\"-379.8\" font-family=\"Helvetica,sans-Serif\" font-size=\"14.00\">samples = 46</text>\r\n",
       "<text text-anchor=\"start\" x=\"566\" y=\"-364.8\" font-family=\"Helvetica,sans-Serif\" font-size=\"14.00\">value = [0, 1, 45]</text>\r\n",
       "<text text-anchor=\"start\" x=\"589.5\" y=\"-349.8\" font-family=\"Helvetica,sans-Serif\" font-size=\"14.00\">class = 2</text>\r\n",
       "</g>\r\n",
       "<!-- 2&#45;&gt;12 -->\r\n",
       "<g id=\"edge12\" class=\"edge\"><title>2&#45;&gt;12</title>\r\n",
       "<path fill=\"none\" stroke=\"black\" d=\"M548.623,-460.907C557.006,-451.742 565.982,-441.927 574.613,-432.489\"/>\r\n",
       "<polygon fill=\"black\" stroke=\"black\" points=\"577.277,-434.762 581.443,-425.021 572.111,-430.038 577.277,-434.762\"/>\r\n",
       "</g>\r\n",
       "<!-- 4 -->\r\n",
       "<g id=\"node5\" class=\"node\"><title>4</title>\r\n",
       "<path fill=\"#3de684\" stroke=\"black\" d=\"M250,-306C250,-306 141,-306 141,-306 135,-306 129,-300 129,-294 129,-294 129,-235 129,-235 129,-229 135,-223 141,-223 141,-223 250,-223 250,-223 256,-223 262,-229 262,-235 262,-235 262,-294 262,-294 262,-300 256,-306 250,-306\"/>\r\n",
       "<text text-anchor=\"start\" x=\"137\" y=\"-290.8\" font-family=\"Helvetica,sans-Serif\" font-size=\"14.00\">Petal_width ≤ 1.65</text>\r\n",
       "<text text-anchor=\"start\" x=\"158\" y=\"-275.8\" font-family=\"Helvetica,sans-Serif\" font-size=\"14.00\">gini = 0.041</text>\r\n",
       "<text text-anchor=\"start\" x=\"152\" y=\"-260.8\" font-family=\"Helvetica,sans-Serif\" font-size=\"14.00\">samples = 48</text>\r\n",
       "<text text-anchor=\"start\" x=\"143\" y=\"-245.8\" font-family=\"Helvetica,sans-Serif\" font-size=\"14.00\">value = [0, 47, 1]</text>\r\n",
       "<text text-anchor=\"start\" x=\"166.5\" y=\"-230.8\" font-family=\"Helvetica,sans-Serif\" font-size=\"14.00\">class = 1</text>\r\n",
       "</g>\r\n",
       "<!-- 3&#45;&gt;4 -->\r\n",
       "<g id=\"edge4\" class=\"edge\"><title>3&#45;&gt;4</title>\r\n",
       "<path fill=\"none\" stroke=\"black\" d=\"M334.906,-343.541C314.437,-332.082 291.95,-319.493 271.123,-307.834\"/>\r\n",
       "<polygon fill=\"black\" stroke=\"black\" points=\"272.745,-304.731 262.309,-302.9 269.325,-310.839 272.745,-304.731\"/>\r\n",
       "</g>\r\n",
       "<!-- 7 -->\r\n",
       "<g id=\"node8\" class=\"node\"><title>7</title>\r\n",
       "<path fill=\"#c09cf2\" stroke=\"black\" d=\"M459,-306C459,-306 350,-306 350,-306 344,-306 338,-300 338,-294 338,-294 338,-235 338,-235 338,-229 344,-223 350,-223 350,-223 459,-223 459,-223 465,-223 471,-229 471,-235 471,-235 471,-294 471,-294 471,-300 465,-306 459,-306\"/>\r\n",
       "<text text-anchor=\"start\" x=\"346\" y=\"-290.8\" font-family=\"Helvetica,sans-Serif\" font-size=\"14.00\">Petal_width ≤ 1.55</text>\r\n",
       "<text text-anchor=\"start\" x=\"367\" y=\"-275.8\" font-family=\"Helvetica,sans-Serif\" font-size=\"14.00\">gini = 0.444</text>\r\n",
       "<text text-anchor=\"start\" x=\"365\" y=\"-260.8\" font-family=\"Helvetica,sans-Serif\" font-size=\"14.00\">samples = 6</text>\r\n",
       "<text text-anchor=\"start\" x=\"356\" y=\"-245.8\" font-family=\"Helvetica,sans-Serif\" font-size=\"14.00\">value = [0, 2, 4]</text>\r\n",
       "<text text-anchor=\"start\" x=\"375.5\" y=\"-230.8\" font-family=\"Helvetica,sans-Serif\" font-size=\"14.00\">class = 2</text>\r\n",
       "</g>\r\n",
       "<!-- 3&#45;&gt;7 -->\r\n",
       "<g id=\"edge7\" class=\"edge\"><title>3&#45;&gt;7</title>\r\n",
       "<path fill=\"none\" stroke=\"black\" d=\"M404.5,-341.907C404.5,-333.649 404.5,-324.864 404.5,-316.302\"/>\r\n",
       "<polygon fill=\"black\" stroke=\"black\" points=\"408,-316.021 404.5,-306.021 401,-316.021 408,-316.021\"/>\r\n",
       "</g>\r\n",
       "<!-- 5 -->\r\n",
       "<g id=\"node6\" class=\"node\"><title>5</title>\r\n",
       "<path fill=\"#39e581\" stroke=\"black\" d=\"M109,-179.5C109,-179.5 12,-179.5 12,-179.5 6,-179.5 0,-173.5 0,-167.5 0,-167.5 0,-123.5 0,-123.5 0,-117.5 6,-111.5 12,-111.5 12,-111.5 109,-111.5 109,-111.5 115,-111.5 121,-117.5 121,-123.5 121,-123.5 121,-167.5 121,-167.5 121,-173.5 115,-179.5 109,-179.5\"/>\r\n",
       "<text text-anchor=\"start\" x=\"31.5\" y=\"-164.3\" font-family=\"Helvetica,sans-Serif\" font-size=\"14.00\">gini = 0.0</text>\r\n",
       "<text text-anchor=\"start\" x=\"17\" y=\"-149.3\" font-family=\"Helvetica,sans-Serif\" font-size=\"14.00\">samples = 47</text>\r\n",
       "<text text-anchor=\"start\" x=\"8\" y=\"-134.3\" font-family=\"Helvetica,sans-Serif\" font-size=\"14.00\">value = [0, 47, 0]</text>\r\n",
       "<text text-anchor=\"start\" x=\"31.5\" y=\"-119.3\" font-family=\"Helvetica,sans-Serif\" font-size=\"14.00\">class = 1</text>\r\n",
       "</g>\r\n",
       "<!-- 4&#45;&gt;5 -->\r\n",
       "<g id=\"edge5\" class=\"edge\"><title>4&#45;&gt;5</title>\r\n",
       "<path fill=\"none\" stroke=\"black\" d=\"M148.662,-222.907C135.039,-211.101 120.173,-198.217 106.596,-186.45\"/>\r\n",
       "<polygon fill=\"black\" stroke=\"black\" points=\"108.619,-183.571 98.7695,-179.667 104.034,-188.861 108.619,-183.571\"/>\r\n",
       "</g>\r\n",
       "<!-- 6 -->\r\n",
       "<g id=\"node7\" class=\"node\"><title>6</title>\r\n",
       "<path fill=\"#8139e5\" stroke=\"black\" d=\"M240,-179.5C240,-179.5 151,-179.5 151,-179.5 145,-179.5 139,-173.5 139,-167.5 139,-167.5 139,-123.5 139,-123.5 139,-117.5 145,-111.5 151,-111.5 151,-111.5 240,-111.5 240,-111.5 246,-111.5 252,-117.5 252,-123.5 252,-123.5 252,-167.5 252,-167.5 252,-173.5 246,-179.5 240,-179.5\"/>\r\n",
       "<text text-anchor=\"start\" x=\"166.5\" y=\"-164.3\" font-family=\"Helvetica,sans-Serif\" font-size=\"14.00\">gini = 0.0</text>\r\n",
       "<text text-anchor=\"start\" x=\"156\" y=\"-149.3\" font-family=\"Helvetica,sans-Serif\" font-size=\"14.00\">samples = 1</text>\r\n",
       "<text text-anchor=\"start\" x=\"147\" y=\"-134.3\" font-family=\"Helvetica,sans-Serif\" font-size=\"14.00\">value = [0, 0, 1]</text>\r\n",
       "<text text-anchor=\"start\" x=\"166.5\" y=\"-119.3\" font-family=\"Helvetica,sans-Serif\" font-size=\"14.00\">class = 2</text>\r\n",
       "</g>\r\n",
       "<!-- 4&#45;&gt;6 -->\r\n",
       "<g id=\"edge6\" class=\"edge\"><title>4&#45;&gt;6</title>\r\n",
       "<path fill=\"none\" stroke=\"black\" d=\"M195.5,-222.907C195.5,-212.204 195.5,-200.615 195.5,-189.776\"/>\r\n",
       "<polygon fill=\"black\" stroke=\"black\" points=\"199,-189.667 195.5,-179.667 192,-189.667 199,-189.667\"/>\r\n",
       "</g>\r\n",
       "<!-- 8 -->\r\n",
       "<g id=\"node9\" class=\"node\"><title>8</title>\r\n",
       "<path fill=\"#8139e5\" stroke=\"black\" d=\"M371,-179.5C371,-179.5 282,-179.5 282,-179.5 276,-179.5 270,-173.5 270,-167.5 270,-167.5 270,-123.5 270,-123.5 270,-117.5 276,-111.5 282,-111.5 282,-111.5 371,-111.5 371,-111.5 377,-111.5 383,-117.5 383,-123.5 383,-123.5 383,-167.5 383,-167.5 383,-173.5 377,-179.5 371,-179.5\"/>\r\n",
       "<text text-anchor=\"start\" x=\"297.5\" y=\"-164.3\" font-family=\"Helvetica,sans-Serif\" font-size=\"14.00\">gini = 0.0</text>\r\n",
       "<text text-anchor=\"start\" x=\"287\" y=\"-149.3\" font-family=\"Helvetica,sans-Serif\" font-size=\"14.00\">samples = 3</text>\r\n",
       "<text text-anchor=\"start\" x=\"278\" y=\"-134.3\" font-family=\"Helvetica,sans-Serif\" font-size=\"14.00\">value = [0, 0, 3]</text>\r\n",
       "<text text-anchor=\"start\" x=\"297.5\" y=\"-119.3\" font-family=\"Helvetica,sans-Serif\" font-size=\"14.00\">class = 2</text>\r\n",
       "</g>\r\n",
       "<!-- 7&#45;&gt;8 -->\r\n",
       "<g id=\"edge8\" class=\"edge\"><title>7&#45;&gt;8</title>\r\n",
       "<path fill=\"none\" stroke=\"black\" d=\"M377.438,-222.907C369.935,-211.652 361.779,-199.418 354.237,-188.106\"/>\r\n",
       "<polygon fill=\"black\" stroke=\"black\" points=\"357.071,-186.046 348.611,-179.667 351.246,-189.929 357.071,-186.046\"/>\r\n",
       "</g>\r\n",
       "<!-- 9 -->\r\n",
       "<g id=\"node10\" class=\"node\"><title>9</title>\r\n",
       "<path fill=\"#9cf2c0\" stroke=\"black\" d=\"M532,-187C532,-187 413,-187 413,-187 407,-187 401,-181 401,-175 401,-175 401,-116 401,-116 401,-110 407,-104 413,-104 413,-104 532,-104 532,-104 538,-104 544,-110 544,-116 544,-116 544,-175 544,-175 544,-181 538,-187 532,-187\"/>\r\n",
       "<text text-anchor=\"start\" x=\"409\" y=\"-171.8\" font-family=\"Helvetica,sans-Serif\" font-size=\"14.00\">Sepal_length ≤ 6.95</text>\r\n",
       "<text text-anchor=\"start\" x=\"435\" y=\"-156.8\" font-family=\"Helvetica,sans-Serif\" font-size=\"14.00\">gini = 0.444</text>\r\n",
       "<text text-anchor=\"start\" x=\"433\" y=\"-141.8\" font-family=\"Helvetica,sans-Serif\" font-size=\"14.00\">samples = 3</text>\r\n",
       "<text text-anchor=\"start\" x=\"424\" y=\"-126.8\" font-family=\"Helvetica,sans-Serif\" font-size=\"14.00\">value = [0, 2, 1]</text>\r\n",
       "<text text-anchor=\"start\" x=\"443.5\" y=\"-111.8\" font-family=\"Helvetica,sans-Serif\" font-size=\"14.00\">class = 1</text>\r\n",
       "</g>\r\n",
       "<!-- 7&#45;&gt;9 -->\r\n",
       "<g id=\"edge9\" class=\"edge\"><title>7&#45;&gt;9</title>\r\n",
       "<path fill=\"none\" stroke=\"black\" d=\"M428.092,-222.907C433.156,-214.195 438.56,-204.897 443.793,-195.893\"/>\r\n",
       "<polygon fill=\"black\" stroke=\"black\" points=\"446.951,-197.425 448.949,-187.021 440.898,-193.908 446.951,-197.425\"/>\r\n",
       "</g>\r\n",
       "<!-- 10 -->\r\n",
       "<g id=\"node11\" class=\"node\"><title>10</title>\r\n",
       "<path fill=\"#39e581\" stroke=\"black\" d=\"M451,-68C451,-68 362,-68 362,-68 356,-68 350,-62 350,-56 350,-56 350,-12 350,-12 350,-6 356,-0 362,-0 362,-0 451,-0 451,-0 457,-0 463,-6 463,-12 463,-12 463,-56 463,-56 463,-62 457,-68 451,-68\"/>\r\n",
       "<text text-anchor=\"start\" x=\"377.5\" y=\"-52.8\" font-family=\"Helvetica,sans-Serif\" font-size=\"14.00\">gini = 0.0</text>\r\n",
       "<text text-anchor=\"start\" x=\"367\" y=\"-37.8\" font-family=\"Helvetica,sans-Serif\" font-size=\"14.00\">samples = 2</text>\r\n",
       "<text text-anchor=\"start\" x=\"358\" y=\"-22.8\" font-family=\"Helvetica,sans-Serif\" font-size=\"14.00\">value = [0, 2, 0]</text>\r\n",
       "<text text-anchor=\"start\" x=\"377.5\" y=\"-7.8\" font-family=\"Helvetica,sans-Serif\" font-size=\"14.00\">class = 1</text>\r\n",
       "</g>\r\n",
       "<!-- 9&#45;&gt;10 -->\r\n",
       "<g id=\"edge10\" class=\"edge\"><title>9&#45;&gt;10</title>\r\n",
       "<path fill=\"none\" stroke=\"black\" d=\"M447.924,-103.726C442.646,-94.9703 437.061,-85.7032 431.758,-76.9051\"/>\r\n",
       "<polygon fill=\"black\" stroke=\"black\" points=\"434.731,-75.0574 426.571,-68.2996 428.736,-78.671 434.731,-75.0574\"/>\r\n",
       "</g>\r\n",
       "<!-- 11 -->\r\n",
       "<g id=\"node12\" class=\"node\"><title>11</title>\r\n",
       "<path fill=\"#8139e5\" stroke=\"black\" d=\"M582,-68C582,-68 493,-68 493,-68 487,-68 481,-62 481,-56 481,-56 481,-12 481,-12 481,-6 487,-0 493,-0 493,-0 582,-0 582,-0 588,-0 594,-6 594,-12 594,-12 594,-56 594,-56 594,-62 588,-68 582,-68\"/>\r\n",
       "<text text-anchor=\"start\" x=\"508.5\" y=\"-52.8\" font-family=\"Helvetica,sans-Serif\" font-size=\"14.00\">gini = 0.0</text>\r\n",
       "<text text-anchor=\"start\" x=\"498\" y=\"-37.8\" font-family=\"Helvetica,sans-Serif\" font-size=\"14.00\">samples = 1</text>\r\n",
       "<text text-anchor=\"start\" x=\"489\" y=\"-22.8\" font-family=\"Helvetica,sans-Serif\" font-size=\"14.00\">value = [0, 0, 1]</text>\r\n",
       "<text text-anchor=\"start\" x=\"508.5\" y=\"-7.8\" font-family=\"Helvetica,sans-Serif\" font-size=\"14.00\">class = 2</text>\r\n",
       "</g>\r\n",
       "<!-- 9&#45;&gt;11 -->\r\n",
       "<g id=\"edge11\" class=\"edge\"><title>9&#45;&gt;11</title>\r\n",
       "<path fill=\"none\" stroke=\"black\" d=\"M496.704,-103.726C501.901,-94.9703 507.402,-85.7032 512.625,-76.9051\"/>\r\n",
       "<polygon fill=\"black\" stroke=\"black\" points=\"515.638,-78.6853 517.733,-68.2996 509.619,-75.1121 515.638,-78.6853\"/>\r\n",
       "</g>\r\n",
       "<!-- 13 -->\r\n",
       "<g id=\"node14\" class=\"node\"><title>13</title>\r\n",
       "<path fill=\"#c09cf2\" stroke=\"black\" d=\"M671,-306C671,-306 566,-306 566,-306 560,-306 554,-300 554,-294 554,-294 554,-235 554,-235 554,-229 560,-223 566,-223 566,-223 671,-223 671,-223 677,-223 683,-229 683,-235 683,-235 683,-294 683,-294 683,-300 677,-306 671,-306\"/>\r\n",
       "<text text-anchor=\"start\" x=\"562\" y=\"-290.8\" font-family=\"Helvetica,sans-Serif\" font-size=\"14.00\">Sepal_width ≤ 3.1</text>\r\n",
       "<text text-anchor=\"start\" x=\"581\" y=\"-275.8\" font-family=\"Helvetica,sans-Serif\" font-size=\"14.00\">gini = 0.444</text>\r\n",
       "<text text-anchor=\"start\" x=\"579\" y=\"-260.8\" font-family=\"Helvetica,sans-Serif\" font-size=\"14.00\">samples = 3</text>\r\n",
       "<text text-anchor=\"start\" x=\"570\" y=\"-245.8\" font-family=\"Helvetica,sans-Serif\" font-size=\"14.00\">value = [0, 1, 2]</text>\r\n",
       "<text text-anchor=\"start\" x=\"589.5\" y=\"-230.8\" font-family=\"Helvetica,sans-Serif\" font-size=\"14.00\">class = 2</text>\r\n",
       "</g>\r\n",
       "<!-- 12&#45;&gt;13 -->\r\n",
       "<g id=\"edge13\" class=\"edge\"><title>12&#45;&gt;13</title>\r\n",
       "<path fill=\"none\" stroke=\"black\" d=\"M618.5,-341.907C618.5,-333.649 618.5,-324.864 618.5,-316.302\"/>\r\n",
       "<polygon fill=\"black\" stroke=\"black\" points=\"622,-316.021 618.5,-306.021 615,-316.021 622,-316.021\"/>\r\n",
       "</g>\r\n",
       "<!-- 16 -->\r\n",
       "<g id=\"node17\" class=\"node\"><title>16</title>\r\n",
       "<path fill=\"#8139e5\" stroke=\"black\" d=\"M810,-298.5C810,-298.5 713,-298.5 713,-298.5 707,-298.5 701,-292.5 701,-286.5 701,-286.5 701,-242.5 701,-242.5 701,-236.5 707,-230.5 713,-230.5 713,-230.5 810,-230.5 810,-230.5 816,-230.5 822,-236.5 822,-242.5 822,-242.5 822,-286.5 822,-286.5 822,-292.5 816,-298.5 810,-298.5\"/>\r\n",
       "<text text-anchor=\"start\" x=\"732.5\" y=\"-283.3\" font-family=\"Helvetica,sans-Serif\" font-size=\"14.00\">gini = 0.0</text>\r\n",
       "<text text-anchor=\"start\" x=\"718\" y=\"-268.3\" font-family=\"Helvetica,sans-Serif\" font-size=\"14.00\">samples = 43</text>\r\n",
       "<text text-anchor=\"start\" x=\"709\" y=\"-253.3\" font-family=\"Helvetica,sans-Serif\" font-size=\"14.00\">value = [0, 0, 43]</text>\r\n",
       "<text text-anchor=\"start\" x=\"732.5\" y=\"-238.3\" font-family=\"Helvetica,sans-Serif\" font-size=\"14.00\">class = 2</text>\r\n",
       "</g>\r\n",
       "<!-- 12&#45;&gt;16 -->\r\n",
       "<g id=\"edge16\" class=\"edge\"><title>12&#45;&gt;16</title>\r\n",
       "<path fill=\"none\" stroke=\"black\" d=\"M668.113,-341.907C682.679,-329.99 698.585,-316.976 713.076,-305.12\"/>\r\n",
       "<polygon fill=\"black\" stroke=\"black\" points=\"715.439,-307.708 720.963,-298.667 711.007,-302.29 715.439,-307.708\"/>\r\n",
       "</g>\r\n",
       "<!-- 14 -->\r\n",
       "<g id=\"node15\" class=\"node\"><title>14</title>\r\n",
       "<path fill=\"#8139e5\" stroke=\"black\" d=\"M663,-179.5C663,-179.5 574,-179.5 574,-179.5 568,-179.5 562,-173.5 562,-167.5 562,-167.5 562,-123.5 562,-123.5 562,-117.5 568,-111.5 574,-111.5 574,-111.5 663,-111.5 663,-111.5 669,-111.5 675,-117.5 675,-123.5 675,-123.5 675,-167.5 675,-167.5 675,-173.5 669,-179.5 663,-179.5\"/>\r\n",
       "<text text-anchor=\"start\" x=\"589.5\" y=\"-164.3\" font-family=\"Helvetica,sans-Serif\" font-size=\"14.00\">gini = 0.0</text>\r\n",
       "<text text-anchor=\"start\" x=\"579\" y=\"-149.3\" font-family=\"Helvetica,sans-Serif\" font-size=\"14.00\">samples = 2</text>\r\n",
       "<text text-anchor=\"start\" x=\"570\" y=\"-134.3\" font-family=\"Helvetica,sans-Serif\" font-size=\"14.00\">value = [0, 0, 2]</text>\r\n",
       "<text text-anchor=\"start\" x=\"589.5\" y=\"-119.3\" font-family=\"Helvetica,sans-Serif\" font-size=\"14.00\">class = 2</text>\r\n",
       "</g>\r\n",
       "<!-- 13&#45;&gt;14 -->\r\n",
       "<g id=\"edge14\" class=\"edge\"><title>13&#45;&gt;14</title>\r\n",
       "<path fill=\"none\" stroke=\"black\" d=\"M618.5,-222.907C618.5,-212.204 618.5,-200.615 618.5,-189.776\"/>\r\n",
       "<polygon fill=\"black\" stroke=\"black\" points=\"622,-189.667 618.5,-179.667 615,-189.667 622,-189.667\"/>\r\n",
       "</g>\r\n",
       "<!-- 15 -->\r\n",
       "<g id=\"node16\" class=\"node\"><title>15</title>\r\n",
       "<path fill=\"#39e581\" stroke=\"black\" d=\"M794,-179.5C794,-179.5 705,-179.5 705,-179.5 699,-179.5 693,-173.5 693,-167.5 693,-167.5 693,-123.5 693,-123.5 693,-117.5 699,-111.5 705,-111.5 705,-111.5 794,-111.5 794,-111.5 800,-111.5 806,-117.5 806,-123.5 806,-123.5 806,-167.5 806,-167.5 806,-173.5 800,-179.5 794,-179.5\"/>\r\n",
       "<text text-anchor=\"start\" x=\"720.5\" y=\"-164.3\" font-family=\"Helvetica,sans-Serif\" font-size=\"14.00\">gini = 0.0</text>\r\n",
       "<text text-anchor=\"start\" x=\"710\" y=\"-149.3\" font-family=\"Helvetica,sans-Serif\" font-size=\"14.00\">samples = 1</text>\r\n",
       "<text text-anchor=\"start\" x=\"701\" y=\"-134.3\" font-family=\"Helvetica,sans-Serif\" font-size=\"14.00\">value = [0, 1, 0]</text>\r\n",
       "<text text-anchor=\"start\" x=\"720.5\" y=\"-119.3\" font-family=\"Helvetica,sans-Serif\" font-size=\"14.00\">class = 1</text>\r\n",
       "</g>\r\n",
       "<!-- 13&#45;&gt;15 -->\r\n",
       "<g id=\"edge15\" class=\"edge\"><title>13&#45;&gt;15</title>\r\n",
       "<path fill=\"none\" stroke=\"black\" d=\"M663.95,-222.907C677.17,-211.101 691.595,-198.217 704.77,-186.45\"/>\r\n",
       "<polygon fill=\"black\" stroke=\"black\" points=\"707.237,-188.939 712.364,-179.667 702.575,-183.718 707.237,-188.939\"/>\r\n",
       "</g>\r\n",
       "</g>\r\n",
       "</svg>\r\n"
      ],
      "text/plain": [
       "<graphviz.files.Source at 0x2571937d7c0>"
      ]
     },
     "execution_count": 12,
     "metadata": {},
     "output_type": "execute_result"
    }
   ],
   "source": [
    "# import the library graphviz\n",
    "import graphviz \n",
    "\n",
    "# Create an object named as 'dot_data_iris' by calling a method 'export_graphviz'\n",
    "dot_data_iris = export_graphviz(clf_iris, out_file = None, \n",
    "                                feature_names = fn_iris,  \n",
    "                                class_names = cn_iris,  \n",
    "                                filled = True, rounded = True,  \n",
    "                                special_characters = True)\n",
    "\n",
    "graph = graphviz.Source(dot_data_iris) \n",
    "graph"
   ]
  },
  {
   "cell_type": "code",
   "execution_count": 13,
   "metadata": {},
   "outputs": [
    {
     "name": "stdout",
     "output_type": "stream",
     "text": [
      "Requirement already satisfied: pydotplus in c:\\users\\munaw\\anaconda3\\lib\\site-packages (2.0.2)\n",
      "Requirement already satisfied: pyparsing>=2.0.1 in c:\\users\\munaw\\anaconda3\\lib\\site-packages (from pydotplus) (2.4.7)\n",
      "Note: you may need to restart the kernel to use updated packages.\n"
     ]
    }
   ],
   "source": [
    "pip install pydotplus"
   ]
  },
  {
   "cell_type": "code",
   "execution_count": 14,
   "metadata": {},
   "outputs": [
    {
     "name": "stdout",
     "output_type": "stream",
     "text": [
      "Requirement already satisfied: six in c:\\users\\munaw\\anaconda3\\lib\\site-packages (1.15.0)\n",
      "Note: you may need to restart the kernel to use updated packages.\n"
     ]
    }
   ],
   "source": [
    "pip install six"
   ]
  },
  {
   "cell_type": "markdown",
   "metadata": {},
   "source": [
    "## Optimizing Decision Tree Performance\n",
    "### criterion : optional (default=”gini”)\n",
    "Choose attribute selection measure: This parameter allows us to use the different-different attribute selection measure. Supported criteria are “gini” for the Gini index and “entropy” for the information gain.\n",
    "\n",
    "## splitter : string, optional (default=”best”) or Split Strategy:¶\n",
    "This parameter allows us to choose the split strategy. Supported strategies are “best” to choose the best split and “random” to choose the best random split.\n",
    "\n",
    "## max_depth : int or None, optional (default=None) or Maximum Depth of a Tree:\n",
    "The maximum depth of the tree. If None, then nodes are expanded until all the leaves contain less than min_samples_split samples. The higher value of maximum depth causes overfitting, and a lower value causes underfitting."
   ]
  },
  {
   "cell_type": "code",
   "execution_count": 15,
   "metadata": {},
   "outputs": [
    {
     "name": "stdout",
     "output_type": "stream",
     "text": [
      "Accuracy: 0.7705627705627706\n"
     ]
    }
   ],
   "source": [
    "# Create Decision Tree classifer object\n",
    "clf_entropy = DecisionTreeClassifier(criterion = \"entropy\", max_depth = 3)\n",
    "\n",
    "# Train Decision Tree Classifer\n",
    "clf_entropy = clf_entropy.fit(X_train, y_train)\n",
    "\n",
    "#Predict the response for test dataset\n",
    "y_pred = clf_entropy.predict(X_test)\n",
    "\n",
    "# Model Accuracy, how often is the classifier correct?\n",
    "print(\"Accuracy:\",metrics.accuracy_score(y_test, y_pred))"
   ]
  },
  {
   "cell_type": "code",
   "execution_count": 16,
   "metadata": {
    "scrolled": true
   },
   "outputs": [
    {
     "data": {
      "image/svg+xml": [
       "<?xml version=\"1.0\" encoding=\"UTF-8\" standalone=\"no\"?>\r\n",
       "<!DOCTYPE svg PUBLIC \"-//W3C//DTD SVG 1.1//EN\"\r\n",
       " \"http://www.w3.org/Graphics/SVG/1.1/DTD/svg11.dtd\">\r\n",
       "<!-- Generated by graphviz version 2.38.0 (20140413.2041)\r\n",
       " -->\r\n",
       "<!-- Title: Tree Pages: 1 -->\r\n",
       "<svg width=\"1050pt\" height=\"433pt\"\r\n",
       " viewBox=\"0.00 0.00 1050.00 433.00\" xmlns=\"http://www.w3.org/2000/svg\" xmlns:xlink=\"http://www.w3.org/1999/xlink\">\r\n",
       "<g id=\"graph0\" class=\"graph\" transform=\"scale(1 1) rotate(0) translate(4 429)\">\r\n",
       "<title>Tree</title>\r\n",
       "<polygon fill=\"white\" stroke=\"none\" points=\"-4,4 -4,-429 1046,-429 1046,4 -4,4\"/>\r\n",
       "<!-- 0 -->\r\n",
       "<g id=\"node1\" class=\"node\"><title>0</title>\r\n",
       "<path fill=\"#f2c29f\" stroke=\"black\" d=\"M580,-425C580,-425 474,-425 474,-425 468,-425 462,-419 462,-413 462,-413 462,-354 462,-354 462,-348 468,-342 474,-342 474,-342 580,-342 580,-342 586,-342 592,-348 592,-354 592,-354 592,-413 592,-413 592,-419 586,-425 580,-425\"/>\r\n",
       "<text text-anchor=\"start\" x=\"475.5\" y=\"-409.8\" font-family=\"Helvetica,sans-Serif\" font-size=\"14.00\">glucose ≤ 127.5</text>\r\n",
       "<text text-anchor=\"start\" x=\"477\" y=\"-394.8\" font-family=\"Helvetica,sans-Serif\" font-size=\"14.00\">entropy = 0.926</text>\r\n",
       "<text text-anchor=\"start\" x=\"479.5\" y=\"-379.8\" font-family=\"Helvetica,sans-Serif\" font-size=\"14.00\">samples = 537</text>\r\n",
       "<text text-anchor=\"start\" x=\"470\" y=\"-364.8\" font-family=\"Helvetica,sans-Serif\" font-size=\"14.00\">value = [354, 183]</text>\r\n",
       "<text text-anchor=\"start\" x=\"498\" y=\"-349.8\" font-family=\"Helvetica,sans-Serif\" font-size=\"14.00\">class = 0</text>\r\n",
       "</g>\r\n",
       "<!-- 1 -->\r\n",
       "<g id=\"node2\" class=\"node\"><title>1</title>\r\n",
       "<path fill=\"#eba06a\" stroke=\"black\" d=\"M475,-306C475,-306 377,-306 377,-306 371,-306 365,-300 365,-294 365,-294 365,-235 365,-235 365,-229 371,-223 377,-223 377,-223 475,-223 475,-223 481,-223 487,-229 487,-235 487,-235 487,-294 487,-294 487,-300 481,-306 475,-306\"/>\r\n",
       "<text text-anchor=\"start\" x=\"388\" y=\"-290.8\" font-family=\"Helvetica,sans-Serif\" font-size=\"14.00\">bmi ≤ 26.45</text>\r\n",
       "<text text-anchor=\"start\" x=\"380\" y=\"-275.8\" font-family=\"Helvetica,sans-Serif\" font-size=\"14.00\">entropy = 0.72</text>\r\n",
       "<text text-anchor=\"start\" x=\"378.5\" y=\"-260.8\" font-family=\"Helvetica,sans-Serif\" font-size=\"14.00\">samples = 342</text>\r\n",
       "<text text-anchor=\"start\" x=\"373\" y=\"-245.8\" font-family=\"Helvetica,sans-Serif\" font-size=\"14.00\">value = [274, 68]</text>\r\n",
       "<text text-anchor=\"start\" x=\"397\" y=\"-230.8\" font-family=\"Helvetica,sans-Serif\" font-size=\"14.00\">class = 0</text>\r\n",
       "</g>\r\n",
       "<!-- 0&#45;&gt;1 -->\r\n",
       "<g id=\"edge1\" class=\"edge\"><title>0&#45;&gt;1</title>\r\n",
       "<path fill=\"none\" stroke=\"black\" d=\"M491.959,-341.907C484.124,-332.832 475.741,-323.121 467.669,-313.769\"/>\r\n",
       "<polygon fill=\"black\" stroke=\"black\" points=\"470.163,-311.303 460.98,-306.021 464.865,-315.878 470.163,-311.303\"/>\r\n",
       "<text text-anchor=\"middle\" x=\"459.15\" y=\"-327.254\" font-family=\"Helvetica,sans-Serif\" font-size=\"14.00\">True</text>\r\n",
       "</g>\r\n",
       "<!-- 8 -->\r\n",
       "<g id=\"node9\" class=\"node\"><title>8</title>\r\n",
       "<path fill=\"#c3e1f7\" stroke=\"black\" d=\"M677,-306C677,-306 579,-306 579,-306 573,-306 567,-300 567,-294 567,-294 567,-235 567,-235 567,-229 573,-223 579,-223 579,-223 677,-223 677,-223 683,-223 689,-229 689,-235 689,-235 689,-294 689,-294 689,-300 683,-306 677,-306\"/>\r\n",
       "<text text-anchor=\"start\" x=\"590\" y=\"-290.8\" font-family=\"Helvetica,sans-Serif\" font-size=\"14.00\">bmi ≤ 28.15</text>\r\n",
       "<text text-anchor=\"start\" x=\"578\" y=\"-275.8\" font-family=\"Helvetica,sans-Serif\" font-size=\"14.00\">entropy = 0.977</text>\r\n",
       "<text text-anchor=\"start\" x=\"580.5\" y=\"-260.8\" font-family=\"Helvetica,sans-Serif\" font-size=\"14.00\">samples = 195</text>\r\n",
       "<text text-anchor=\"start\" x=\"575\" y=\"-245.8\" font-family=\"Helvetica,sans-Serif\" font-size=\"14.00\">value = [80, 115]</text>\r\n",
       "<text text-anchor=\"start\" x=\"599\" y=\"-230.8\" font-family=\"Helvetica,sans-Serif\" font-size=\"14.00\">class = 1</text>\r\n",
       "</g>\r\n",
       "<!-- 0&#45;&gt;8 -->\r\n",
       "<g id=\"edge8\" class=\"edge\"><title>0&#45;&gt;8</title>\r\n",
       "<path fill=\"none\" stroke=\"black\" d=\"M562.041,-341.907C569.876,-332.832 578.259,-323.121 586.331,-313.769\"/>\r\n",
       "<polygon fill=\"black\" stroke=\"black\" points=\"589.135,-315.878 593.02,-306.021 583.837,-311.303 589.135,-315.878\"/>\r\n",
       "<text text-anchor=\"middle\" x=\"594.85\" y=\"-327.254\" font-family=\"Helvetica,sans-Serif\" font-size=\"14.00\">False</text>\r\n",
       "</g>\r\n",
       "<!-- 2 -->\r\n",
       "<g id=\"node3\" class=\"node\"><title>2</title>\r\n",
       "<path fill=\"#e6853f\" stroke=\"black\" d=\"M238,-187C238,-187 146,-187 146,-187 140,-187 134,-181 134,-175 134,-175 134,-116 134,-116 134,-110 140,-104 146,-104 146,-104 238,-104 238,-104 244,-104 250,-110 250,-116 250,-116 250,-175 250,-175 250,-181 244,-187 238,-187\"/>\r\n",
       "<text text-anchor=\"start\" x=\"162.5\" y=\"-171.8\" font-family=\"Helvetica,sans-Serif\" font-size=\"14.00\">bmi ≤ 9.1</text>\r\n",
       "<text text-anchor=\"start\" x=\"142\" y=\"-156.8\" font-family=\"Helvetica,sans-Serif\" font-size=\"14.00\">entropy = 0.201</text>\r\n",
       "<text text-anchor=\"start\" x=\"148.5\" y=\"-141.8\" font-family=\"Helvetica,sans-Serif\" font-size=\"14.00\">samples = 96</text>\r\n",
       "<text text-anchor=\"start\" x=\"147.5\" y=\"-126.8\" font-family=\"Helvetica,sans-Serif\" font-size=\"14.00\">value = [93, 3]</text>\r\n",
       "<text text-anchor=\"start\" x=\"163\" y=\"-111.8\" font-family=\"Helvetica,sans-Serif\" font-size=\"14.00\">class = 0</text>\r\n",
       "</g>\r\n",
       "<!-- 1&#45;&gt;2 -->\r\n",
       "<g id=\"edge2\" class=\"edge\"><title>1&#45;&gt;2</title>\r\n",
       "<path fill=\"none\" stroke=\"black\" d=\"M364.825,-232.912C332.519,-216.76 292.796,-196.898 259.583,-180.291\"/>\r\n",
       "<polygon fill=\"black\" stroke=\"black\" points=\"260.909,-177.041 250.399,-175.7 257.778,-183.302 260.909,-177.041\"/>\r\n",
       "</g>\r\n",
       "<!-- 5 -->\r\n",
       "<g id=\"node6\" class=\"node\"><title>5</title>\r\n",
       "<path fill=\"#eeae80\" stroke=\"black\" d=\"M475,-187C475,-187 377,-187 377,-187 371,-187 365,-181 365,-175 365,-175 365,-116 365,-116 365,-110 371,-104 377,-104 377,-104 475,-104 475,-104 481,-104 487,-110 487,-116 487,-116 487,-175 487,-175 487,-181 481,-187 475,-187\"/>\r\n",
       "<text text-anchor=\"start\" x=\"392\" y=\"-171.8\" font-family=\"Helvetica,sans-Serif\" font-size=\"14.00\">age ≤ 27.5</text>\r\n",
       "<text text-anchor=\"start\" x=\"376\" y=\"-156.8\" font-family=\"Helvetica,sans-Serif\" font-size=\"14.00\">entropy = 0.833</text>\r\n",
       "<text text-anchor=\"start\" x=\"378.5\" y=\"-141.8\" font-family=\"Helvetica,sans-Serif\" font-size=\"14.00\">samples = 246</text>\r\n",
       "<text text-anchor=\"start\" x=\"373\" y=\"-126.8\" font-family=\"Helvetica,sans-Serif\" font-size=\"14.00\">value = [181, 65]</text>\r\n",
       "<text text-anchor=\"start\" x=\"397\" y=\"-111.8\" font-family=\"Helvetica,sans-Serif\" font-size=\"14.00\">class = 0</text>\r\n",
       "</g>\r\n",
       "<!-- 1&#45;&gt;5 -->\r\n",
       "<g id=\"edge5\" class=\"edge\"><title>1&#45;&gt;5</title>\r\n",
       "<path fill=\"none\" stroke=\"black\" d=\"M426,-222.907C426,-214.649 426,-205.864 426,-197.302\"/>\r\n",
       "<polygon fill=\"black\" stroke=\"black\" points=\"429.5,-197.021 426,-187.021 422.5,-197.021 429.5,-197.021\"/>\r\n",
       "</g>\r\n",
       "<!-- 3 -->\r\n",
       "<g id=\"node4\" class=\"node\"><title>3</title>\r\n",
       "<path fill=\"#f2c09c\" stroke=\"black\" d=\"M104,-68C104,-68 12,-68 12,-68 6,-68 0,-62 0,-56 0,-56 0,-12 0,-12 0,-6 6,-0 12,-0 12,-0 104,-0 104,-0 110,-0 116,-6 116,-12 116,-12 116,-56 116,-56 116,-62 110,-68 104,-68\"/>\r\n",
       "<text text-anchor=\"start\" x=\"8\" y=\"-52.8\" font-family=\"Helvetica,sans-Serif\" font-size=\"14.00\">entropy = 0.918</text>\r\n",
       "<text text-anchor=\"start\" x=\"18.5\" y=\"-37.8\" font-family=\"Helvetica,sans-Serif\" font-size=\"14.00\">samples = 6</text>\r\n",
       "<text text-anchor=\"start\" x=\"17.5\" y=\"-22.8\" font-family=\"Helvetica,sans-Serif\" font-size=\"14.00\">value = [4, 2]</text>\r\n",
       "<text text-anchor=\"start\" x=\"29\" y=\"-7.8\" font-family=\"Helvetica,sans-Serif\" font-size=\"14.00\">class = 0</text>\r\n",
       "</g>\r\n",
       "<!-- 2&#45;&gt;3 -->\r\n",
       "<g id=\"edge3\" class=\"edge\"><title>2&#45;&gt;3</title>\r\n",
       "<path fill=\"none\" stroke=\"black\" d=\"M142.103,-103.726C130.495,-94.2406 118.153,-84.1551 106.602,-74.7159\"/>\r\n",
       "<polygon fill=\"black\" stroke=\"black\" points=\"108.708,-71.9171 98.7502,-68.2996 104.279,-77.3375 108.708,-71.9171\"/>\r\n",
       "</g>\r\n",
       "<!-- 4 -->\r\n",
       "<g id=\"node5\" class=\"node\"><title>4</title>\r\n",
       "<path fill=\"#e5823b\" stroke=\"black\" d=\"M238,-68C238,-68 146,-68 146,-68 140,-68 134,-62 134,-56 134,-56 134,-12 134,-12 134,-6 140,-0 146,-0 146,-0 238,-0 238,-0 244,-0 250,-6 250,-12 250,-12 250,-56 250,-56 250,-62 244,-68 238,-68\"/>\r\n",
       "<text text-anchor=\"start\" x=\"142\" y=\"-52.8\" font-family=\"Helvetica,sans-Serif\" font-size=\"14.00\">entropy = 0.088</text>\r\n",
       "<text text-anchor=\"start\" x=\"148.5\" y=\"-37.8\" font-family=\"Helvetica,sans-Serif\" font-size=\"14.00\">samples = 90</text>\r\n",
       "<text text-anchor=\"start\" x=\"147.5\" y=\"-22.8\" font-family=\"Helvetica,sans-Serif\" font-size=\"14.00\">value = [89, 1]</text>\r\n",
       "<text text-anchor=\"start\" x=\"163\" y=\"-7.8\" font-family=\"Helvetica,sans-Serif\" font-size=\"14.00\">class = 0</text>\r\n",
       "</g>\r\n",
       "<!-- 2&#45;&gt;4 -->\r\n",
       "<g id=\"edge4\" class=\"edge\"><title>2&#45;&gt;4</title>\r\n",
       "<path fill=\"none\" stroke=\"black\" d=\"M192,-103.726C192,-95.5175 192,-86.8595 192,-78.56\"/>\r\n",
       "<polygon fill=\"black\" stroke=\"black\" points=\"195.5,-78.2996 192,-68.2996 188.5,-78.2996 195.5,-78.2996\"/>\r\n",
       "</g>\r\n",
       "<!-- 6 -->\r\n",
       "<g id=\"node7\" class=\"node\"><title>6</title>\r\n",
       "<path fill=\"#e99355\" stroke=\"black\" d=\"M372,-68C372,-68 280,-68 280,-68 274,-68 268,-62 268,-56 268,-56 268,-12 268,-12 268,-6 274,-0 280,-0 280,-0 372,-0 372,-0 378,-0 384,-6 384,-12 384,-12 384,-56 384,-56 384,-62 378,-68 372,-68\"/>\r\n",
       "<text text-anchor=\"start\" x=\"276\" y=\"-52.8\" font-family=\"Helvetica,sans-Serif\" font-size=\"14.00\">entropy = 0.544</text>\r\n",
       "<text text-anchor=\"start\" x=\"278.5\" y=\"-37.8\" font-family=\"Helvetica,sans-Serif\" font-size=\"14.00\">samples = 112</text>\r\n",
       "<text text-anchor=\"start\" x=\"277.5\" y=\"-22.8\" font-family=\"Helvetica,sans-Serif\" font-size=\"14.00\">value = [98, 14]</text>\r\n",
       "<text text-anchor=\"start\" x=\"297\" y=\"-7.8\" font-family=\"Helvetica,sans-Serif\" font-size=\"14.00\">class = 0</text>\r\n",
       "</g>\r\n",
       "<!-- 5&#45;&gt;6 -->\r\n",
       "<g id=\"edge6\" class=\"edge\"><title>5&#45;&gt;6</title>\r\n",
       "<path fill=\"none\" stroke=\"black\" d=\"M388.764,-103.726C380.434,-94.6054 371.598,-84.93 363.267,-75.8078\"/>\r\n",
       "<polygon fill=\"black\" stroke=\"black\" points=\"365.739,-73.3235 356.411,-68.2996 360.57,-78.044 365.739,-73.3235\"/>\r\n",
       "</g>\r\n",
       "<!-- 7 -->\r\n",
       "<g id=\"node8\" class=\"node\"><title>7</title>\r\n",
       "<path fill=\"#f5ceb3\" stroke=\"black\" d=\"M506,-68C506,-68 414,-68 414,-68 408,-68 402,-62 402,-56 402,-56 402,-12 402,-12 402,-6 408,-0 414,-0 414,-0 506,-0 506,-0 512,-0 518,-6 518,-12 518,-12 518,-56 518,-56 518,-62 512,-68 506,-68\"/>\r\n",
       "<text text-anchor=\"start\" x=\"410\" y=\"-52.8\" font-family=\"Helvetica,sans-Serif\" font-size=\"14.00\">entropy = 0.958</text>\r\n",
       "<text text-anchor=\"start\" x=\"412.5\" y=\"-37.8\" font-family=\"Helvetica,sans-Serif\" font-size=\"14.00\">samples = 134</text>\r\n",
       "<text text-anchor=\"start\" x=\"411.5\" y=\"-22.8\" font-family=\"Helvetica,sans-Serif\" font-size=\"14.00\">value = [83, 51]</text>\r\n",
       "<text text-anchor=\"start\" x=\"431\" y=\"-7.8\" font-family=\"Helvetica,sans-Serif\" font-size=\"14.00\">class = 0</text>\r\n",
       "</g>\r\n",
       "<!-- 5&#45;&gt;7 -->\r\n",
       "<g id=\"edge7\" class=\"edge\"><title>5&#45;&gt;7</title>\r\n",
       "<path fill=\"none\" stroke=\"black\" d=\"M438.66,-103.726C441.266,-95.3351 444.017,-86.4745 446.646,-78.0072\"/>\r\n",
       "<polygon fill=\"black\" stroke=\"black\" points=\"450.038,-78.8877 449.66,-68.2996 443.352,-76.8119 450.038,-78.8877\"/>\r\n",
       "</g>\r\n",
       "<!-- 9 -->\r\n",
       "<g id=\"node10\" class=\"node\"><title>9</title>\r\n",
       "<path fill=\"#eeac7d\" stroke=\"black\" d=\"M675.5,-187C675.5,-187 580.5,-187 580.5,-187 574.5,-187 568.5,-181 568.5,-175 568.5,-175 568.5,-116 568.5,-116 568.5,-110 574.5,-104 580.5,-104 580.5,-104 675.5,-104 675.5,-104 681.5,-104 687.5,-110 687.5,-116 687.5,-116 687.5,-175 687.5,-175 687.5,-181 681.5,-187 675.5,-187\"/>\r\n",
       "<text text-anchor=\"start\" x=\"576.5\" y=\"-171.8\" font-family=\"Helvetica,sans-Serif\" font-size=\"14.00\">glucose ≤ 145.5</text>\r\n",
       "<text text-anchor=\"start\" x=\"582\" y=\"-156.8\" font-family=\"Helvetica,sans-Serif\" font-size=\"14.00\">entropy = 0.82</text>\r\n",
       "<text text-anchor=\"start\" x=\"584.5\" y=\"-141.8\" font-family=\"Helvetica,sans-Serif\" font-size=\"14.00\">samples = 43</text>\r\n",
       "<text text-anchor=\"start\" x=\"579.5\" y=\"-126.8\" font-family=\"Helvetica,sans-Serif\" font-size=\"14.00\">value = [32, 11]</text>\r\n",
       "<text text-anchor=\"start\" x=\"599\" y=\"-111.8\" font-family=\"Helvetica,sans-Serif\" font-size=\"14.00\">class = 0</text>\r\n",
       "</g>\r\n",
       "<!-- 8&#45;&gt;9 -->\r\n",
       "<g id=\"edge9\" class=\"edge\"><title>8&#45;&gt;9</title>\r\n",
       "<path fill=\"none\" stroke=\"black\" d=\"M628,-222.907C628,-214.649 628,-205.864 628,-197.302\"/>\r\n",
       "<polygon fill=\"black\" stroke=\"black\" points=\"631.5,-197.021 628,-187.021 624.5,-197.021 631.5,-197.021\"/>\r\n",
       "</g>\r\n",
       "<!-- 12 -->\r\n",
       "<g id=\"node13\" class=\"node\"><title>12</title>\r\n",
       "<path fill=\"#94caf1\" stroke=\"black\" d=\"M899,-187C899,-187 801,-187 801,-187 795,-187 789,-181 789,-175 789,-175 789,-116 789,-116 789,-110 795,-104 801,-104 801,-104 899,-104 899,-104 905,-104 911,-110 911,-116 911,-116 911,-175 911,-175 911,-181 905,-187 899,-187\"/>\r\n",
       "<text text-anchor=\"start\" x=\"798.5\" y=\"-171.8\" font-family=\"Helvetica,sans-Serif\" font-size=\"14.00\">glucose ≤ 158.5</text>\r\n",
       "<text text-anchor=\"start\" x=\"808\" y=\"-156.8\" font-family=\"Helvetica,sans-Serif\" font-size=\"14.00\">entropy = 0.9</text>\r\n",
       "<text text-anchor=\"start\" x=\"802.5\" y=\"-141.8\" font-family=\"Helvetica,sans-Serif\" font-size=\"14.00\">samples = 152</text>\r\n",
       "<text text-anchor=\"start\" x=\"797\" y=\"-126.8\" font-family=\"Helvetica,sans-Serif\" font-size=\"14.00\">value = [48, 104]</text>\r\n",
       "<text text-anchor=\"start\" x=\"821\" y=\"-111.8\" font-family=\"Helvetica,sans-Serif\" font-size=\"14.00\">class = 1</text>\r\n",
       "</g>\r\n",
       "<!-- 8&#45;&gt;12 -->\r\n",
       "<g id=\"edge12\" class=\"edge\"><title>8&#45;&gt;12</title>\r\n",
       "<path fill=\"none\" stroke=\"black\" d=\"M689.25,-231.22C717.397,-216.385 750.925,-198.715 780.06,-183.36\"/>\r\n",
       "<polygon fill=\"black\" stroke=\"black\" points=\"781.735,-186.434 788.95,-178.675 778.471,-180.241 781.735,-186.434\"/>\r\n",
       "</g>\r\n",
       "<!-- 10 -->\r\n",
       "<g id=\"node11\" class=\"node\"><title>10</title>\r\n",
       "<path fill=\"#e78c4a\" stroke=\"black\" d=\"M640,-68C640,-68 548,-68 548,-68 542,-68 536,-62 536,-56 536,-56 536,-12 536,-12 536,-6 542,-0 548,-0 548,-0 640,-0 640,-0 646,-0 652,-6 652,-12 652,-12 652,-56 652,-56 652,-62 646,-68 640,-68\"/>\r\n",
       "<text text-anchor=\"start\" x=\"544\" y=\"-52.8\" font-family=\"Helvetica,sans-Serif\" font-size=\"14.00\">entropy = 0.402</text>\r\n",
       "<text text-anchor=\"start\" x=\"550.5\" y=\"-37.8\" font-family=\"Helvetica,sans-Serif\" font-size=\"14.00\">samples = 25</text>\r\n",
       "<text text-anchor=\"start\" x=\"549.5\" y=\"-22.8\" font-family=\"Helvetica,sans-Serif\" font-size=\"14.00\">value = [23, 2]</text>\r\n",
       "<text text-anchor=\"start\" x=\"565\" y=\"-7.8\" font-family=\"Helvetica,sans-Serif\" font-size=\"14.00\">class = 0</text>\r\n",
       "</g>\r\n",
       "<!-- 9&#45;&gt;10 -->\r\n",
       "<g id=\"edge10\" class=\"edge\"><title>9&#45;&gt;10</title>\r\n",
       "<path fill=\"none\" stroke=\"black\" d=\"M615.34,-103.726C612.734,-95.3351 609.983,-86.4745 607.354,-78.0072\"/>\r\n",
       "<polygon fill=\"black\" stroke=\"black\" points=\"610.648,-76.8119 604.34,-68.2996 603.962,-78.8877 610.648,-76.8119\"/>\r\n",
       "</g>\r\n",
       "<!-- 11 -->\r\n",
       "<g id=\"node12\" class=\"node\"><title>11</title>\r\n",
       "<path fill=\"#ffffff\" stroke=\"black\" d=\"M761.5,-68C761.5,-68 682.5,-68 682.5,-68 676.5,-68 670.5,-62 670.5,-56 670.5,-56 670.5,-12 670.5,-12 670.5,-6 676.5,-0 682.5,-0 682.5,-0 761.5,-0 761.5,-0 767.5,-0 773.5,-6 773.5,-12 773.5,-12 773.5,-56 773.5,-56 773.5,-62 767.5,-68 761.5,-68\"/>\r\n",
       "<text text-anchor=\"start\" x=\"680\" y=\"-52.8\" font-family=\"Helvetica,sans-Serif\" font-size=\"14.00\">entropy = 1.0</text>\r\n",
       "<text text-anchor=\"start\" x=\"678.5\" y=\"-37.8\" font-family=\"Helvetica,sans-Serif\" font-size=\"14.00\">samples = 18</text>\r\n",
       "<text text-anchor=\"start\" x=\"681.5\" y=\"-22.8\" font-family=\"Helvetica,sans-Serif\" font-size=\"14.00\">value = [9, 9]</text>\r\n",
       "<text text-anchor=\"start\" x=\"693\" y=\"-7.8\" font-family=\"Helvetica,sans-Serif\" font-size=\"14.00\">class = 0</text>\r\n",
       "</g>\r\n",
       "<!-- 9&#45;&gt;11 -->\r\n",
       "<g id=\"edge11\" class=\"edge\"><title>9&#45;&gt;11</title>\r\n",
       "<path fill=\"none\" stroke=\"black\" d=\"M663.002,-103.726C670.754,-94.6966 678.972,-85.1235 686.734,-76.0816\"/>\r\n",
       "<polygon fill=\"black\" stroke=\"black\" points=\"689.556,-78.1671 693.414,-68.2996 684.245,-73.6075 689.556,-78.1671\"/>\r\n",
       "</g>\r\n",
       "<!-- 13 -->\r\n",
       "<g id=\"node14\" class=\"node\"><title>13</title>\r\n",
       "<path fill=\"#cde6f8\" stroke=\"black\" d=\"M896,-68C896,-68 804,-68 804,-68 798,-68 792,-62 792,-56 792,-56 792,-12 792,-12 792,-6 798,-0 804,-0 804,-0 896,-0 896,-0 902,-0 908,-6 908,-12 908,-12 908,-56 908,-56 908,-62 902,-68 896,-68\"/>\r\n",
       "<text text-anchor=\"start\" x=\"800\" y=\"-52.8\" font-family=\"Helvetica,sans-Serif\" font-size=\"14.00\">entropy = 0.985</text>\r\n",
       "<text text-anchor=\"start\" x=\"806.5\" y=\"-37.8\" font-family=\"Helvetica,sans-Serif\" font-size=\"14.00\">samples = 96</text>\r\n",
       "<text text-anchor=\"start\" x=\"801.5\" y=\"-22.8\" font-family=\"Helvetica,sans-Serif\" font-size=\"14.00\">value = [41, 55]</text>\r\n",
       "<text text-anchor=\"start\" x=\"821\" y=\"-7.8\" font-family=\"Helvetica,sans-Serif\" font-size=\"14.00\">class = 1</text>\r\n",
       "</g>\r\n",
       "<!-- 12&#45;&gt;13 -->\r\n",
       "<g id=\"edge13\" class=\"edge\"><title>12&#45;&gt;13</title>\r\n",
       "<path fill=\"none\" stroke=\"black\" d=\"M850,-103.726C850,-95.5175 850,-86.8595 850,-78.56\"/>\r\n",
       "<polygon fill=\"black\" stroke=\"black\" points=\"853.5,-78.2996 850,-68.2996 846.5,-78.2996 853.5,-78.2996\"/>\r\n",
       "</g>\r\n",
       "<!-- 14 -->\r\n",
       "<g id=\"node15\" class=\"node\"><title>14</title>\r\n",
       "<path fill=\"#55abe9\" stroke=\"black\" d=\"M1030,-68C1030,-68 938,-68 938,-68 932,-68 926,-62 926,-56 926,-56 926,-12 926,-12 926,-6 932,-0 938,-0 938,-0 1030,-0 1030,-0 1036,-0 1042,-6 1042,-12 1042,-12 1042,-56 1042,-56 1042,-62 1036,-68 1030,-68\"/>\r\n",
       "<text text-anchor=\"start\" x=\"934\" y=\"-52.8\" font-family=\"Helvetica,sans-Serif\" font-size=\"14.00\">entropy = 0.544</text>\r\n",
       "<text text-anchor=\"start\" x=\"940.5\" y=\"-37.8\" font-family=\"Helvetica,sans-Serif\" font-size=\"14.00\">samples = 56</text>\r\n",
       "<text text-anchor=\"start\" x=\"939.5\" y=\"-22.8\" font-family=\"Helvetica,sans-Serif\" font-size=\"14.00\">value = [7, 49]</text>\r\n",
       "<text text-anchor=\"start\" x=\"955\" y=\"-7.8\" font-family=\"Helvetica,sans-Serif\" font-size=\"14.00\">class = 1</text>\r\n",
       "</g>\r\n",
       "<!-- 12&#45;&gt;14 -->\r\n",
       "<g id=\"edge14\" class=\"edge\"><title>12&#45;&gt;14</title>\r\n",
       "<path fill=\"none\" stroke=\"black\" d=\"M899.897,-103.726C911.505,-94.2406 923.847,-84.1551 935.398,-74.7159\"/>\r\n",
       "<polygon fill=\"black\" stroke=\"black\" points=\"937.721,-77.3375 943.25,-68.2996 933.292,-71.9171 937.721,-77.3375\"/>\r\n",
       "</g>\r\n",
       "</g>\r\n",
       "</svg>\r\n"
      ],
      "text/plain": [
       "<graphviz.files.Source at 0x2571937d6a0>"
      ]
     },
     "execution_count": 16,
     "metadata": {},
     "output_type": "execute_result"
    }
   ],
   "source": [
    "import graphviz \n",
    "from sklearn.tree import export_graphviz\n",
    "\n",
    "# column names for dataset\n",
    "fn=['pregnant', 'insulin', 'bmi', 'age','glucose','bp','pedigree']\n",
    "\n",
    "# classes of dataset\n",
    "cn=['0','1']\n",
    "\n",
    "# Create an object named as 'dot_data_oima' by calling a method 'export_graphviz'\n",
    "dot_data_pima_entropy = export_graphviz(clf_entropy, out_file = None, \n",
    "                                feature_names = fn,  \n",
    "                                class_names = cn,  \n",
    "                                filled = True, rounded = True,  \n",
    "                                special_characters = True)\n",
    "\n",
    "graph = graphviz.Source(dot_data_pima_entropy) \n",
    "graph "
   ]
  },
  {
   "cell_type": "markdown",
   "metadata": {},
   "source": [
    "# Task 1: \n",
    "Consider the dataset (car_evaluation.csv) available on Moodle to apply DecisionTreeClassifier and show the decision tree upto level 4. The categorical data is present in the car_evaluation.csv dataset, use <b>category_encoders library </b> to convert categorical data into continuous data. Classify the cars using 'gini index' based on their conditions such as unacceptable (unacc), acceptable (acc), good and very good using Decision Tree machine learning model."
   ]
  },
  {
   "cell_type": "markdown",
   "metadata": {},
   "source": [
    "# Random Forest\n",
    "We are building a model on the iris flower dataset, which is a very famous classification set. It comprises the sepal length, sepal width, petal length, petal width, and type of flowers. There are three species or classes: setosa, versicolor, and virginia. We build a model to classify the type of flower. The dataset is available in the scikit-learn library or we can download it from the UCI Machine Learning Repository.\n",
    "\n",
    "Start by importing the datasets library from scikit-learn, and load the iris dataset with load_iris()."
   ]
  },
  {
   "cell_type": "code",
   "execution_count": 17,
   "metadata": {},
   "outputs": [],
   "source": [
    "#Import scikit-learn dataset library\n",
    "from sklearn import datasets\n",
    "\n",
    "#Load dataset\n",
    "iris = datasets.load_iris()"
   ]
  },
  {
   "cell_type": "code",
   "execution_count": 18,
   "metadata": {},
   "outputs": [
    {
     "name": "stdout",
     "output_type": "stream",
     "text": [
      "['setosa' 'versicolor' 'virginica']\n",
      "['sepal length (cm)', 'sepal width (cm)', 'petal length (cm)', 'petal width (cm)']\n"
     ]
    }
   ],
   "source": [
    "# print the label species(setosa, versicolor,virginica)\n",
    "print(iris.target_names)\n",
    "\n",
    "# print the names of the four features\n",
    "print(iris.feature_names)"
   ]
  },
  {
   "cell_type": "code",
   "execution_count": 19,
   "metadata": {},
   "outputs": [
    {
     "name": "stdout",
     "output_type": "stream",
     "text": [
      "[[5.1 3.5 1.4 0.2]\n",
      " [4.9 3.  1.4 0.2]\n",
      " [4.7 3.2 1.3 0.2]\n",
      " [4.6 3.1 1.5 0.2]\n",
      " [5.  3.6 1.4 0.2]]\n",
      "[0 0 0 0 0 0 0 0 0 0 0 0 0 0 0 0 0 0 0 0 0 0 0 0 0 0 0 0 0 0 0 0 0 0 0 0 0\n",
      " 0 0 0 0 0 0 0 0 0 0 0 0 0 1 1 1 1 1 1 1 1 1 1 1 1 1 1 1 1 1 1 1 1 1 1 1 1\n",
      " 1 1 1 1 1 1 1 1 1 1 1 1 1 1 1 1 1 1 1 1 1 1 1 1 1 1 2 2 2 2 2 2 2 2 2 2 2\n",
      " 2 2 2 2 2 2 2 2 2 2 2 2 2 2 2 2 2 2 2 2 2 2 2 2 2 2 2 2 2 2 2 2 2 2 2 2 2\n",
      " 2 2]\n"
     ]
    }
   ],
   "source": [
    "# print the iris data (top 5 records)\n",
    "print(iris.data[0:5])\n",
    "\n",
    "# print the iris labels (0:setosa, 1:versicolor, 2:virginica)\n",
    "print(iris.target)"
   ]
  },
  {
   "cell_type": "code",
   "execution_count": 20,
   "metadata": {},
   "outputs": [
    {
     "data": {
      "text/html": [
       "<div>\n",
       "<style scoped>\n",
       "    .dataframe tbody tr th:only-of-type {\n",
       "        vertical-align: middle;\n",
       "    }\n",
       "\n",
       "    .dataframe tbody tr th {\n",
       "        vertical-align: top;\n",
       "    }\n",
       "\n",
       "    .dataframe thead th {\n",
       "        text-align: right;\n",
       "    }\n",
       "</style>\n",
       "<table border=\"1\" class=\"dataframe\">\n",
       "  <thead>\n",
       "    <tr style=\"text-align: right;\">\n",
       "      <th></th>\n",
       "      <th>sepal length</th>\n",
       "      <th>sepal width</th>\n",
       "      <th>petal length</th>\n",
       "      <th>petal width</th>\n",
       "      <th>species</th>\n",
       "    </tr>\n",
       "  </thead>\n",
       "  <tbody>\n",
       "    <tr>\n",
       "      <th>0</th>\n",
       "      <td>5.1</td>\n",
       "      <td>3.5</td>\n",
       "      <td>1.4</td>\n",
       "      <td>0.2</td>\n",
       "      <td>0</td>\n",
       "    </tr>\n",
       "    <tr>\n",
       "      <th>1</th>\n",
       "      <td>4.9</td>\n",
       "      <td>3.0</td>\n",
       "      <td>1.4</td>\n",
       "      <td>0.2</td>\n",
       "      <td>0</td>\n",
       "    </tr>\n",
       "    <tr>\n",
       "      <th>2</th>\n",
       "      <td>4.7</td>\n",
       "      <td>3.2</td>\n",
       "      <td>1.3</td>\n",
       "      <td>0.2</td>\n",
       "      <td>0</td>\n",
       "    </tr>\n",
       "    <tr>\n",
       "      <th>3</th>\n",
       "      <td>4.6</td>\n",
       "      <td>3.1</td>\n",
       "      <td>1.5</td>\n",
       "      <td>0.2</td>\n",
       "      <td>0</td>\n",
       "    </tr>\n",
       "    <tr>\n",
       "      <th>4</th>\n",
       "      <td>5.0</td>\n",
       "      <td>3.6</td>\n",
       "      <td>1.4</td>\n",
       "      <td>0.2</td>\n",
       "      <td>0</td>\n",
       "    </tr>\n",
       "  </tbody>\n",
       "</table>\n",
       "</div>"
      ],
      "text/plain": [
       "   sepal length  sepal width  petal length  petal width  species\n",
       "0           5.1          3.5           1.4          0.2        0\n",
       "1           4.9          3.0           1.4          0.2        0\n",
       "2           4.7          3.2           1.3          0.2        0\n",
       "3           4.6          3.1           1.5          0.2        0\n",
       "4           5.0          3.6           1.4          0.2        0"
      ]
     },
     "execution_count": 20,
     "metadata": {},
     "output_type": "execute_result"
    }
   ],
   "source": [
    "# Creating a DataFrame of given iris dataset.\n",
    "import pandas as pd\n",
    "data = pd.DataFrame({\n",
    "                    'sepal length':iris.data[:, 0],\n",
    "                    'sepal width':iris.data[:, 1],\n",
    "                    'petal length':iris.data[:, 2],\n",
    "                    'petal width':iris.data[:, 3],\n",
    "                    'species':iris.target\n",
    "                    })\n",
    "data.head()"
   ]
  },
  {
   "cell_type": "code",
   "execution_count": 21,
   "metadata": {},
   "outputs": [],
   "source": [
    "# Import train_test_split function\n",
    "from sklearn.model_selection import train_test_split\n",
    "\n",
    "X = data[['sepal length', 'sepal width', 'petal length', 'petal width']]  # Features\n",
    "y = data['species']  # Labels\n",
    "\n",
    "# Split dataset into training set and test set\n",
    "X_train, X_test, y_train, y_test = train_test_split(X, y, test_size = 0.3,  random_state = 5) # 70% training and 30% test"
   ]
  },
  {
   "cell_type": "code",
   "execution_count": 22,
   "metadata": {},
   "outputs": [],
   "source": [
    "#Import Random Forest Model\n",
    "from sklearn.ensemble import RandomForestClassifier\n",
    "\n",
    "#Create a Gaussian Classifier\n",
    "clf_RF = RandomForestClassifier(n_estimators = 1000)\n",
    "\n",
    "#Train the model using the training sets y_pred=clf.predict(X_test)\n",
    "clf_RF.fit(X_train, y_train)\n",
    "\n",
    "y_pred = clf_RF.predict(X_test)"
   ]
  },
  {
   "cell_type": "code",
   "execution_count": 23,
   "metadata": {},
   "outputs": [
    {
     "name": "stdout",
     "output_type": "stream",
     "text": [
      "Accuracy: 0.9333333333333333\n",
      "Accuracy: 0.93\n"
     ]
    }
   ],
   "source": [
    "#Import scikit-learn metrics module for accuracy calculation\n",
    "from sklearn import metrics\n",
    "\n",
    "# Model Accuracy, how often is the classifier correct?\n",
    "print(\"Accuracy:\",metrics.accuracy_score(y_test, y_pred))\n",
    "\n",
    "# Rounded upto 2 decimal places\n",
    "print( \"Accuracy: {:.2f}\".format(metrics.accuracy_score(y_test, y_pred)) )"
   ]
  },
  {
   "cell_type": "markdown",
   "metadata": {},
   "source": [
    "We can also make a prediction for a single item, for example:\n",
    "#### sepal length = 3\n",
    "#### sepal width = 5\n",
    "#### petal length = 4\n",
    "#### petal width = 2\n",
    "Now you can predict which type of flower it is."
   ]
  },
  {
   "cell_type": "code",
   "execution_count": 24,
   "metadata": {},
   "outputs": [
    {
     "data": {
      "text/plain": [
       "array([2])"
      ]
     },
     "execution_count": 24,
     "metadata": {},
     "output_type": "execute_result"
    }
   ],
   "source": [
    "clf_RF.predict([[3, 5, 4, 2]])"
   ]
  },
  {
   "cell_type": "markdown",
   "metadata": {},
   "source": [
    "This shows that the 2 indicates the flower type Virginica."
   ]
  },
  {
   "cell_type": "markdown",
   "metadata": {},
   "source": [
    "## Finding Important Features in Scikit-learn\n",
    "We are finding important features or selecting features in the IRIS dataset. In scikit-learn, you can perform this task in the following steps:\n",
    "1. First, you need to create a random forests model.\n",
    "2. Second, use the feature importance variable to see feature importance scores.\n",
    "3. Third, visualize these scores using the seaborn library."
   ]
  },
  {
   "cell_type": "code",
   "execution_count": 25,
   "metadata": {},
   "outputs": [
    {
     "data": {
      "text/plain": [
       "RandomForestClassifier(n_estimators=1000)"
      ]
     },
     "execution_count": 25,
     "metadata": {},
     "output_type": "execute_result"
    }
   ],
   "source": [
    "from sklearn.ensemble import RandomForestClassifier\n",
    "\n",
    "#Create a Gaussian Classifier\n",
    "clf_RF = RandomForestClassifier(n_estimators = 1000)\n",
    "\n",
    "#Train the model using the training sets y_pred=clf.predict(X_test)\n",
    "clf_RF.fit(X_train ,y_train)"
   ]
  },
  {
   "cell_type": "code",
   "execution_count": 26,
   "metadata": {},
   "outputs": [
    {
     "data": {
      "text/plain": [
       "petal width (cm)     0.480991\n",
       "petal length (cm)    0.396457\n",
       "sepal length (cm)    0.096449\n",
       "sepal width (cm)     0.026102\n",
       "dtype: float64"
      ]
     },
     "execution_count": 26,
     "metadata": {},
     "output_type": "execute_result"
    }
   ],
   "source": [
    "import pandas as pd\n",
    "feature_imp = pd.Series(clf_RF.feature_importances_, index = iris.feature_names).sort_values(ascending = False)\n",
    "feature_imp"
   ]
  },
  {
   "cell_type": "markdown",
   "metadata": {},
   "source": [
    "We can visualize the feature importance. Visualizations are easy to understand and interpretable.\n",
    "\n",
    "For visualization, we can use a combination of matplotlib and seaborn. Because seaborn is built on top of matplotlib, it offers a number of customized themes and provides additional plot types. Matplotlib is a superset of seaborn and both are equally important for good visualizations."
   ]
  },
  {
   "cell_type": "code",
   "execution_count": 27,
   "metadata": {},
   "outputs": [
    {
     "data": {
      "image/png": "[encoded data removed]",
      "text/plain": [
       "<Figure size 432x288 with 1 Axes>"
      ]
     },
     "metadata": {
      "needs_background": "light"
     },
     "output_type": "display_data"
    }
   ],
   "source": [
    "import matplotlib.pyplot as plt\n",
    "import seaborn as sns\n",
    "%matplotlib inline\n",
    "\n",
    "# Creating a bar plot\n",
    "sns.barplot(x = feature_imp, y = feature_imp.index)\n",
    "\n",
    "# Add labels to your graph\n",
    "plt.xlabel('Feature Importance Score')\n",
    "plt.ylabel('Features')\n",
    "plt.title(\"Visualizing Important Features\")\n",
    "plt.show()"
   ]
  },
  {
   "cell_type": "markdown",
   "metadata": {},
   "source": [
    "## Generating the Model on Selected Features\n",
    "We can remove the \"sepal width\" feature because it has very low importance, and select the 3 remaining features."
   ]
  },
  {
   "cell_type": "code",
   "execution_count": 28,
   "metadata": {},
   "outputs": [],
   "source": [
    "# Import train_test_split function\n",
    "from sklearn.model_selection import train_test_split\n",
    "\n",
    "# Split dataset into features and labels\n",
    "X = data[['petal length', 'petal width','sepal length']]  # Removed feature \"sepal length\"\n",
    "\n",
    "# y is called as the target variable\n",
    "y = data['species']                                       \n",
    "\n",
    "# Split dataset into training set and test set\n",
    "X_train, X_test, y_train, y_test = train_test_split(X, y, test_size=0.70, random_state = 5) # 70% training and 30% test"
   ]
  },
  {
   "cell_type": "code",
   "execution_count": 29,
   "metadata": {},
   "outputs": [],
   "source": [
    "from sklearn.ensemble import RandomForestClassifier\n",
    "\n",
    "# Create a Random Forest Classifier\n",
    "clf_RF1 = RandomForestClassifier(n_estimators = 1000)\n",
    "\n",
    "# Train the model using the training sets y_pred=clf.predict(X_test)\n",
    "clf_RF1.fit(X_train,y_train)\n",
    "\n",
    "# prediction on test set\n",
    "y_pred = clf_RF1.predict(X_test)"
   ]
  },
  {
   "cell_type": "code",
   "execution_count": 30,
   "metadata": {},
   "outputs": [
    {
     "name": "stdout",
     "output_type": "stream",
     "text": [
      "Accuracy: 0.9523809523809523\n",
      "Accuracy: 0.95\n"
     ]
    }
   ],
   "source": [
    "# Import scikit-learn metrics module for accuracy calculation\n",
    "from sklearn import metrics\n",
    "\n",
    "# Model Accuracy, how often is the classifier correct?\n",
    "print(\"Accuracy:\",metrics.accuracy_score(y_test, y_pred))\n",
    "\n",
    "# Rounded upto 2 decimal places\n",
    "print( \"Accuracy: {:.2f}\".format(metrics.accuracy_score(y_test, y_pred)) )"
   ]
  },
  {
   "cell_type": "markdown",
   "metadata": {},
   "source": [
    "Therefore, we can see that after removing the least important features (sepal length), the accuracy increased. This is because you removed misleading data and noise, resulting in an increased accuracy. A lesser amount of features also reduces the training time."
   ]
  },
  {
   "cell_type": "markdown",
   "metadata": {},
   "source": [
    "## Reference: \n",
    "1. https://www.datacamp.com/community/tutorials/random-forests-classifier-python\n",
    "2. https://www.datacamp.com/community/tutorials/decision-tree-classification-python"
   ]
  }
 ],
 "metadata": {
  "kernelspec": {
   "display_name": "Python 3",
   "language": "python",
   "name": "python3"
  },
  "language_info": {
   "codemirror_mode": {
    "name": "ipython",
    "version": 3
   },
   "file_extension": ".py",
   "mimetype": "text/x-python",
   "name": "python",
   "nbconvert_exporter": "python",
   "pygments_lexer": "ipython3",
   "version": "3.8.8"
  }
 },
 "nbformat": 4,
 "nbformat_minor": 4
}
