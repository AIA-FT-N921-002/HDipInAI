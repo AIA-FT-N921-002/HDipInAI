{
 "cells": [
  {
   "cell_type": "markdown",
   "metadata": {},
   "source": [
    "# Tutorial 6 \n",
    "# Artificial Neural Networks"
   ]
  },
  {
   "cell_type": "markdown",
   "metadata": {},
   "source": [
    "# Creating Neural Networks in Keras"
   ]
  },
  {
   "cell_type": "markdown",
   "metadata": {},
   "source": [
    "Let's take a look at how we can use Keras to build the two-layer neural network that we introduced earlier. To build a linear collection of layers, first declare a Sequential model in Keras:"
   ]
  },
  {
   "cell_type": "code",
   "execution_count": 1,
   "metadata": {},
   "outputs": [],
   "source": [
    "#!pip install tensorflow==2.3.0\n",
    "#!pip install keras==2.4"
   ]
  },
  {
   "cell_type": "code",
   "execution_count": 1,
   "metadata": {},
   "outputs": [],
   "source": [
    "import warnings\n",
    "warnings.filterwarnings('ignore') # We can suppress the warnings\n",
    "\n",
    "# Fixing a random seed ensures reproducible results\n",
    "import numpy as np\n",
    "from numpy.random import seed\n",
    "seed(1)\n",
    "\n",
    "import tensorflow\n",
    "tensorflow.random.set_seed(9)"
   ]
  },
  {
   "cell_type": "code",
   "execution_count": 2,
   "metadata": {},
   "outputs": [
    {
     "name": "stderr",
     "output_type": "stream",
     "text": [
      "Using TensorFlow backend.\n"
     ]
    }
   ],
   "source": [
    "from keras.models import Sequential\n",
    "# from keras import models\n",
    "model = Sequential()"
   ]
  },
  {
   "cell_type": "markdown",
   "metadata": {},
   "source": [
    "This creates an empty  Sequential model that we can now add layers to. Adding layers in Keras is simple and similar to stacking Lego blocks on top of one another. We start by adding layers from the left (the layer closest to the input):"
   ]
  },
  {
   "cell_type": "code",
   "execution_count": 3,
   "metadata": {},
   "outputs": [],
   "source": [
    "from keras.layers import Dense\n",
    "\n",
    "# Layer 1\n",
    "model.add(Dense(units = 4, activation = 'sigmoid', input_dim = 3))\n",
    "\n",
    "# Output Layer\n",
    "model.add(Dense(units = 1, activation = 'sigmoid'))"
   ]
  },
  {
   "cell_type": "markdown",
   "metadata": {},
   "source": [
    "Stacking layers in Keras is as simple as calling the model.add() command. Notice that we had to define the number of units in each layer. Generally, increasing the number of units increases the complexity of the model, as it means that there are more weights to be trained. For the first layer, we had to define input_dim. This informs Keras the number of features (that is, columns) in the dataset. Also, note that we have used a Dense layer. A Dense layer is simply a fully connected layer. Later, we will introduce other kinds of layers, specific to different types of problems.\n",
    "* We can verify the structure of our model by calling the model.summary() function:"
   ]
  },
  {
   "cell_type": "code",
   "execution_count": 4,
   "metadata": {},
   "outputs": [
    {
     "name": "stdout",
     "output_type": "stream",
     "text": [
      "Model: \"sequential\"\n",
      "_________________________________________________________________\n",
      "Layer (type)                 Output Shape              Param #   \n",
      "=================================================================\n",
      "dense (Dense)                (None, 4)                 16        \n",
      "_________________________________________________________________\n",
      "dense_1 (Dense)              (None, 1)                 5         \n",
      "=================================================================\n",
      "Total params: 21\n",
      "Trainable params: 21\n",
      "Non-trainable params: 0\n",
      "_________________________________________________________________\n",
      "None\n"
     ]
    }
   ],
   "source": [
    "print(model.summary())"
   ]
  },
  {
   "cell_type": "code",
   "execution_count": 6,
   "metadata": {},
   "outputs": [],
   "source": [
    "# Once we are satisfied with our model's architecture, let's compile it and start the training process\n",
    "from keras import optimizers\n",
    "\n",
    "# Declare and initialise an object by calling a method SGD - Stochatic Gradient Decendent\n",
    "sgd = optimizers.SGD(lr = 1, momentum = 0.9)\n",
    "\n",
    "# Compile the model\n",
    "model.compile(loss = 'mean_squared_error', optimizer = sgd)"
   ]
  },
  {
   "cell_type": "markdown",
   "metadata": {},
   "source": [
    "Let's define an X and Y NumPy array, corresponding to the features and the target variables respectively."
   ]
  },
  {
   "cell_type": "code",
   "execution_count": 7,
   "metadata": {},
   "outputs": [],
   "source": [
    "X = np.array([[0,0,1],\n",
    "              [0,1,1],\n",
    "              [1,0,1],\n",
    "              [1,1,1]])\n",
    "y = np.array([[0],[1],[1],[0]])"
   ]
  },
  {
   "cell_type": "code",
   "execution_count": 10,
   "metadata": {},
   "outputs": [
    {
     "data": {
      "text/plain": [
       "<tensorflow.python.keras.callbacks.History at 0x2285952ad30>"
      ]
     },
     "execution_count": 10,
     "metadata": {},
     "output_type": "execute_result"
    }
   ],
   "source": [
    "# Finally, let's train the model for 1500 iterations:\n",
    "model.fit(X, y, epochs = 1500, verbose = False)"
   ]
  },
  {
   "cell_type": "code",
   "execution_count": 11,
   "metadata": {},
   "outputs": [
    {
     "name": "stdout",
     "output_type": "stream",
     "text": [
      "[[0.01028934]\n",
      " [0.9890311 ]\n",
      " [0.98912704]\n",
      " [0.01205841]]\n"
     ]
    }
   ],
   "source": [
    "# To get the predictions, run the model.predict() command on our data:\n",
    "print(model.predict(X))\n",
    "# The outpue will be different because of different random numbers"
   ]
  },
  {
   "cell_type": "markdown",
   "metadata": {},
   "source": [
    "Comparing this to the predictions that we obtained earlier, we can see that the results are extremely similar. The major advantage of using Keras is that we did not have to worry about the low-level implementation details and mathematics while building our neural network, unlike what we did earlier. In fact, we did no math at all. All we did in Keras was to call a series of APIs to build our neural network. This allows us to focus on high-level details, enabling rapid experimentation.\n",
    "\n",
    "####     NN Model values:[[0.01028934]  [0.9890311 ]  [0.98912704 ]  [0.01205841]]\n",
    "####     Original values:         0                         1                     1                   0"
   ]
  },
  {
   "cell_type": "markdown",
   "metadata": {},
   "source": [
    "# Diabetes – understanding the problem"
   ]
  },
  {
   "cell_type": "code",
   "execution_count": 12,
   "metadata": {},
   "outputs": [],
   "source": [
    "import pandas as pd\n",
    "df = pd.read_csv('diabetes.csv')"
   ]
  },
  {
   "cell_type": "code",
   "execution_count": 13,
   "metadata": {},
   "outputs": [
    {
     "name": "stdout",
     "output_type": "stream",
     "text": [
      "   Pregnancies  Glucose  BloodPressure  SkinThickness  Insulin   BMI  \\\n",
      "0            6      148             72             35        0  33.6   \n",
      "1            1       85             66             29        0  26.6   \n",
      "2            8      183             64              0        0  23.3   \n",
      "3            1       89             66             23       94  28.1   \n",
      "4            0      137             40             35      168  43.1   \n",
      "\n",
      "   DiabetesPedigreeFunction  Age  Outcome  \n",
      "0                     0.627   50        1  \n",
      "1                     0.351   31        0  \n",
      "2                     0.672   32        1  \n",
      "3                     0.167   21        0  \n",
      "4                     2.288   33        1  \n"
     ]
    }
   ],
   "source": [
    "print(df.head())"
   ]
  },
  {
   "cell_type": "code",
   "execution_count": 14,
   "metadata": {},
   "outputs": [
    {
     "data": {
      "text/plain": [
       "<Figure size 576x576 with 0 Axes>"
      ]
     },
     "metadata": {},
     "output_type": "display_data"
    },
    {
     "data": {
      "image/png": "[encoded data removed]",
      "text/plain": [
       "<Figure size 432x288 with 9 Axes>"
      ]
     },
     "metadata": {
      "needs_background": "light"
     },
     "output_type": "display_data"
    }
   ],
   "source": [
    "from matplotlib import pyplot as plt\n",
    "plt.figure(figsize = (8, 8))\n",
    "df.hist()\n",
    "plt.show()"
   ]
  },
  {
   "cell_type": "markdown",
   "metadata": {},
   "source": [
    "The following code snippet shows how to plot a density plot for each variable. To visualize the difference in distribution between diabetics and non-diabetics, we will also plot them separately on each plot:"
   ]
  },
  {
   "cell_type": "code",
   "execution_count": 15,
   "metadata": {},
   "outputs": [
    {
     "data": {
      "image/png": "[encoded data removed]",
      "text/plain": [
       "<Figure size 1080x1080 with 9 Axes>"
      ]
     },
     "metadata": {
      "needs_background": "light"
     },
     "output_type": "display_data"
    }
   ],
   "source": [
    "import seaborn as sns# create a subplot of 3 x 3\n",
    "plt.subplots(3, 3, figsize = (15, 15))\n",
    "# Plot a density plot for each variable\n",
    "for idx, col in enumerate(df.columns):    \n",
    "    ax = plt.subplot(3, 3, idx + 1)    \n",
    "    ax.yaxis.set_ticklabels([])    \n",
    "    sns.distplot(df.loc[df.Outcome == 0][col], hist = False, axlabel = False,     \n",
    "    kde_kws = {'linestyle':'-',      \n",
    "    'color':'black', 'label':\"No Diabetes\"})    \n",
    "    sns.distplot(df.loc[df.Outcome == 1][col], hist = False, axlabel = False,     \n",
    "    kde_kws = {'linestyle':'--',\n",
    "    'color':'red', 'label':\"Diabetes\"})\n",
    "    ax.set_title(col)\n",
    "# Hide the 9th subplot (bottom right) since there are only 8 plots\n",
    "plt.subplot(3,3,9).set_visible(False)\n",
    "\n",
    "plt.show()"
   ]
  },
  {
   "cell_type": "markdown",
   "metadata": {},
   "source": [
    "# Handling missing values\n",
    "#### First, let's call the isnull() function to check whether there are any missing values in the dataset:"
   ]
  },
  {
   "cell_type": "code",
   "execution_count": 16,
   "metadata": {},
   "outputs": [
    {
     "name": "stdout",
     "output_type": "stream",
     "text": [
      "Pregnancies                 False\n",
      "Glucose                     False\n",
      "BloodPressure               False\n",
      "SkinThickness               False\n",
      "Insulin                     False\n",
      "BMI                         False\n",
      "DiabetesPedigreeFunction    False\n",
      "Age                         False\n",
      "Outcome                     False\n",
      "dtype: bool\n"
     ]
    }
   ],
   "source": [
    "print(df.isnull().any())"
   ]
  },
  {
   "cell_type": "code",
   "execution_count": 15,
   "metadata": {},
   "outputs": [
    {
     "name": "stdout",
     "output_type": "stream",
     "text": [
      "       Pregnancies     Glucose  BloodPressure  SkinThickness     Insulin  \\\n",
      "count   768.000000  768.000000     768.000000     768.000000  768.000000   \n",
      "mean      3.845052  120.894531      69.105469      20.536458   79.799479   \n",
      "std       3.369578   31.972618      19.355807      15.952218  115.244002   \n",
      "min       0.000000    0.000000       0.000000       0.000000    0.000000   \n",
      "25%       1.000000   99.000000      62.000000       0.000000    0.000000   \n",
      "50%       3.000000  117.000000      72.000000      23.000000   30.500000   \n",
      "75%       6.000000  140.250000      80.000000      32.000000  127.250000   \n",
      "max      17.000000  199.000000     122.000000      99.000000  846.000000   \n",
      "\n",
      "              BMI  DiabetesPedigreeFunction         Age     Outcome  \n",
      "count  768.000000                768.000000  768.000000  768.000000  \n",
      "mean    31.992578                  0.471876   33.240885    0.348958  \n",
      "std      7.884160                  0.331329   11.760232    0.476951  \n",
      "min      0.000000                  0.078000   21.000000    0.000000  \n",
      "25%     27.300000                  0.243750   24.000000    0.000000  \n",
      "50%     32.000000                  0.372500   29.000000    0.000000  \n",
      "75%     36.600000                  0.626250   41.000000    1.000000  \n",
      "max     67.100000                  2.420000   81.000000    1.000000  \n"
     ]
    }
   ],
   "source": [
    "print(df.describe())"
   ]
  },
  {
   "cell_type": "markdown",
   "metadata": {},
   "source": [
    "We can see that there are 768 rows of data, and the Pregnancies, Glucose, BloodPressure, SkinThickness, Insulin, and BMI columns have a minimum value of 0. This doesn't quite make sense. The measurements for Glucose, BloodPressure, SkinThickness, Insulin, and BMI should never be 0. This is an indication that there are missing values in our dataset. The values were probably recorded as 0 due to certain issues during data collection. Perhaps the equipment was faulty, or the patient was unwilling to have their measurements taken.\n",
    "* In any case, we need to handle these 0 values. Let's take a look at how many 0 values are there in each column to understand the extent of the problem:"
   ]
  },
  {
   "cell_type": "code",
   "execution_count": 17,
   "metadata": {},
   "outputs": [
    {
     "name": "stdout",
     "output_type": "stream",
     "text": [
      "Number of rows with 0 values for each variable\n",
      "Pregnancies: 111\n",
      "Glucose: 5\n",
      "BloodPressure: 35\n",
      "SkinThickness: 227\n",
      "Insulin: 374\n",
      "BMI: 11\n",
      "DiabetesPedigreeFunction: 0\n",
      "Age: 0\n",
      "Outcome: 500\n"
     ]
    }
   ],
   "source": [
    "print(\"Number of rows with 0 values for each variable\")\n",
    "for col in df.columns:    \n",
    "    missing_rows = df.loc[df[col] == 0].shape[0]    \n",
    "    print(col + \": \" + str(missing_rows))"
   ]
  },
  {
   "cell_type": "markdown",
   "metadata": {},
   "source": [
    "#### In the Insulin column, there are 374 rows with 0 values. That is almost half of the data that we have! Clearly, we cannot discard these rows with 0 values as that will cause a significant drop in model performance.\n",
    "#### There are several techniques to handle these missing values:\n",
    "#### Remove (discard) any rows with missing values.\n",
    "#### Replace the missing values with the mean/median/mode of the non-missing values.\n",
    "#### Predict the actual values using a separate machine learning model."
   ]
  },
  {
   "cell_type": "markdown",
   "metadata": {},
   "source": [
    "### First, let's replace the 0 values in the Glucose, BloodPressure, SkinThickness, Insulin, and BMI columns with NaN. This way, pandas will understand that these values are invalid:"
   ]
  },
  {
   "cell_type": "code",
   "execution_count": 18,
   "metadata": {},
   "outputs": [],
   "source": [
    "import numpy as np\n",
    "df['Glucose'] = df['Glucose'].replace(0, np.nan)\n",
    "df['BloodPressure'] = df['BloodPressure'].replace(0, np.nan)\n",
    "df['SkinThickness'] = df['SkinThickness'].replace(0, np.nan)\n",
    "df['Insulin'] = df['Insulin'].replace(0, np.nan)\n",
    "df['BMI'] = df['BMI'].replace(0, np.nan)"
   ]
  },
  {
   "cell_type": "markdown",
   "metadata": {},
   "source": [
    "#### Now let's confirm that the Glucose, BloodPressure, SkinThickness, Insulin, and BMI columns no longer contain 0 values:"
   ]
  },
  {
   "cell_type": "code",
   "execution_count": 19,
   "metadata": {},
   "outputs": [
    {
     "name": "stdout",
     "output_type": "stream",
     "text": [
      "Number of rows with 0 values for each variable\n",
      "Pregnancies: 111\n",
      "Glucose: 0\n",
      "BloodPressure: 0\n",
      "SkinThickness: 0\n",
      "Insulin: 0\n",
      "BMI: 0\n",
      "DiabetesPedigreeFunction: 0\n",
      "Age: 0\n",
      "Outcome: 500\n"
     ]
    }
   ],
   "source": [
    "print(\"Number of rows with 0 values for each variable\")\n",
    "for col in df.columns:    \n",
    "    missing_rows = df.loc[df[col]==0].shape[0]    \n",
    "    print(col + \": \" + str(missing_rows))"
   ]
  },
  {
   "cell_type": "markdown",
   "metadata": {},
   "source": [
    "* Note that we did not modify the Pregnancies column as 0 values in that column (that is, 0 previous pregnancies) are perfectly valid.\n",
    "* Now, let's replace the NaN values with the mean of the non-missing values. We can do this using the handy fillna() function in pandas:"
   ]
  },
  {
   "cell_type": "code",
   "execution_count": 29,
   "metadata": {},
   "outputs": [],
   "source": [
    "df['Glucose'] = df['Glucose'].fillna(df['Glucose'].mean())\n",
    "df['BloodPressure'] = df['BloodPressure'].fillna(df['BloodPressure'].mean())\n",
    "df['SkinThickness'] = df['SkinThickness'].fillna(df['SkinThickness'].mean())\n",
    "df['Insulin'] = df['Insulin'].fillna(df['Insulin'].mean())\n",
    "df['BMI'] = df['BMI'].fillna(df['BMI'].mean())"
   ]
  },
  {
   "cell_type": "code",
   "execution_count": 30,
   "metadata": {},
   "outputs": [
    {
     "data": {
      "text/html": [
       "<div>\n",
       "<style scoped>\n",
       "    .dataframe tbody tr th:only-of-type {\n",
       "        vertical-align: middle;\n",
       "    }\n",
       "\n",
       "    .dataframe tbody tr th {\n",
       "        vertical-align: top;\n",
       "    }\n",
       "\n",
       "    .dataframe thead th {\n",
       "        text-align: right;\n",
       "    }\n",
       "</style>\n",
       "<table border=\"1\" class=\"dataframe\">\n",
       "  <thead>\n",
       "    <tr style=\"text-align: right;\">\n",
       "      <th></th>\n",
       "      <th>Pregnancies</th>\n",
       "      <th>Glucose</th>\n",
       "      <th>BloodPressure</th>\n",
       "      <th>SkinThickness</th>\n",
       "      <th>Insulin</th>\n",
       "      <th>BMI</th>\n",
       "      <th>DiabetesPedigreeFunction</th>\n",
       "      <th>Age</th>\n",
       "      <th>Outcome</th>\n",
       "    </tr>\n",
       "  </thead>\n",
       "  <tbody>\n",
       "    <tr>\n",
       "      <th>0</th>\n",
       "      <td>0.639947</td>\n",
       "      <td>0.865108</td>\n",
       "      <td>-3.351824e-02</td>\n",
       "      <td>6.655021e-01</td>\n",
       "      <td>-3.345079e-16</td>\n",
       "      <td>1.662917e-01</td>\n",
       "      <td>0.468492</td>\n",
       "      <td>1.425995</td>\n",
       "      <td>1</td>\n",
       "    </tr>\n",
       "    <tr>\n",
       "      <th>1</th>\n",
       "      <td>-0.844885</td>\n",
       "      <td>-1.206162</td>\n",
       "      <td>-5.298590e-01</td>\n",
       "      <td>-1.746338e-02</td>\n",
       "      <td>-3.345079e-16</td>\n",
       "      <td>-8.525312e-01</td>\n",
       "      <td>-0.365061</td>\n",
       "      <td>-0.190672</td>\n",
       "      <td>0</td>\n",
       "    </tr>\n",
       "    <tr>\n",
       "      <th>2</th>\n",
       "      <td>1.233880</td>\n",
       "      <td>2.015813</td>\n",
       "      <td>-6.953060e-01</td>\n",
       "      <td>8.087936e-16</td>\n",
       "      <td>-3.345079e-16</td>\n",
       "      <td>-1.332833e+00</td>\n",
       "      <td>0.604397</td>\n",
       "      <td>-0.105584</td>\n",
       "      <td>1</td>\n",
       "    </tr>\n",
       "    <tr>\n",
       "      <th>3</th>\n",
       "      <td>-0.844885</td>\n",
       "      <td>-1.074652</td>\n",
       "      <td>-5.298590e-01</td>\n",
       "      <td>-7.004289e-01</td>\n",
       "      <td>-7.243887e-01</td>\n",
       "      <td>-6.342120e-01</td>\n",
       "      <td>-0.920763</td>\n",
       "      <td>-1.041549</td>\n",
       "      <td>0</td>\n",
       "    </tr>\n",
       "    <tr>\n",
       "      <th>4</th>\n",
       "      <td>-1.141852</td>\n",
       "      <td>0.503458</td>\n",
       "      <td>-2.680669e+00</td>\n",
       "      <td>6.655021e-01</td>\n",
       "      <td>1.465506e-01</td>\n",
       "      <td>1.548980e+00</td>\n",
       "      <td>5.484909</td>\n",
       "      <td>-0.020496</td>\n",
       "      <td>1</td>\n",
       "    </tr>\n",
       "    <tr>\n",
       "      <th>5</th>\n",
       "      <td>0.342981</td>\n",
       "      <td>-0.186965</td>\n",
       "      <td>1.319287e-01</td>\n",
       "      <td>8.087936e-16</td>\n",
       "      <td>-3.345079e-16</td>\n",
       "      <td>-9.980773e-01</td>\n",
       "      <td>-0.818079</td>\n",
       "      <td>-0.275760</td>\n",
       "      <td>0</td>\n",
       "    </tr>\n",
       "    <tr>\n",
       "      <th>6</th>\n",
       "      <td>-0.250952</td>\n",
       "      <td>-1.436303</td>\n",
       "      <td>-1.853434e+00</td>\n",
       "      <td>3.240194e-01</td>\n",
       "      <td>-7.950054e-01</td>\n",
       "      <td>-2.121282e-01</td>\n",
       "      <td>-0.676133</td>\n",
       "      <td>-0.616111</td>\n",
       "      <td>1</td>\n",
       "    </tr>\n",
       "    <tr>\n",
       "      <th>7</th>\n",
       "      <td>1.827813</td>\n",
       "      <td>-0.219843</td>\n",
       "      <td>1.175571e-15</td>\n",
       "      <td>8.087936e-16</td>\n",
       "      <td>-3.345079e-16</td>\n",
       "      <td>4.137202e-01</td>\n",
       "      <td>-1.020427</td>\n",
       "      <td>-0.360847</td>\n",
       "      <td>0</td>\n",
       "    </tr>\n",
       "    <tr>\n",
       "      <th>8</th>\n",
       "      <td>-0.547919</td>\n",
       "      <td>2.476096</td>\n",
       "      <td>-1.989652e-01</td>\n",
       "      <td>1.803778e+00</td>\n",
       "      <td>4.560094e+00</td>\n",
       "      <td>-2.849013e-01</td>\n",
       "      <td>-0.947944</td>\n",
       "      <td>1.681259</td>\n",
       "      <td>1</td>\n",
       "    </tr>\n",
       "    <tr>\n",
       "      <th>9</th>\n",
       "      <td>1.233880</td>\n",
       "      <td>0.108930</td>\n",
       "      <td>1.951845e+00</td>\n",
       "      <td>8.087936e-16</td>\n",
       "      <td>-3.345079e-16</td>\n",
       "      <td>-3.102502e-15</td>\n",
       "      <td>-0.724455</td>\n",
       "      <td>1.766346</td>\n",
       "      <td>1</td>\n",
       "    </tr>\n",
       "    <tr>\n",
       "      <th>10</th>\n",
       "      <td>0.046014</td>\n",
       "      <td>-0.384229</td>\n",
       "      <td>1.620951e+00</td>\n",
       "      <td>8.087936e-16</td>\n",
       "      <td>-3.345079e-16</td>\n",
       "      <td>7.484763e-01</td>\n",
       "      <td>-0.848280</td>\n",
       "      <td>-0.275760</td>\n",
       "      <td>0</td>\n",
       "    </tr>\n",
       "    <tr>\n",
       "      <th>11</th>\n",
       "      <td>1.827813</td>\n",
       "      <td>1.522654</td>\n",
       "      <td>1.319287e-01</td>\n",
       "      <td>8.087936e-16</td>\n",
       "      <td>-3.345079e-16</td>\n",
       "      <td>8.066947e-01</td>\n",
       "      <td>0.196681</td>\n",
       "      <td>0.064591</td>\n",
       "      <td>1</td>\n",
       "    </tr>\n",
       "    <tr>\n",
       "      <th>12</th>\n",
       "      <td>1.827813</td>\n",
       "      <td>0.569212</td>\n",
       "      <td>6.282695e-01</td>\n",
       "      <td>8.087936e-16</td>\n",
       "      <td>-3.345079e-16</td>\n",
       "      <td>-7.797581e-01</td>\n",
       "      <td>2.926869</td>\n",
       "      <td>2.021610</td>\n",
       "      <td>0</td>\n",
       "    </tr>\n",
       "    <tr>\n",
       "      <th>13</th>\n",
       "      <td>-0.844885</td>\n",
       "      <td>2.213077</td>\n",
       "      <td>-1.026200e+00</td>\n",
       "      <td>-7.004289e-01</td>\n",
       "      <td>8.126238e+00</td>\n",
       "      <td>-3.431197e-01</td>\n",
       "      <td>-0.223115</td>\n",
       "      <td>2.191785</td>\n",
       "      <td>1</td>\n",
       "    </tr>\n",
       "    <tr>\n",
       "      <th>14</th>\n",
       "      <td>0.342981</td>\n",
       "      <td>1.456899</td>\n",
       "      <td>-3.351824e-02</td>\n",
       "      <td>-1.155739e+00</td>\n",
       "      <td>2.289367e-01</td>\n",
       "      <td>-9.689681e-01</td>\n",
       "      <td>0.347687</td>\n",
       "      <td>1.511083</td>\n",
       "      <td>1</td>\n",
       "    </tr>\n",
       "    <tr>\n",
       "      <th>15</th>\n",
       "      <td>0.936914</td>\n",
       "      <td>-0.713002</td>\n",
       "      <td>1.175571e-15</td>\n",
       "      <td>8.087936e-16</td>\n",
       "      <td>-3.345079e-16</td>\n",
       "      <td>-3.576743e-01</td>\n",
       "      <td>0.036615</td>\n",
       "      <td>-0.105584</td>\n",
       "      <td>1</td>\n",
       "    </tr>\n",
       "    <tr>\n",
       "      <th>16</th>\n",
       "      <td>-1.141852</td>\n",
       "      <td>-0.121211</td>\n",
       "      <td>9.591633e-01</td>\n",
       "      <td>2.031433e+00</td>\n",
       "      <td>8.762565e-01</td>\n",
       "      <td>1.941955e+00</td>\n",
       "      <td>0.238963</td>\n",
       "      <td>-0.190672</td>\n",
       "      <td>1</td>\n",
       "    </tr>\n",
       "    <tr>\n",
       "      <th>17</th>\n",
       "      <td>0.936914</td>\n",
       "      <td>-0.482861</td>\n",
       "      <td>1.319287e-01</td>\n",
       "      <td>8.087936e-16</td>\n",
       "      <td>-3.345079e-16</td>\n",
       "      <td>-4.158928e-01</td>\n",
       "      <td>-0.658012</td>\n",
       "      <td>-0.190672</td>\n",
       "      <td>1</td>\n",
       "    </tr>\n",
       "    <tr>\n",
       "      <th>18</th>\n",
       "      <td>-0.844885</td>\n",
       "      <td>-0.614370</td>\n",
       "      <td>-3.507904e+00</td>\n",
       "      <td>1.006985e+00</td>\n",
       "      <td>-8.538527e-01</td>\n",
       "      <td>1.578089e+00</td>\n",
       "      <td>-0.872441</td>\n",
       "      <td>-0.020496</td>\n",
       "      <td>0</td>\n",
       "    </tr>\n",
       "    <tr>\n",
       "      <th>19</th>\n",
       "      <td>-0.844885</td>\n",
       "      <td>-0.219843</td>\n",
       "      <td>-1.989652e-01</td>\n",
       "      <td>9.636420e-02</td>\n",
       "      <td>-7.008498e-01</td>\n",
       "      <td>3.118379e-01</td>\n",
       "      <td>0.172520</td>\n",
       "      <td>-0.105584</td>\n",
       "      <td>1</td>\n",
       "    </tr>\n",
       "  </tbody>\n",
       "</table>\n",
       "</div>"
      ],
      "text/plain": [
       "    Pregnancies   Glucose  BloodPressure  SkinThickness       Insulin  \\\n",
       "0      0.639947  0.865108  -3.351824e-02   6.655021e-01 -3.345079e-16   \n",
       "1     -0.844885 -1.206162  -5.298590e-01  -1.746338e-02 -3.345079e-16   \n",
       "2      1.233880  2.015813  -6.953060e-01   8.087936e-16 -3.345079e-16   \n",
       "3     -0.844885 -1.074652  -5.298590e-01  -7.004289e-01 -7.243887e-01   \n",
       "4     -1.141852  0.503458  -2.680669e+00   6.655021e-01  1.465506e-01   \n",
       "5      0.342981 -0.186965   1.319287e-01   8.087936e-16 -3.345079e-16   \n",
       "6     -0.250952 -1.436303  -1.853434e+00   3.240194e-01 -7.950054e-01   \n",
       "7      1.827813 -0.219843   1.175571e-15   8.087936e-16 -3.345079e-16   \n",
       "8     -0.547919  2.476096  -1.989652e-01   1.803778e+00  4.560094e+00   \n",
       "9      1.233880  0.108930   1.951845e+00   8.087936e-16 -3.345079e-16   \n",
       "10     0.046014 -0.384229   1.620951e+00   8.087936e-16 -3.345079e-16   \n",
       "11     1.827813  1.522654   1.319287e-01   8.087936e-16 -3.345079e-16   \n",
       "12     1.827813  0.569212   6.282695e-01   8.087936e-16 -3.345079e-16   \n",
       "13    -0.844885  2.213077  -1.026200e+00  -7.004289e-01  8.126238e+00   \n",
       "14     0.342981  1.456899  -3.351824e-02  -1.155739e+00  2.289367e-01   \n",
       "15     0.936914 -0.713002   1.175571e-15   8.087936e-16 -3.345079e-16   \n",
       "16    -1.141852 -0.121211   9.591633e-01   2.031433e+00  8.762565e-01   \n",
       "17     0.936914 -0.482861   1.319287e-01   8.087936e-16 -3.345079e-16   \n",
       "18    -0.844885 -0.614370  -3.507904e+00   1.006985e+00 -8.538527e-01   \n",
       "19    -0.844885 -0.219843  -1.989652e-01   9.636420e-02 -7.008498e-01   \n",
       "\n",
       "             BMI  DiabetesPedigreeFunction       Age  Outcome  \n",
       "0   1.662917e-01                  0.468492  1.425995        1  \n",
       "1  -8.525312e-01                 -0.365061 -0.190672        0  \n",
       "2  -1.332833e+00                  0.604397 -0.105584        1  \n",
       "3  -6.342120e-01                 -0.920763 -1.041549        0  \n",
       "4   1.548980e+00                  5.484909 -0.020496        1  \n",
       "5  -9.980773e-01                 -0.818079 -0.275760        0  \n",
       "6  -2.121282e-01                 -0.676133 -0.616111        1  \n",
       "7   4.137202e-01                 -1.020427 -0.360847        0  \n",
       "8  -2.849013e-01                 -0.947944  1.681259        1  \n",
       "9  -3.102502e-15                 -0.724455  1.766346        1  \n",
       "10  7.484763e-01                 -0.848280 -0.275760        0  \n",
       "11  8.066947e-01                  0.196681  0.064591        1  \n",
       "12 -7.797581e-01                  2.926869  2.021610        0  \n",
       "13 -3.431197e-01                 -0.223115  2.191785        1  \n",
       "14 -9.689681e-01                  0.347687  1.511083        1  \n",
       "15 -3.576743e-01                  0.036615 -0.105584        1  \n",
       "16  1.941955e+00                  0.238963 -0.190672        1  \n",
       "17 -4.158928e-01                 -0.658012 -0.190672        1  \n",
       "18  1.578089e+00                 -0.872441 -0.020496        0  \n",
       "19  3.118379e-01                  0.172520 -0.105584        1  "
      ]
     },
     "execution_count": 30,
     "metadata": {},
     "output_type": "execute_result"
    }
   ],
   "source": [
    "df.head(20)"
   ]
  },
  {
   "cell_type": "code",
   "execution_count": 31,
   "metadata": {},
   "outputs": [
    {
     "name": "stdout",
     "output_type": "stream",
     "text": [
      "      Pregnancies  Glucose  BloodPressure  SkinThickness  Insulin   BMI  \\\n",
      "mean         0.00     0.00            0.0           0.00     0.00  0.00   \n",
      "std          1.00     1.00            1.0           1.00     1.00  1.00   \n",
      "max          3.91     2.54            4.1           7.95     8.13  5.04   \n",
      "\n",
      "      DiabetesPedigreeFunction   Age  Outcome  \n",
      "mean                      0.00  0.00     0.35  \n",
      "std                       1.00  1.00     0.48  \n",
      "max                       5.88  4.06     1.00  \n"
     ]
    }
   ],
   "source": [
    "print(df.describe().loc[['mean', 'std','max'],].round(2).abs())"
   ]
  },
  {
   "cell_type": "markdown",
   "metadata": {},
   "source": [
    "## Data standardization\n",
    "Data standardization is another important technique in data preprocessing. The goal of data standardization is to transform the numeric variables so that each variable has zero mean and unit variance."
   ]
  },
  {
   "cell_type": "code",
   "execution_count": 32,
   "metadata": {},
   "outputs": [],
   "source": [
    "from sklearn import preprocessing\n",
    "df_scaled = preprocessing.scale(df)"
   ]
  },
  {
   "cell_type": "markdown",
   "metadata": {},
   "source": [
    "#### Since the object returned by the preprocessing.scale() function is no longer a pandas DataFrame, let's convert it back:"
   ]
  },
  {
   "cell_type": "code",
   "execution_count": 33,
   "metadata": {},
   "outputs": [],
   "source": [
    "df_scaled = pd.DataFrame(df_scaled, columns=df.columns)"
   ]
  },
  {
   "cell_type": "code",
   "execution_count": 34,
   "metadata": {},
   "outputs": [],
   "source": [
    "df_scaled['Outcome'] = df['Outcome']\n",
    "df = df_scaled"
   ]
  },
  {
   "cell_type": "code",
   "execution_count": 41,
   "metadata": {},
   "outputs": [
    {
     "name": "stdout",
     "output_type": "stream",
     "text": [
      "      Pregnancies  Glucose  BloodPressure  SkinThickness  Insulin   BMI  \\\n",
      "mean         0.00     0.00            0.0           0.00     0.00  0.00   \n",
      "std          1.00     1.00            1.0           1.00     1.00  1.00   \n",
      "max          3.91     2.54            4.1           7.95     8.13  5.04   \n",
      "\n",
      "      DiabetesPedigreeFunction   Age  Outcome  \n",
      "mean                      0.00  0.00     0.35  \n",
      "std                       1.00  1.00     0.48  \n",
      "max                       5.88  4.06     1.00  \n"
     ]
    }
   ],
   "source": [
    "print(df.describe().loc[['mean', 'std','max'],].round(2).abs())"
   ]
  },
  {
   "cell_type": "markdown",
   "metadata": {},
   "source": [
    "## Splitting the data into training, testing, and validation sets                                                        \n",
    "The last step in data preprocessing is to split the data into training, testing, and validation sets:\n",
    "* Training set: The neural network will be trained on this subset of the data.\n",
    "* Validation set: This set of data allows us to perform hyperparameter tuning (that is, tuning the number of hidden layers) using an unbiased source of data.\n",
    "* Testing set: The final evaluation of the neural network will be based on this subset of the data."
   ]
  },
  {
   "cell_type": "markdown",
   "metadata": {},
   "source": [
    "### First, let's separate the dataset into X (input features) and y (target variable):"
   ]
  },
  {
   "cell_type": "code",
   "execution_count": 42,
   "metadata": {},
   "outputs": [],
   "source": [
    "from sklearn.model_selection import train_test_split\n",
    "X = df.loc[:, df.columns != 'Outcome']\n",
    "y = df.loc[:, 'Outcome']"
   ]
  },
  {
   "cell_type": "markdown",
   "metadata": {},
   "source": [
    "#### Then, make the first split to split the data into the training set (80%) and the testing set (20%) according to the preceding diagram:"
   ]
  },
  {
   "cell_type": "code",
   "execution_count": 43,
   "metadata": {},
   "outputs": [],
   "source": [
    "# split the data into training and testing\n",
    "X_train, X_test, y_train, y_test = train_test_split(X, y, test_size = 0.2, random_state = 1)"
   ]
  },
  {
   "cell_type": "markdown",
   "metadata": {},
   "source": [
    "# Model building"
   ]
  },
  {
   "cell_type": "code",
   "execution_count": 44,
   "metadata": {},
   "outputs": [],
   "source": [
    "from keras.models import Sequential\n",
    "model = Sequential()"
   ]
  },
  {
   "cell_type": "code",
   "execution_count": 45,
   "metadata": {},
   "outputs": [],
   "source": [
    "# Let's add the first hidden layer:\n",
    "from keras.layers import Dense\n",
    "# Add the first hidden layer\n",
    "model.add(Dense(32, activation = 'relu', input_dim = 8))"
   ]
  },
  {
   "cell_type": "code",
   "execution_count": 46,
   "metadata": {},
   "outputs": [],
   "source": [
    "# Let's add our second hidden layer:\n",
    "# Add the second hidden layer\n",
    "model.add(Dense(16, activation = 'relu'))"
   ]
  },
  {
   "cell_type": "code",
   "execution_count": 47,
   "metadata": {},
   "outputs": [],
   "source": [
    "# Now we add the output layer as follows:\n",
    "# Add the output layer\n",
    "model.add(Dense(1, activation = 'sigmoid'))"
   ]
  },
  {
   "cell_type": "markdown",
   "metadata": {},
   "source": [
    "# Model compilation"
   ]
  },
  {
   "cell_type": "code",
   "execution_count": 48,
   "metadata": {},
   "outputs": [],
   "source": [
    "# Then, we can run the compile() function as follows:\n",
    "    # Compile the model\n",
    "model.compile(optimizer = 'adam',\n",
    "              loss = 'binary_crossentropy',\n",
    "              metrics = ['accuracy'])"
   ]
  },
  {
   "cell_type": "markdown",
   "metadata": {},
   "source": [
    "# Model training"
   ]
  },
  {
   "cell_type": "code",
   "execution_count": 50,
   "metadata": {},
   "outputs": [
    {
     "name": "stdout",
     "output_type": "stream",
     "text": [
      "Epoch 1/400\n",
      "20/20 [==============================] - 0s 1ms/step - loss: 0.2579 - accuracy: 0.8925\n",
      "Epoch 2/400\n",
      "20/20 [==============================] - 0s 2ms/step - loss: 0.2590 - accuracy: 0.9023\n",
      "Epoch 3/400\n",
      "20/20 [==============================] - 0s 2ms/step - loss: 0.2559 - accuracy: 0.8990\n",
      "Epoch 4/400\n",
      "20/20 [==============================] - 0s 3ms/step - loss: 0.2551 - accuracy: 0.8990\n",
      "Epoch 5/400\n",
      "20/20 [==============================] - 0s 2ms/step - loss: 0.2535 - accuracy: 0.9023\n",
      "Epoch 6/400\n",
      "20/20 [==============================] - 0s 2ms/step - loss: 0.2542 - accuracy: 0.9007\n",
      "Epoch 7/400\n",
      "20/20 [==============================] - 0s 2ms/step - loss: 0.2531 - accuracy: 0.9007\n",
      "Epoch 8/400\n",
      "20/20 [==============================] - 0s 2ms/step - loss: 0.2531 - accuracy: 0.9007\n",
      "Epoch 9/400\n",
      "20/20 [==============================] - 0s 2ms/step - loss: 0.2496 - accuracy: 0.9039\n",
      "Epoch 10/400\n",
      "20/20 [==============================] - 0s 2ms/step - loss: 0.2501 - accuracy: 0.9039\n",
      "Epoch 11/400\n",
      "20/20 [==============================] - 0s 2ms/step - loss: 0.2482 - accuracy: 0.9023\n",
      "Epoch 12/400\n",
      "20/20 [==============================] - 0s 2ms/step - loss: 0.2472 - accuracy: 0.9039\n",
      "Epoch 13/400\n",
      "20/20 [==============================] - 0s 2ms/step - loss: 0.2464 - accuracy: 0.9072\n",
      "Epoch 14/400\n",
      "20/20 [==============================] - 0s 2ms/step - loss: 0.2458 - accuracy: 0.9055\n",
      "Epoch 15/400\n",
      "20/20 [==============================] - 0s 1ms/step - loss: 0.2446 - accuracy: 0.9055\n",
      "Epoch 16/400\n",
      "20/20 [==============================] - 0s 2ms/step - loss: 0.2452 - accuracy: 0.8990\n",
      "Epoch 17/400\n",
      "20/20 [==============================] - 0s 2ms/step - loss: 0.2435 - accuracy: 0.9104\n",
      "Epoch 18/400\n",
      "20/20 [==============================] - 0s 2ms/step - loss: 0.2433 - accuracy: 0.9055\n",
      "Epoch 19/400\n",
      "20/20 [==============================] - 0s 2ms/step - loss: 0.2408 - accuracy: 0.9055\n",
      "Epoch 20/400\n",
      "20/20 [==============================] - 0s 2ms/step - loss: 0.2396 - accuracy: 0.9072\n",
      "Epoch 21/400\n",
      "20/20 [==============================] - 0s 3ms/step - loss: 0.2406 - accuracy: 0.8990\n",
      "Epoch 22/400\n",
      "20/20 [==============================] - 0s 4ms/step - loss: 0.2408 - accuracy: 0.9039\n",
      "Epoch 23/400\n",
      "20/20 [==============================] - 0s 2ms/step - loss: 0.2379 - accuracy: 0.9121\n",
      "Epoch 24/400\n",
      "20/20 [==============================] - 0s 2ms/step - loss: 0.2374 - accuracy: 0.9121\n",
      "Epoch 25/400\n",
      "20/20 [==============================] - 0s 2ms/step - loss: 0.2399 - accuracy: 0.9088\n",
      "Epoch 26/400\n",
      "20/20 [==============================] - 0s 2ms/step - loss: 0.2354 - accuracy: 0.9121\n",
      "Epoch 27/400\n",
      "20/20 [==============================] - 0s 2ms/step - loss: 0.2369 - accuracy: 0.9039\n",
      "Epoch 28/400\n",
      "20/20 [==============================] - ETA: 0s - loss: 0.2497 - accuracy: 0.90 - 0s 2ms/step - loss: 0.2345 - accuracy: 0.9055\n",
      "Epoch 29/400\n",
      "20/20 [==============================] - 0s 2ms/step - loss: 0.2370 - accuracy: 0.9039\n",
      "Epoch 30/400\n",
      "20/20 [==============================] - 0s 2ms/step - loss: 0.2345 - accuracy: 0.9072\n",
      "Epoch 31/400\n",
      "20/20 [==============================] - 0s 2ms/step - loss: 0.2314 - accuracy: 0.9121\n",
      "Epoch 32/400\n",
      "20/20 [==============================] - 0s 2ms/step - loss: 0.2305 - accuracy: 0.9169\n",
      "Epoch 33/400\n",
      "20/20 [==============================] - 0s 2ms/step - loss: 0.2303 - accuracy: 0.9104\n",
      "Epoch 34/400\n",
      "20/20 [==============================] - 0s 2ms/step - loss: 0.2288 - accuracy: 0.9137\n",
      "Epoch 35/400\n",
      "20/20 [==============================] - 0s 2ms/step - loss: 0.2276 - accuracy: 0.9121\n",
      "Epoch 36/400\n",
      "20/20 [==============================] - 0s 1ms/step - loss: 0.2271 - accuracy: 0.9169\n",
      "Epoch 37/400\n",
      "20/20 [==============================] - 0s 1ms/step - loss: 0.2258 - accuracy: 0.9186\n",
      "Epoch 38/400\n",
      "20/20 [==============================] - 0s 1ms/step - loss: 0.2252 - accuracy: 0.9169\n",
      "Epoch 39/400\n",
      "20/20 [==============================] - 0s 2ms/step - loss: 0.2249 - accuracy: 0.9186\n",
      "Epoch 40/400\n",
      "20/20 [==============================] - 0s 3ms/step - loss: 0.2239 - accuracy: 0.9169\n",
      "Epoch 41/400\n",
      "20/20 [==============================] - 0s 2ms/step - loss: 0.2225 - accuracy: 0.9104\n",
      "Epoch 42/400\n",
      "20/20 [==============================] - 0s 2ms/step - loss: 0.2232 - accuracy: 0.9186\n",
      "Epoch 43/400\n",
      "20/20 [==============================] - 0s 2ms/step - loss: 0.2246 - accuracy: 0.9169\n",
      "Epoch 44/400\n",
      "20/20 [==============================] - 0s 2ms/step - loss: 0.2238 - accuracy: 0.9186\n",
      "Epoch 45/400\n",
      "20/20 [==============================] - 0s 2ms/step - loss: 0.2215 - accuracy: 0.9153\n",
      "Epoch 46/400\n",
      "20/20 [==============================] - 0s 1ms/step - loss: 0.2220 - accuracy: 0.9169\n",
      "Epoch 47/400\n",
      "20/20 [==============================] - 0s 2ms/step - loss: 0.2206 - accuracy: 0.9153\n",
      "Epoch 48/400\n",
      "20/20 [==============================] - 0s 1ms/step - loss: 0.2186 - accuracy: 0.9153\n",
      "Epoch 49/400\n",
      "20/20 [==============================] - 0s 2ms/step - loss: 0.2174 - accuracy: 0.9153\n",
      "Epoch 50/400\n",
      "20/20 [==============================] - 0s 2ms/step - loss: 0.2164 - accuracy: 0.9202\n",
      "Epoch 51/400\n",
      "20/20 [==============================] - 0s 2ms/step - loss: 0.2168 - accuracy: 0.9186\n",
      "Epoch 52/400\n",
      "20/20 [==============================] - 0s 2ms/step - loss: 0.2154 - accuracy: 0.9235\n",
      "Epoch 53/400\n",
      "20/20 [==============================] - 0s 2ms/step - loss: 0.2170 - accuracy: 0.9202\n",
      "Epoch 54/400\n",
      "20/20 [==============================] - 0s 1ms/step - loss: 0.2144 - accuracy: 0.9283\n",
      "Epoch 55/400\n",
      "20/20 [==============================] - 0s 1ms/step - loss: 0.2137 - accuracy: 0.9218\n",
      "Epoch 56/400\n",
      "20/20 [==============================] - 0s 2ms/step - loss: 0.2115 - accuracy: 0.9218\n",
      "Epoch 57/400\n",
      "20/20 [==============================] - 0s 2ms/step - loss: 0.2112 - accuracy: 0.9218\n",
      "Epoch 58/400\n",
      "20/20 [==============================] - 0s 2ms/step - loss: 0.2108 - accuracy: 0.9235\n",
      "Epoch 59/400\n",
      "20/20 [==============================] - 0s 2ms/step - loss: 0.2117 - accuracy: 0.9202\n",
      "Epoch 60/400\n",
      "20/20 [==============================] - 0s 2ms/step - loss: 0.2099 - accuracy: 0.9218\n",
      "Epoch 61/400\n",
      "20/20 [==============================] - 0s 3ms/step - loss: 0.2089 - accuracy: 0.9202\n",
      "Epoch 62/400\n",
      "20/20 [==============================] - 0s 2ms/step - loss: 0.2098 - accuracy: 0.9267\n",
      "Epoch 63/400\n",
      "20/20 [==============================] - 0s 2ms/step - loss: 0.2081 - accuracy: 0.9235\n",
      "Epoch 64/400\n",
      "20/20 [==============================] - 0s 2ms/step - loss: 0.2077 - accuracy: 0.9235\n",
      "Epoch 65/400\n",
      "20/20 [==============================] - 0s 2ms/step - loss: 0.2054 - accuracy: 0.9251\n",
      "Epoch 66/400\n",
      "20/20 [==============================] - 0s 1ms/step - loss: 0.2049 - accuracy: 0.9316\n",
      "Epoch 67/400\n",
      "20/20 [==============================] - 0s 1ms/step - loss: 0.2072 - accuracy: 0.9283\n",
      "Epoch 68/400\n",
      "20/20 [==============================] - 0s 1ms/step - loss: 0.2035 - accuracy: 0.9267\n",
      "Epoch 69/400\n",
      "20/20 [==============================] - 0s 1ms/step - loss: 0.2035 - accuracy: 0.9300\n",
      "Epoch 70/400\n",
      "20/20 [==============================] - 0s 1ms/step - loss: 0.2024 - accuracy: 0.9300\n",
      "Epoch 71/400\n",
      "20/20 [==============================] - 0s 2ms/step - loss: 0.2031 - accuracy: 0.9300\n",
      "Epoch 72/400\n",
      "20/20 [==============================] - 0s 2ms/step - loss: 0.2012 - accuracy: 0.9283\n",
      "Epoch 73/400\n",
      "20/20 [==============================] - 0s 2ms/step - loss: 0.2008 - accuracy: 0.9349\n",
      "Epoch 74/400\n",
      "20/20 [==============================] - 0s 3ms/step - loss: 0.1993 - accuracy: 0.9283: 0s - loss: 0.2042 - accuracy: 0.92\n",
      "Epoch 75/400\n",
      "20/20 [==============================] - 0s 3ms/step - loss: 0.2038 - accuracy: 0.9235\n",
      "Epoch 76/400\n",
      "20/20 [==============================] - 0s 3ms/step - loss: 0.2010 - accuracy: 0.9332\n",
      "Epoch 77/400\n",
      "20/20 [==============================] - 0s 3ms/step - loss: 0.1974 - accuracy: 0.9332\n",
      "Epoch 78/400\n",
      "20/20 [==============================] - 0s 1ms/step - loss: 0.1973 - accuracy: 0.9316\n",
      "Epoch 79/400\n",
      "20/20 [==============================] - 0s 1ms/step - loss: 0.1961 - accuracy: 0.9316\n",
      "Epoch 80/400\n",
      "20/20 [==============================] - 0s 1ms/step - loss: 0.1962 - accuracy: 0.9316\n",
      "Epoch 81/400\n",
      "20/20 [==============================] - 0s 2ms/step - loss: 0.1949 - accuracy: 0.9300\n",
      "Epoch 82/400\n"
     ]
    },
    {
     "name": "stdout",
     "output_type": "stream",
     "text": [
      "20/20 [==============================] - 0s 1ms/step - loss: 0.1939 - accuracy: 0.9300\n",
      "Epoch 83/400\n",
      "20/20 [==============================] - 0s 1ms/step - loss: 0.1928 - accuracy: 0.9316\n",
      "Epoch 84/400\n",
      "20/20 [==============================] - 0s 1ms/step - loss: 0.1939 - accuracy: 0.9349\n",
      "Epoch 85/400\n",
      "20/20 [==============================] - 0s 1ms/step - loss: 0.1916 - accuracy: 0.9349\n",
      "Epoch 86/400\n",
      "20/20 [==============================] - 0s 2ms/step - loss: 0.1928 - accuracy: 0.9251\n",
      "Epoch 87/400\n",
      "20/20 [==============================] - 0s 2ms/step - loss: 0.1930 - accuracy: 0.9365\n",
      "Epoch 88/400\n",
      "20/20 [==============================] - 0s 1ms/step - loss: 0.1894 - accuracy: 0.9381\n",
      "Epoch 89/400\n",
      "20/20 [==============================] - 0s 997us/step - loss: 0.1907 - accuracy: 0.9332\n",
      "Epoch 90/400\n",
      "20/20 [==============================] - 0s 1ms/step - loss: 0.1886 - accuracy: 0.9365\n",
      "Epoch 91/400\n",
      "20/20 [==============================] - 0s 2ms/step - loss: 0.1869 - accuracy: 0.9332\n",
      "Epoch 92/400\n",
      "20/20 [==============================] - 0s 1ms/step - loss: 0.1879 - accuracy: 0.9381\n",
      "Epoch 93/400\n",
      "20/20 [==============================] - 0s 1ms/step - loss: 0.1864 - accuracy: 0.9332\n",
      "Epoch 94/400\n",
      "20/20 [==============================] - 0s 1ms/step - loss: 0.1885 - accuracy: 0.9381\n",
      "Epoch 95/400\n",
      "20/20 [==============================] - 0s 1ms/step - loss: 0.1848 - accuracy: 0.9381\n",
      "Epoch 96/400\n",
      "20/20 [==============================] - 0s 2ms/step - loss: 0.1849 - accuracy: 0.9414\n",
      "Epoch 97/400\n",
      "20/20 [==============================] - 0s 1ms/step - loss: 0.1850 - accuracy: 0.9349\n",
      "Epoch 98/400\n",
      "20/20 [==============================] - 0s 1ms/step - loss: 0.1839 - accuracy: 0.9381\n",
      "Epoch 99/400\n",
      "20/20 [==============================] - 0s 1ms/step - loss: 0.1833 - accuracy: 0.9365\n",
      "Epoch 100/400\n",
      "20/20 [==============================] - 0s 1ms/step - loss: 0.1838 - accuracy: 0.9397\n",
      "Epoch 101/400\n",
      "20/20 [==============================] - 0s 1ms/step - loss: 0.1815 - accuracy: 0.9381\n",
      "Epoch 102/400\n",
      "20/20 [==============================] - 0s 1ms/step - loss: 0.1842 - accuracy: 0.9349\n",
      "Epoch 103/400\n",
      "20/20 [==============================] - 0s 2ms/step - loss: 0.1816 - accuracy: 0.9397\n",
      "Epoch 104/400\n",
      "20/20 [==============================] - 0s 2ms/step - loss: 0.1803 - accuracy: 0.9430\n",
      "Epoch 105/400\n",
      "20/20 [==============================] - 0s 2ms/step - loss: 0.1791 - accuracy: 0.9365\n",
      "Epoch 106/400\n",
      "20/20 [==============================] - 0s 2ms/step - loss: 0.1794 - accuracy: 0.9365\n",
      "Epoch 107/400\n",
      "20/20 [==============================] - 0s 2ms/step - loss: 0.1808 - accuracy: 0.9397\n",
      "Epoch 108/400\n",
      "20/20 [==============================] - 0s 947us/step - loss: 0.1763 - accuracy: 0.9463\n",
      "Epoch 109/400\n",
      "20/20 [==============================] - 0s 1ms/step - loss: 0.1777 - accuracy: 0.9430\n",
      "Epoch 110/400\n",
      "20/20 [==============================] - 0s 2ms/step - loss: 0.1753 - accuracy: 0.9430\n",
      "Epoch 111/400\n",
      "20/20 [==============================] - 0s 1ms/step - loss: 0.1742 - accuracy: 0.9414\n",
      "Epoch 112/400\n",
      "20/20 [==============================] - 0s 1ms/step - loss: 0.1762 - accuracy: 0.9430\n",
      "Epoch 113/400\n",
      "20/20 [==============================] - 0s 2ms/step - loss: 0.1749 - accuracy: 0.9381\n",
      "Epoch 114/400\n",
      "20/20 [==============================] - 0s 1ms/step - loss: 0.1744 - accuracy: 0.9463\n",
      "Epoch 115/400\n",
      "20/20 [==============================] - 0s 1ms/step - loss: 0.1725 - accuracy: 0.9414\n",
      "Epoch 116/400\n",
      "20/20 [==============================] - 0s 1ms/step - loss: 0.1709 - accuracy: 0.9446\n",
      "Epoch 117/400\n",
      "20/20 [==============================] - 0s 2ms/step - loss: 0.1709 - accuracy: 0.9430\n",
      "Epoch 118/400\n",
      "20/20 [==============================] - 0s 2ms/step - loss: 0.1760 - accuracy: 0.9446\n",
      "Epoch 119/400\n",
      "20/20 [==============================] - 0s 1ms/step - loss: 0.1753 - accuracy: 0.9495\n",
      "Epoch 120/400\n",
      "20/20 [==============================] - 0s 2ms/step - loss: 0.1708 - accuracy: 0.9446\n",
      "Epoch 121/400\n",
      "20/20 [==============================] - 0s 2ms/step - loss: 0.1704 - accuracy: 0.9463\n",
      "Epoch 122/400\n",
      "20/20 [==============================] - ETA: 0s - loss: 0.1686 - accuracy: 0.96 - 0s 2ms/step - loss: 0.1688 - accuracy: 0.9463\n",
      "Epoch 123/400\n",
      "20/20 [==============================] - 0s 2ms/step - loss: 0.1682 - accuracy: 0.9495\n",
      "Epoch 124/400\n",
      "20/20 [==============================] - 0s 2ms/step - loss: 0.1704 - accuracy: 0.9463\n",
      "Epoch 125/400\n",
      "20/20 [==============================] - 0s 1ms/step - loss: 0.1658 - accuracy: 0.9511\n",
      "Epoch 126/400\n",
      "20/20 [==============================] - 0s 1ms/step - loss: 0.1652 - accuracy: 0.9495\n",
      "Epoch 127/400\n",
      "20/20 [==============================] - 0s 1ms/step - loss: 0.1650 - accuracy: 0.9463\n",
      "Epoch 128/400\n",
      "20/20 [==============================] - 0s 2ms/step - loss: 0.1646 - accuracy: 0.9446\n",
      "Epoch 129/400\n",
      "20/20 [==============================] - 0s 1ms/step - loss: 0.1644 - accuracy: 0.9511\n",
      "Epoch 130/400\n",
      "20/20 [==============================] - 0s 1ms/step - loss: 0.1650 - accuracy: 0.9446\n",
      "Epoch 131/400\n",
      "20/20 [==============================] - 0s 1ms/step - loss: 0.1627 - accuracy: 0.9511\n",
      "Epoch 132/400\n",
      "20/20 [==============================] - 0s 2ms/step - loss: 0.1634 - accuracy: 0.9528\n",
      "Epoch 133/400\n",
      "20/20 [==============================] - 0s 2ms/step - loss: 0.1605 - accuracy: 0.9544\n",
      "Epoch 134/400\n",
      "20/20 [==============================] - 0s 1ms/step - loss: 0.1610 - accuracy: 0.9544\n",
      "Epoch 135/400\n",
      "20/20 [==============================] - 0s 1ms/step - loss: 0.1609 - accuracy: 0.9479\n",
      "Epoch 136/400\n",
      "20/20 [==============================] - 0s 948us/step - loss: 0.1602 - accuracy: 0.9544\n",
      "Epoch 137/400\n",
      "20/20 [==============================] - 0s 1ms/step - loss: 0.1593 - accuracy: 0.9560\n",
      "Epoch 138/400\n",
      "20/20 [==============================] - 0s 2ms/step - loss: 0.1590 - accuracy: 0.9544\n",
      "Epoch 139/400\n",
      "20/20 [==============================] - 0s 1ms/step - loss: 0.1593 - accuracy: 0.9479\n",
      "Epoch 140/400\n",
      "20/20 [==============================] - 0s 2ms/step - loss: 0.1567 - accuracy: 0.9495\n",
      "Epoch 141/400\n",
      "20/20 [==============================] - 0s 1ms/step - loss: 0.1562 - accuracy: 0.9544\n",
      "Epoch 142/400\n",
      "20/20 [==============================] - 0s 1ms/step - loss: 0.1564 - accuracy: 0.9511\n",
      "Epoch 143/400\n",
      "20/20 [==============================] - 0s 1ms/step - loss: 0.1575 - accuracy: 0.9544\n",
      "Epoch 144/400\n",
      "20/20 [==============================] - 0s 1ms/step - loss: 0.1570 - accuracy: 0.9560\n",
      "Epoch 145/400\n",
      "20/20 [==============================] - 0s 2ms/step - loss: 0.1544 - accuracy: 0.9528\n",
      "Epoch 146/400\n",
      "20/20 [==============================] - 0s 2ms/step - loss: 0.1554 - accuracy: 0.9528\n",
      "Epoch 147/400\n",
      "20/20 [==============================] - 0s 1ms/step - loss: 0.1552 - accuracy: 0.9544\n",
      "Epoch 148/400\n",
      "20/20 [==============================] - 0s 2ms/step - loss: 0.1530 - accuracy: 0.9593\n",
      "Epoch 149/400\n",
      "20/20 [==============================] - 0s 1ms/step - loss: 0.1534 - accuracy: 0.9593\n",
      "Epoch 150/400\n",
      "20/20 [==============================] - 0s 2ms/step - loss: 0.1510 - accuracy: 0.9528\n",
      "Epoch 151/400\n",
      "20/20 [==============================] - 0s 1ms/step - loss: 0.1516 - accuracy: 0.9593\n",
      "Epoch 152/400\n",
      "20/20 [==============================] - ETA: 0s - loss: 0.1651 - accuracy: 0.90 - 0s 2ms/step - loss: 0.1508 - accuracy: 0.9544\n",
      "Epoch 153/400\n",
      "20/20 [==============================] - 0s 2ms/step - loss: 0.1531 - accuracy: 0.9625\n",
      "Epoch 154/400\n",
      "20/20 [==============================] - 0s 1ms/step - loss: 0.1520 - accuracy: 0.9560\n",
      "Epoch 155/400\n",
      "20/20 [==============================] - ETA: 0s - loss: 0.1636 - accuracy: 0.93 - 0s 2ms/step - loss: 0.1495 - accuracy: 0.9593\n",
      "Epoch 156/400\n",
      "20/20 [==============================] - 0s 2ms/step - loss: 0.1482 - accuracy: 0.9593\n",
      "Epoch 157/400\n",
      "20/20 [==============================] - 0s 2ms/step - loss: 0.1472 - accuracy: 0.9577\n",
      "Epoch 158/400\n",
      "20/20 [==============================] - 0s 3ms/step - loss: 0.1468 - accuracy: 0.9593\n",
      "Epoch 159/400\n",
      "20/20 [==============================] - 0s 2ms/step - loss: 0.1469 - accuracy: 0.9593\n",
      "Epoch 160/400\n",
      "20/20 [==============================] - 0s 3ms/step - loss: 0.1477 - accuracy: 0.9609\n",
      "Epoch 161/400\n",
      "20/20 [==============================] - 0s 2ms/step - loss: 0.1484 - accuracy: 0.9593\n",
      "Epoch 162/400\n"
     ]
    },
    {
     "name": "stdout",
     "output_type": "stream",
     "text": [
      "20/20 [==============================] - 0s 2ms/step - loss: 0.1442 - accuracy: 0.9658\n",
      "Epoch 163/400\n",
      "20/20 [==============================] - 0s 1ms/step - loss: 0.1444 - accuracy: 0.9642\n",
      "Epoch 164/400\n",
      "20/20 [==============================] - 0s 1ms/step - loss: 0.1429 - accuracy: 0.9609\n",
      "Epoch 165/400\n",
      "20/20 [==============================] - 0s 1ms/step - loss: 0.1427 - accuracy: 0.9609\n",
      "Epoch 166/400\n",
      "20/20 [==============================] - 0s 1ms/step - loss: 0.1445 - accuracy: 0.9609\n",
      "Epoch 167/400\n",
      "20/20 [==============================] - 0s 1ms/step - loss: 0.1407 - accuracy: 0.9642\n",
      "Epoch 168/400\n",
      "20/20 [==============================] - 0s 2ms/step - loss: 0.1420 - accuracy: 0.9609\n",
      "Epoch 169/400\n",
      "20/20 [==============================] - 0s 2ms/step - loss: 0.1404 - accuracy: 0.9658\n",
      "Epoch 170/400\n",
      "20/20 [==============================] - 0s 2ms/step - loss: 0.1411 - accuracy: 0.9642\n",
      "Epoch 171/400\n",
      "20/20 [==============================] - 0s 1ms/step - loss: 0.1383 - accuracy: 0.9674\n",
      "Epoch 172/400\n",
      "20/20 [==============================] - 0s 3ms/step - loss: 0.1398 - accuracy: 0.9625\n",
      "Epoch 173/400\n",
      "20/20 [==============================] - 0s 2ms/step - loss: 0.1399 - accuracy: 0.9642\n",
      "Epoch 174/400\n",
      "20/20 [==============================] - 0s 2ms/step - loss: 0.1375 - accuracy: 0.9707\n",
      "Epoch 175/400\n",
      "20/20 [==============================] - 0s 1ms/step - loss: 0.1364 - accuracy: 0.9658\n",
      "Epoch 176/400\n",
      "20/20 [==============================] - 0s 2ms/step - loss: 0.1387 - accuracy: 0.9642\n",
      "Epoch 177/400\n",
      "20/20 [==============================] - 0s 1ms/step - loss: 0.1367 - accuracy: 0.9658\n",
      "Epoch 178/400\n",
      "20/20 [==============================] - 0s 1ms/step - loss: 0.1360 - accuracy: 0.9658\n",
      "Epoch 179/400\n",
      "20/20 [==============================] - 0s 2ms/step - loss: 0.1372 - accuracy: 0.9609\n",
      "Epoch 180/400\n",
      "20/20 [==============================] - 0s 1ms/step - loss: 0.1348 - accuracy: 0.9674\n",
      "Epoch 181/400\n",
      "20/20 [==============================] - 0s 2ms/step - loss: 0.1332 - accuracy: 0.9723\n",
      "Epoch 182/400\n",
      "20/20 [==============================] - 0s 997us/step - loss: 0.1338 - accuracy: 0.9707\n",
      "Epoch 183/400\n",
      "20/20 [==============================] - 0s 1ms/step - loss: 0.1332 - accuracy: 0.9658\n",
      "Epoch 184/400\n",
      "20/20 [==============================] - 0s 1ms/step - loss: 0.1324 - accuracy: 0.9674\n",
      "Epoch 185/400\n",
      "20/20 [==============================] - 0s 1ms/step - loss: 0.1339 - accuracy: 0.9658\n",
      "Epoch 186/400\n",
      "20/20 [==============================] - 0s 1ms/step - loss: 0.1339 - accuracy: 0.9674\n",
      "Epoch 187/400\n",
      "20/20 [==============================] - 0s 1ms/step - loss: 0.1337 - accuracy: 0.9691\n",
      "Epoch 188/400\n",
      "20/20 [==============================] - 0s 1ms/step - loss: 0.1334 - accuracy: 0.9642\n",
      "Epoch 189/400\n",
      "20/20 [==============================] - 0s 1ms/step - loss: 0.1307 - accuracy: 0.9658\n",
      "Epoch 190/400\n",
      "20/20 [==============================] - 0s 1ms/step - loss: 0.1293 - accuracy: 0.9691\n",
      "Epoch 191/400\n",
      "20/20 [==============================] - 0s 1ms/step - loss: 0.1283 - accuracy: 0.9674\n",
      "Epoch 192/400\n",
      "20/20 [==============================] - 0s 1ms/step - loss: 0.1280 - accuracy: 0.9707\n",
      "Epoch 193/400\n",
      "20/20 [==============================] - 0s 1ms/step - loss: 0.1287 - accuracy: 0.9658\n",
      "Epoch 194/400\n",
      "20/20 [==============================] - 0s 1ms/step - loss: 0.1271 - accuracy: 0.9674\n",
      "Epoch 195/400\n",
      "20/20 [==============================] - 0s 1ms/step - loss: 0.1283 - accuracy: 0.9707\n",
      "Epoch 196/400\n",
      "20/20 [==============================] - 0s 1ms/step - loss: 0.1274 - accuracy: 0.9691\n",
      "Epoch 197/400\n",
      "20/20 [==============================] - 0s 1ms/step - loss: 0.1282 - accuracy: 0.9691\n",
      "Epoch 198/400\n",
      "20/20 [==============================] - 0s 1ms/step - loss: 0.1264 - accuracy: 0.9642\n",
      "Epoch 199/400\n",
      "20/20 [==============================] - 0s 1ms/step - loss: 0.1253 - accuracy: 0.9674\n",
      "Epoch 200/400\n",
      "20/20 [==============================] - 0s 1ms/step - loss: 0.1266 - accuracy: 0.9691\n",
      "Epoch 201/400\n",
      "20/20 [==============================] - 0s 1ms/step - loss: 0.1251 - accuracy: 0.9658\n",
      "Epoch 202/400\n",
      "20/20 [==============================] - 0s 1ms/step - loss: 0.1256 - accuracy: 0.9658\n",
      "Epoch 203/400\n",
      "20/20 [==============================] - 0s 1ms/step - loss: 0.1228 - accuracy: 0.9723\n",
      "Epoch 204/400\n",
      "20/20 [==============================] - 0s 1ms/step - loss: 0.1251 - accuracy: 0.9756\n",
      "Epoch 205/400\n",
      "20/20 [==============================] - 0s 1ms/step - loss: 0.1267 - accuracy: 0.9691\n",
      "Epoch 206/400\n",
      "20/20 [==============================] - 0s 2ms/step - loss: 0.1240 - accuracy: 0.9674\n",
      "Epoch 207/400\n",
      "20/20 [==============================] - 0s 3ms/step - loss: 0.1229 - accuracy: 0.9707\n",
      "Epoch 208/400\n",
      "20/20 [==============================] - 0s 4ms/step - loss: 0.1228 - accuracy: 0.9658\n",
      "Epoch 209/400\n",
      "20/20 [==============================] - 0s 2ms/step - loss: 0.1210 - accuracy: 0.9723\n",
      "Epoch 210/400\n",
      "20/20 [==============================] - 0s 2ms/step - loss: 0.1206 - accuracy: 0.9707\n",
      "Epoch 211/400\n",
      "20/20 [==============================] - 0s 2ms/step - loss: 0.1204 - accuracy: 0.9723\n",
      "Epoch 212/400\n",
      "20/20 [==============================] - 0s 2ms/step - loss: 0.1209 - accuracy: 0.9691\n",
      "Epoch 213/400\n",
      "20/20 [==============================] - 0s 2ms/step - loss: 0.1200 - accuracy: 0.9707\n",
      "Epoch 214/400\n",
      "20/20 [==============================] - 0s 1ms/step - loss: 0.1184 - accuracy: 0.9707\n",
      "Epoch 215/400\n",
      "20/20 [==============================] - 0s 2ms/step - loss: 0.1200 - accuracy: 0.9723\n",
      "Epoch 216/400\n",
      "20/20 [==============================] - 0s 1ms/step - loss: 0.1202 - accuracy: 0.9723\n",
      "Epoch 217/400\n",
      "20/20 [==============================] - 0s 2ms/step - loss: 0.1167 - accuracy: 0.9723\n",
      "Epoch 218/400\n",
      "20/20 [==============================] - 0s 1ms/step - loss: 0.1162 - accuracy: 0.9707\n",
      "Epoch 219/400\n",
      "20/20 [==============================] - 0s 1ms/step - loss: 0.1168 - accuracy: 0.9739\n",
      "Epoch 220/400\n",
      "20/20 [==============================] - 0s 1ms/step - loss: 0.1155 - accuracy: 0.9723\n",
      "Epoch 221/400\n",
      "20/20 [==============================] - 0s 997us/step - loss: 0.1158 - accuracy: 0.9739\n",
      "Epoch 222/400\n",
      "20/20 [==============================] - 0s 1ms/step - loss: 0.1167 - accuracy: 0.9691\n",
      "Epoch 223/400\n",
      "20/20 [==============================] - 0s 1ms/step - loss: 0.1174 - accuracy: 0.9691\n",
      "Epoch 224/400\n",
      "20/20 [==============================] - 0s 1ms/step - loss: 0.1128 - accuracy: 0.9739\n",
      "Epoch 225/400\n",
      "20/20 [==============================] - 0s 1ms/step - loss: 0.1137 - accuracy: 0.9739\n",
      "Epoch 226/400\n",
      "20/20 [==============================] - 0s 1ms/step - loss: 0.1127 - accuracy: 0.9707\n",
      "Epoch 227/400\n",
      "20/20 [==============================] - 0s 1ms/step - loss: 0.1119 - accuracy: 0.9739\n",
      "Epoch 228/400\n",
      "20/20 [==============================] - 0s 1ms/step - loss: 0.1130 - accuracy: 0.9756\n",
      "Epoch 229/400\n",
      "20/20 [==============================] - 0s 1ms/step - loss: 0.1146 - accuracy: 0.9739\n",
      "Epoch 230/400\n",
      "20/20 [==============================] - 0s 1ms/step - loss: 0.1122 - accuracy: 0.9723\n",
      "Epoch 231/400\n",
      "20/20 [==============================] - 0s 1ms/step - loss: 0.1131 - accuracy: 0.9739\n",
      "Epoch 232/400\n",
      "20/20 [==============================] - 0s 1ms/step - loss: 0.1111 - accuracy: 0.9691\n",
      "Epoch 233/400\n",
      "20/20 [==============================] - 0s 1ms/step - loss: 0.1114 - accuracy: 0.9707\n",
      "Epoch 234/400\n",
      "20/20 [==============================] - 0s 1ms/step - loss: 0.1126 - accuracy: 0.9707\n",
      "Epoch 235/400\n",
      "20/20 [==============================] - 0s 1ms/step - loss: 0.1092 - accuracy: 0.9723\n",
      "Epoch 236/400\n",
      "20/20 [==============================] - 0s 1ms/step - loss: 0.1096 - accuracy: 0.9723\n",
      "Epoch 237/400\n",
      "20/20 [==============================] - 0s 997us/step - loss: 0.1097 - accuracy: 0.9707\n",
      "Epoch 238/400\n",
      "20/20 [==============================] - 0s 1ms/step - loss: 0.1067 - accuracy: 0.9756\n",
      "Epoch 239/400\n",
      "20/20 [==============================] - 0s 2ms/step - loss: 0.1086 - accuracy: 0.9723\n",
      "Epoch 240/400\n",
      "20/20 [==============================] - 0s 1ms/step - loss: 0.1070 - accuracy: 0.9756\n",
      "Epoch 241/400\n",
      "20/20 [==============================] - 0s 1ms/step - loss: 0.1063 - accuracy: 0.9723\n",
      "Epoch 242/400\n",
      "20/20 [==============================] - 0s 1ms/step - loss: 0.1065 - accuracy: 0.9756\n",
      "Epoch 243/400\n"
     ]
    },
    {
     "name": "stdout",
     "output_type": "stream",
     "text": [
      "20/20 [==============================] - 0s 1ms/step - loss: 0.1069 - accuracy: 0.9723\n",
      "Epoch 244/400\n",
      "20/20 [==============================] - 0s 2ms/step - loss: 0.1060 - accuracy: 0.9723\n",
      "Epoch 245/400\n",
      "20/20 [==============================] - 0s 2ms/step - loss: 0.1086 - accuracy: 0.9723\n",
      "Epoch 246/400\n",
      "20/20 [==============================] - ETA: 0s - loss: 0.1288 - accuracy: 0.96 - 0s 2ms/step - loss: 0.1128 - accuracy: 0.9658\n",
      "Epoch 247/400\n",
      "20/20 [==============================] - 0s 2ms/step - loss: 0.1079 - accuracy: 0.9723\n",
      "Epoch 248/400\n",
      "20/20 [==============================] - 0s 3ms/step - loss: 0.1029 - accuracy: 0.9756\n",
      "Epoch 249/400\n",
      "20/20 [==============================] - 0s 2ms/step - loss: 0.1064 - accuracy: 0.9723\n",
      "Epoch 250/400\n",
      "20/20 [==============================] - 0s 2ms/step - loss: 0.1050 - accuracy: 0.9772\n",
      "Epoch 251/400\n",
      "20/20 [==============================] - 0s 1ms/step - loss: 0.1033 - accuracy: 0.9805\n",
      "Epoch 252/400\n",
      "20/20 [==============================] - 0s 2ms/step - loss: 0.1032 - accuracy: 0.9756\n",
      "Epoch 253/400\n",
      "20/20 [==============================] - 0s 2ms/step - loss: 0.1015 - accuracy: 0.9772\n",
      "Epoch 254/400\n",
      "20/20 [==============================] - 0s 2ms/step - loss: 0.1029 - accuracy: 0.9739\n",
      "Epoch 255/400\n",
      "20/20 [==============================] - 0s 2ms/step - loss: 0.1035 - accuracy: 0.9739\n",
      "Epoch 256/400\n",
      "20/20 [==============================] - 0s 2ms/step - loss: 0.1041 - accuracy: 0.9772\n",
      "Epoch 257/400\n",
      "20/20 [==============================] - 0s 1ms/step - loss: 0.0998 - accuracy: 0.9772\n",
      "Epoch 258/400\n",
      "20/20 [==============================] - 0s 2ms/step - loss: 0.1006 - accuracy: 0.9723\n",
      "Epoch 259/400\n",
      "20/20 [==============================] - 0s 1ms/step - loss: 0.0988 - accuracy: 0.9772\n",
      "Epoch 260/400\n",
      "20/20 [==============================] - 0s 1ms/step - loss: 0.0991 - accuracy: 0.9739\n",
      "Epoch 261/400\n",
      "20/20 [==============================] - 0s 1ms/step - loss: 0.0984 - accuracy: 0.9772\n",
      "Epoch 262/400\n",
      "20/20 [==============================] - 0s 1ms/step - loss: 0.0965 - accuracy: 0.9821\n",
      "Epoch 263/400\n",
      "20/20 [==============================] - 0s 1ms/step - loss: 0.0970 - accuracy: 0.9821\n",
      "Epoch 264/400\n",
      "20/20 [==============================] - 0s 2ms/step - loss: 0.0986 - accuracy: 0.9788\n",
      "Epoch 265/400\n",
      "20/20 [==============================] - 0s 1ms/step - loss: 0.0977 - accuracy: 0.9756\n",
      "Epoch 266/400\n",
      "20/20 [==============================] - 0s 1ms/step - loss: 0.0964 - accuracy: 0.9772\n",
      "Epoch 267/400\n",
      "20/20 [==============================] - 0s 997us/step - loss: 0.0965 - accuracy: 0.9805\n",
      "Epoch 268/400\n",
      "20/20 [==============================] - 0s 1ms/step - loss: 0.0959 - accuracy: 0.9805\n",
      "Epoch 269/400\n",
      "20/20 [==============================] - 0s 1ms/step - loss: 0.0969 - accuracy: 0.9805\n",
      "Epoch 270/400\n",
      "20/20 [==============================] - 0s 1ms/step - loss: 0.0951 - accuracy: 0.9756\n",
      "Epoch 271/400\n",
      "20/20 [==============================] - 0s 1ms/step - loss: 0.0986 - accuracy: 0.9756\n",
      "Epoch 272/400\n",
      "20/20 [==============================] - 0s 1ms/step - loss: 0.0944 - accuracy: 0.9821\n",
      "Epoch 273/400\n",
      "20/20 [==============================] - 0s 2ms/step - loss: 0.0935 - accuracy: 0.9805\n",
      "Epoch 274/400\n",
      "20/20 [==============================] - 0s 2ms/step - loss: 0.0927 - accuracy: 0.9805\n",
      "Epoch 275/400\n",
      "20/20 [==============================] - 0s 1ms/step - loss: 0.0927 - accuracy: 0.9805\n",
      "Epoch 276/400\n",
      "20/20 [==============================] - 0s 1ms/step - loss: 0.0920 - accuracy: 0.9805\n",
      "Epoch 277/400\n",
      "20/20 [==============================] - 0s 1ms/step - loss: 0.0919 - accuracy: 0.9805\n",
      "Epoch 278/400\n",
      "20/20 [==============================] - 0s 898us/step - loss: 0.0915 - accuracy: 0.9821\n",
      "Epoch 279/400\n",
      "20/20 [==============================] - 0s 1ms/step - loss: 0.0901 - accuracy: 0.9837\n",
      "Epoch 280/400\n",
      "20/20 [==============================] - 0s 1ms/step - loss: 0.0893 - accuracy: 0.9821\n",
      "Epoch 281/400\n",
      "20/20 [==============================] - 0s 1ms/step - loss: 0.0894 - accuracy: 0.9821\n",
      "Epoch 282/400\n",
      "20/20 [==============================] - 0s 1ms/step - loss: 0.0947 - accuracy: 0.9756\n",
      "Epoch 283/400\n",
      "20/20 [==============================] - 0s 997us/step - loss: 0.0912 - accuracy: 0.9772\n",
      "Epoch 284/400\n",
      "20/20 [==============================] - 0s 1ms/step - loss: 0.0883 - accuracy: 0.9853\n",
      "Epoch 285/400\n",
      "20/20 [==============================] - 0s 1ms/step - loss: 0.0903 - accuracy: 0.9805\n",
      "Epoch 286/400\n",
      "20/20 [==============================] - 0s 1ms/step - loss: 0.0874 - accuracy: 0.9821\n",
      "Epoch 287/400\n",
      "20/20 [==============================] - 0s 997us/step - loss: 0.0876 - accuracy: 0.9837\n",
      "Epoch 288/400\n",
      "20/20 [==============================] - 0s 1ms/step - loss: 0.0865 - accuracy: 0.9870\n",
      "Epoch 289/400\n",
      "20/20 [==============================] - 0s 1ms/step - loss: 0.0869 - accuracy: 0.9853\n",
      "Epoch 290/400\n",
      "20/20 [==============================] - 0s 1ms/step - loss: 0.0845 - accuracy: 0.9853\n",
      "Epoch 291/400\n",
      "20/20 [==============================] - 0s 1ms/step - loss: 0.0845 - accuracy: 0.9853\n",
      "Epoch 292/400\n",
      "20/20 [==============================] - 0s 1ms/step - loss: 0.0845 - accuracy: 0.9886\n",
      "Epoch 293/400\n",
      "20/20 [==============================] - 0s 1ms/step - loss: 0.0848 - accuracy: 0.9821\n",
      "Epoch 294/400\n",
      "20/20 [==============================] - 0s 1ms/step - loss: 0.0842 - accuracy: 0.9886\n",
      "Epoch 295/400\n",
      "20/20 [==============================] - 0s 997us/step - loss: 0.0842 - accuracy: 0.9837\n",
      "Epoch 296/400\n",
      "20/20 [==============================] - 0s 1ms/step - loss: 0.0836 - accuracy: 0.9837\n",
      "Epoch 297/400\n",
      "20/20 [==============================] - 0s 1ms/step - loss: 0.0831 - accuracy: 0.9870\n",
      "Epoch 298/400\n",
      "20/20 [==============================] - 0s 2ms/step - loss: 0.0819 - accuracy: 0.9886\n",
      "Epoch 299/400\n",
      "20/20 [==============================] - 0s 947us/step - loss: 0.0825 - accuracy: 0.9853\n",
      "Epoch 300/400\n",
      "20/20 [==============================] - 0s 1ms/step - loss: 0.0816 - accuracy: 0.9870\n",
      "Epoch 301/400\n",
      "20/20 [==============================] - 0s 947us/step - loss: 0.0814 - accuracy: 0.9886\n",
      "Epoch 302/400\n",
      "20/20 [==============================] - 0s 3ms/step - loss: 0.0824 - accuracy: 0.9853\n",
      "Epoch 303/400\n",
      "20/20 [==============================] - 0s 1ms/step - loss: 0.0801 - accuracy: 0.9853\n",
      "Epoch 304/400\n",
      "20/20 [==============================] - 0s 1ms/step - loss: 0.0838 - accuracy: 0.9788\n",
      "Epoch 305/400\n",
      "20/20 [==============================] - 0s 2ms/step - loss: 0.0799 - accuracy: 0.9853\n",
      "Epoch 306/400\n",
      "20/20 [==============================] - 0s 1ms/step - loss: 0.0809 - accuracy: 0.9870\n",
      "Epoch 307/400\n",
      "20/20 [==============================] - 0s 1ms/step - loss: 0.0823 - accuracy: 0.9837\n",
      "Epoch 308/400\n",
      "20/20 [==============================] - 0s 1ms/step - loss: 0.0787 - accuracy: 0.9886\n",
      "Epoch 309/400\n",
      "20/20 [==============================] - 0s 1ms/step - loss: 0.0770 - accuracy: 0.9886\n",
      "Epoch 310/400\n",
      "20/20 [==============================] - 0s 2ms/step - loss: 0.0761 - accuracy: 0.9886\n",
      "Epoch 311/400\n",
      "20/20 [==============================] - 0s 3ms/step - loss: 0.0777 - accuracy: 0.9886\n",
      "Epoch 312/400\n",
      "20/20 [==============================] - 0s 4ms/step - loss: 0.0773 - accuracy: 0.9902\n",
      "Epoch 313/400\n",
      "20/20 [==============================] - 0s 3ms/step - loss: 0.0761 - accuracy: 0.9886\n",
      "Epoch 314/400\n",
      "20/20 [==============================] - 0s 5ms/step - loss: 0.0751 - accuracy: 0.9902\n",
      "Epoch 315/400\n",
      "20/20 [==============================] - 0s 2ms/step - loss: 0.0746 - accuracy: 0.9886\n",
      "Epoch 316/400\n",
      "20/20 [==============================] - 0s 1ms/step - loss: 0.0741 - accuracy: 0.9886\n",
      "Epoch 317/400\n",
      "20/20 [==============================] - 0s 2ms/step - loss: 0.0733 - accuracy: 0.9886\n",
      "Epoch 318/400\n",
      "20/20 [==============================] - 0s 2ms/step - loss: 0.0734 - accuracy: 0.9886\n",
      "Epoch 319/400\n",
      "20/20 [==============================] - 0s 2ms/step - loss: 0.0734 - accuracy: 0.9886\n",
      "Epoch 320/400\n",
      "20/20 [==============================] - 0s 1ms/step - loss: 0.0735 - accuracy: 0.9886\n",
      "Epoch 321/400\n",
      "20/20 [==============================] - 0s 1ms/step - loss: 0.0714 - accuracy: 0.9902\n",
      "Epoch 322/400\n",
      "20/20 [==============================] - 0s 1ms/step - loss: 0.0713 - accuracy: 0.9886\n",
      "Epoch 323/400\n"
     ]
    },
    {
     "name": "stdout",
     "output_type": "stream",
     "text": [
      "20/20 [==============================] - 0s 1ms/step - loss: 0.0745 - accuracy: 0.9886\n",
      "Epoch 324/400\n",
      "20/20 [==============================] - 0s 1ms/step - loss: 0.0728 - accuracy: 0.9902\n",
      "Epoch 325/400\n",
      "20/20 [==============================] - 0s 1ms/step - loss: 0.0712 - accuracy: 0.9870\n",
      "Epoch 326/400\n",
      "20/20 [==============================] - 0s 1ms/step - loss: 0.0711 - accuracy: 0.9902\n",
      "Epoch 327/400\n",
      "20/20 [==============================] - 0s 2ms/step - loss: 0.0711 - accuracy: 0.9902\n",
      "Epoch 328/400\n",
      "20/20 [==============================] - ETA: 0s - loss: 0.0229 - accuracy: 1.00 - 0s 2ms/step - loss: 0.0693 - accuracy: 0.9886\n",
      "Epoch 329/400\n",
      "20/20 [==============================] - 0s 3ms/step - loss: 0.0695 - accuracy: 0.9902\n",
      "Epoch 330/400\n",
      "20/20 [==============================] - 0s 4ms/step - loss: 0.0690 - accuracy: 0.9902\n",
      "Epoch 331/400\n",
      "20/20 [==============================] - 0s 2ms/step - loss: 0.0754 - accuracy: 0.9870\n",
      "Epoch 332/400\n",
      "20/20 [==============================] - 0s 3ms/step - loss: 0.0704 - accuracy: 0.9902\n",
      "Epoch 333/400\n",
      "20/20 [==============================] - 0s 5ms/step - loss: 0.0678 - accuracy: 0.9919\n",
      "Epoch 334/400\n",
      "20/20 [==============================] - 0s 2ms/step - loss: 0.0685 - accuracy: 0.9902\n",
      "Epoch 335/400\n",
      "20/20 [==============================] - 0s 2ms/step - loss: 0.0680 - accuracy: 0.9870\n",
      "Epoch 336/400\n",
      "20/20 [==============================] - 0s 3ms/step - loss: 0.0695 - accuracy: 0.9902\n",
      "Epoch 337/400\n",
      "20/20 [==============================] - 0s 2ms/step - loss: 0.0686 - accuracy: 0.9870\n",
      "Epoch 338/400\n",
      "20/20 [==============================] - 0s 2ms/step - loss: 0.0679 - accuracy: 0.9902\n",
      "Epoch 339/400\n",
      "20/20 [==============================] - 0s 1ms/step - loss: 0.0661 - accuracy: 0.9886\n",
      "Epoch 340/400\n",
      "20/20 [==============================] - 0s 2ms/step - loss: 0.0659 - accuracy: 0.9886\n",
      "Epoch 341/400\n",
      "20/20 [==============================] - 0s 2ms/step - loss: 0.0673 - accuracy: 0.9886\n",
      "Epoch 342/400\n",
      "20/20 [==============================] - 0s 2ms/step - loss: 0.0653 - accuracy: 0.9886\n",
      "Epoch 343/400\n",
      "20/20 [==============================] - 0s 3ms/step - loss: 0.0684 - accuracy: 0.9837\n",
      "Epoch 344/400\n",
      "20/20 [==============================] - 0s 2ms/step - loss: 0.0645 - accuracy: 0.9919\n",
      "Epoch 345/400\n",
      "20/20 [==============================] - 0s 4ms/step - loss: 0.0645 - accuracy: 0.9902\n",
      "Epoch 346/400\n",
      "20/20 [==============================] - 0s 2ms/step - loss: 0.0664 - accuracy: 0.9870\n",
      "Epoch 347/400\n",
      "20/20 [==============================] - 0s 2ms/step - loss: 0.0663 - accuracy: 0.9886\n",
      "Epoch 348/400\n",
      "20/20 [==============================] - 0s 2ms/step - loss: 0.0641 - accuracy: 0.9919\n",
      "Epoch 349/400\n",
      "20/20 [==============================] - 0s 2ms/step - loss: 0.0643 - accuracy: 0.9935\n",
      "Epoch 350/400\n",
      "20/20 [==============================] - 0s 2ms/step - loss: 0.0647 - accuracy: 0.9919\n",
      "Epoch 351/400\n",
      "20/20 [==============================] - 0s 3ms/step - loss: 0.0614 - accuracy: 0.9935\n",
      "Epoch 352/400\n",
      "20/20 [==============================] - 0s 4ms/step - loss: 0.0639 - accuracy: 0.9902\n",
      "Epoch 353/400\n",
      "20/20 [==============================] - 0s 2ms/step - loss: 0.0631 - accuracy: 0.9919\n",
      "Epoch 354/400\n",
      "20/20 [==============================] - 0s 2ms/step - loss: 0.0612 - accuracy: 0.9902\n",
      "Epoch 355/400\n",
      "20/20 [==============================] - 0s 2ms/step - loss: 0.0605 - accuracy: 0.9902\n",
      "Epoch 356/400\n",
      "20/20 [==============================] - 0s 1ms/step - loss: 0.0603 - accuracy: 0.9919\n",
      "Epoch 357/400\n",
      "20/20 [==============================] - 0s 2ms/step - loss: 0.0607 - accuracy: 0.9935\n",
      "Epoch 358/400\n",
      "20/20 [==============================] - 0s 2ms/step - loss: 0.0603 - accuracy: 0.9902\n",
      "Epoch 359/400\n",
      "20/20 [==============================] - 0s 3ms/step - loss: 0.0601 - accuracy: 0.9935\n",
      "Epoch 360/400\n",
      "20/20 [==============================] - 0s 2ms/step - loss: 0.0603 - accuracy: 0.9919\n",
      "Epoch 361/400\n",
      "20/20 [==============================] - 0s 2ms/step - loss: 0.0600 - accuracy: 0.9902\n",
      "Epoch 362/400\n",
      "20/20 [==============================] - 0s 2ms/step - loss: 0.0605 - accuracy: 0.9902\n",
      "Epoch 363/400\n",
      "20/20 [==============================] - 0s 2ms/step - loss: 0.0589 - accuracy: 0.9935\n",
      "Epoch 364/400\n",
      "20/20 [==============================] - 0s 3ms/step - loss: 0.0593 - accuracy: 0.9919\n",
      "Epoch 365/400\n",
      "20/20 [==============================] - 0s 2ms/step - loss: 0.0595 - accuracy: 0.9951\n",
      "Epoch 366/400\n",
      "20/20 [==============================] - 0s 2ms/step - loss: 0.0591 - accuracy: 0.9935\n",
      "Epoch 367/400\n",
      "20/20 [==============================] - 0s 2ms/step - loss: 0.0588 - accuracy: 0.9935\n",
      "Epoch 368/400\n",
      "20/20 [==============================] - 0s 2ms/step - loss: 0.0585 - accuracy: 0.9919\n",
      "Epoch 369/400\n",
      "20/20 [==============================] - 0s 1ms/step - loss: 0.0574 - accuracy: 0.9919\n",
      "Epoch 370/400\n",
      "20/20 [==============================] - 0s 2ms/step - loss: 0.0575 - accuracy: 0.9919\n",
      "Epoch 371/400\n",
      "20/20 [==============================] - 0s 2ms/step - loss: 0.0573 - accuracy: 0.9935\n",
      "Epoch 372/400\n",
      "20/20 [==============================] - 0s 3ms/step - loss: 0.0563 - accuracy: 0.9902\n",
      "Epoch 373/400\n",
      "20/20 [==============================] - 0s 2ms/step - loss: 0.0553 - accuracy: 0.9935\n",
      "Epoch 374/400\n",
      "20/20 [==============================] - 0s 2ms/step - loss: 0.0564 - accuracy: 0.9935\n",
      "Epoch 375/400\n",
      "20/20 [==============================] - 0s 2ms/step - loss: 0.0554 - accuracy: 0.9951\n",
      "Epoch 376/400\n",
      "20/20 [==============================] - 0s 2ms/step - loss: 0.0546 - accuracy: 0.9935\n",
      "Epoch 377/400\n",
      "20/20 [==============================] - 0s 2ms/step - loss: 0.0618 - accuracy: 0.9902\n",
      "Epoch 378/400\n",
      "20/20 [==============================] - 0s 2ms/step - loss: 0.0593 - accuracy: 0.9902\n",
      "Epoch 379/400\n",
      "20/20 [==============================] - 0s 2ms/step - loss: 0.0555 - accuracy: 0.9935\n",
      "Epoch 380/400\n",
      "20/20 [==============================] - 0s 2ms/step - loss: 0.0539 - accuracy: 0.9951\n",
      "Epoch 381/400\n",
      "20/20 [==============================] - 0s 2ms/step - loss: 0.0563 - accuracy: 0.9919\n",
      "Epoch 382/400\n",
      "20/20 [==============================] - 0s 2ms/step - loss: 0.0532 - accuracy: 0.9935\n",
      "Epoch 383/400\n",
      "20/20 [==============================] - 0s 2ms/step - loss: 0.0527 - accuracy: 0.9967\n",
      "Epoch 384/400\n",
      "20/20 [==============================] - 0s 2ms/step - loss: 0.0538 - accuracy: 0.9967\n",
      "Epoch 385/400\n",
      "20/20 [==============================] - 0s 2ms/step - loss: 0.0542 - accuracy: 0.9935\n",
      "Epoch 386/400\n",
      "20/20 [==============================] - ETA: 0s - loss: 0.0475 - accuracy: 1.00 - 0s 2ms/step - loss: 0.0519 - accuracy: 0.9967\n",
      "Epoch 387/400\n",
      "20/20 [==============================] - 0s 2ms/step - loss: 0.0526 - accuracy: 0.9919\n",
      "Epoch 388/400\n",
      "20/20 [==============================] - 0s 1ms/step - loss: 0.0522 - accuracy: 0.9967\n",
      "Epoch 389/400\n",
      "20/20 [==============================] - 0s 2ms/step - loss: 0.0519 - accuracy: 0.9984\n",
      "Epoch 390/400\n",
      "20/20 [==============================] - 0s 1ms/step - loss: 0.0521 - accuracy: 0.9919\n",
      "Epoch 391/400\n",
      "20/20 [==============================] - 0s 1ms/step - loss: 0.0544 - accuracy: 0.9984\n",
      "Epoch 392/400\n",
      "20/20 [==============================] - 0s 1ms/step - loss: 0.0518 - accuracy: 0.9951\n",
      "Epoch 393/400\n",
      "20/20 [==============================] - 0s 1ms/step - loss: 0.0506 - accuracy: 0.9967\n",
      "Epoch 394/400\n",
      "20/20 [==============================] - 0s 2ms/step - loss: 0.0532 - accuracy: 0.9935\n",
      "Epoch 395/400\n",
      "20/20 [==============================] - 0s 2ms/step - loss: 0.0495 - accuracy: 0.9984\n",
      "Epoch 396/400\n",
      "20/20 [==============================] - 0s 1ms/step - loss: 0.0500 - accuracy: 0.9967\n",
      "Epoch 397/400\n",
      "20/20 [==============================] - 0s 1ms/step - loss: 0.0504 - accuracy: 0.9967\n",
      "Epoch 398/400\n",
      "20/20 [==============================] - 0s 2ms/step - loss: 0.0512 - accuracy: 0.9951\n",
      "Epoch 399/400\n",
      "20/20 [==============================] - 0s 1ms/step - loss: 0.0487 - accuracy: 0.9984\n",
      "Epoch 400/400\n",
      "20/20 [==============================] - 0s 2ms/step - loss: 0.0488 - accuracy: 0.9967\n"
     ]
    },
    {
     "data": {
      "text/plain": [
       "<tensorflow.python.keras.callbacks.History at 0x2285fc1b220>"
      ]
     },
     "execution_count": 50,
     "metadata": {},
     "output_type": "execute_result"
    }
   ],
   "source": [
    "# To train our MLP model defined in earlier steps, let's call the fit function. Let's train our model for 200 iterations:\n",
    "# Train the model for 200 epochs\n",
    "model.fit(X_train, y_train, epochs = 400)"
   ]
  },
  {
   "cell_type": "markdown",
   "metadata": {},
   "source": [
    "# Results analysis\n",
    "#### Having successfully trained our MLP, let's evaluate our model based on the testing accuracy, confusion matrix, and receiver operating characteristic (ROC) curve."
   ]
  },
  {
   "cell_type": "markdown",
   "metadata": {},
   "source": [
    "# Testing accuracy\n",
    "#### We can evaluate our model on the training set and testing set using the evaluate() function:"
   ]
  },
  {
   "cell_type": "code",
   "execution_count": 51,
   "metadata": {
    "scrolled": true
   },
   "outputs": [
    {
     "name": "stdout",
     "output_type": "stream",
     "text": [
      "20/20 [==============================] - 0s 947us/step - loss: 0.0459 - accuracy: 0.9984\n",
      "Training Accuracy: 99.84%\n",
      "\n",
      "5/5 [==============================] - 0s 798us/step - loss: 1.1966 - accuracy: 0.7597\n",
      "Testing Accuracy: 75.97%\n",
      "\n"
     ]
    }
   ],
   "source": [
    "scores = model.evaluate(X_train, y_train)\n",
    "print(\"Training Accuracy: %.2f%%\\n\" % (scores[1]*100))\n",
    "\n",
    "scores = model.evaluate(X_test, y_test)\n",
    "print(\"Testing Accuracy: %.2f%%\\n\" % (scores[1]*100))"
   ]
  },
  {
   "cell_type": "markdown",
   "metadata": {},
   "source": [
    "The accuracy is 90.07% and 78.57% on the training set and testing set respectively. The difference in accuracy between the training and testing set isn't surprising since the model was trained on the training set."
   ]
  },
  {
   "cell_type": "markdown",
   "metadata": {},
   "source": [
    "# Confusion matrix\n",
    "The confusion matrix is a useful visualization tool that provides analysis on the true negative, false positive, false negative, and true positives made by our model. Beyond a simple accuracy metric, we should also look at the confusion matrix to understand the performance of the model.The definition of true negative, false positive, false negative, and true positives are as follows:\n",
    "\n",
    "- True negative: Actual class is negative (no diabetes), and the model predicted negative (no diabetes)\n",
    "- False positive: Actual class is negative (no diabetes), but the model predicted positive (diabetes)\n",
    "- False negative: Actual class is positive (diabetes), but the model predicted negative (no diabetes)\n",
    "- True positive: Actual class is positive (diabetes), and the model predicted positive (diabetes)"
   ]
  },
  {
   "cell_type": "code",
   "execution_count": 52,
   "metadata": {},
   "outputs": [
    {
     "name": "stdout",
     "output_type": "stream",
     "text": [
      "WARNING:tensorflow:From <ipython-input-52-5d62f045521f>:4: Sequential.predict_classes (from tensorflow.python.keras.engine.sequential) is deprecated and will be removed after 2021-01-01.\n",
      "Instructions for updating:\n",
      "Please use instead:* `np.argmax(model.predict(x), axis=-1)`,   if your model does multi-class classification   (e.g. if it uses a `softmax` last-layer activation).* `(model.predict(x) > 0.5).astype(\"int32\")`,   if your model does binary classification   (e.g. if it uses a `sigmoid` last-layer activation).\n"
     ]
    },
    {
     "data": {
      "text/plain": [
       "Text(33.0, 0.5, 'Actual')"
      ]
     },
     "execution_count": 52,
     "metadata": {},
     "output_type": "execute_result"
    },
    {
     "data": {
      "image/png": "[encoded data removed]",
      "text/plain": [
       "<Figure size 432x288 with 1 Axes>"
      ]
     },
     "metadata": {
      "needs_background": "light"
     },
     "output_type": "display_data"
    }
   ],
   "source": [
    "from sklearn.metrics import confusion_matrix\n",
    "import seaborn as sns\n",
    "\n",
    "y_test_pred = model.predict_classes(X_test)\n",
    "c_matrix = confusion_matrix(y_test, y_test_pred)\n",
    "ax = sns.heatmap(c_matrix, annot=True,                  \n",
    "                 xticklabels=['No Diabetes','Diabetes'],                \n",
    "                 yticklabels=['No Diabetes','Diabetes'],                  \n",
    "                 cbar=False, cmap='Blues')\n",
    "ax.set_xlabel(\"Prediction\")\n",
    "ax.set_ylabel(\"Actual\")"
   ]
  },
  {
   "cell_type": "code",
   "execution_count": 53,
   "metadata": {},
   "outputs": [
    {
     "data": {
      "image/png": "[encoded data removed]",
      "text/plain": [
       "<IPython.core.display.Image object>"
      ]
     },
     "execution_count": 53,
     "metadata": {},
     "output_type": "execute_result"
    }
   ],
   "source": [
    "from IPython.display import Image\n",
    "Image(filename='Image.png') "
   ]
  },
  {
   "cell_type": "markdown",
   "metadata": {},
   "source": [
    "Example of confusion matrix usage to evaluate the quality of the output of a classifier on the diabetes data set. The diagonal elements represent the number of points for which the predicted label is equal to the true label, while off-diagonal elements are those that are mislabeled by the classifier. The higher the diagonal values of the confusion matrix the better, indicating many correct predictions.\n",
    "\n",
    "A confusion matrix is a table that is often used to describe the performance of a classification model (or \"classifier\") on a set of test data for which the true values are known. The confusion matrix itself is relatively simple to understand, but the related terminology can be confusing."
   ]
  },
  {
   "cell_type": "markdown",
   "metadata": {},
   "source": [
    "## ROC curve\n",
    "A receiver operating characteristic curve (ROC) is a graphical plot that illustrates the diagnostic ability of a binary classifier system as its discrimination threshold is varied.\n",
    "\n",
    "For classification tasks, we should also look at the ROC curve to evaluate our model. The ROC curve is a plot with the True Positive Rate (TPR) on the y axis and the False Positive Rate (FPR) on the x axis. "
   ]
  },
  {
   "cell_type": "code",
   "execution_count": 54,
   "metadata": {},
   "outputs": [],
   "source": [
    "# Let's plot the ROC curve for our model and analyze its performance. \n",
    "# As always, scikit-learn provides a useful roc_curve class to help us do this. \n",
    "# But first, let's get the predicted probabilities of each class using the predict() function:"
   ]
  },
  {
   "cell_type": "code",
   "execution_count": 55,
   "metadata": {},
   "outputs": [],
   "source": [
    "from sklearn.metrics import roc_curve\n",
    "import matplotlib.pyplot as plt\n",
    "y_test_pred_probs = model.predict(X_test)"
   ]
  },
  {
   "cell_type": "code",
   "execution_count": 56,
   "metadata": {},
   "outputs": [],
   "source": [
    "#Then, run the roc_curve function in order to get the corresponding false positive rate and true positive rate for the ROC curve:\n",
    "FPR, TPR, _ = roc_curve(y_test, y_test_pred_probs)"
   ]
  },
  {
   "cell_type": "code",
   "execution_count": 57,
   "metadata": {},
   "outputs": [],
   "source": [
    "FPR, TPR, _ = roc_curve(y_test, y_test_pred_probs)"
   ]
  },
  {
   "cell_type": "code",
   "execution_count": 58,
   "metadata": {},
   "outputs": [
    {
     "data": {
      "text/plain": [
       "Text(0, 0.5, 'True Positive Rate')"
      ]
     },
     "execution_count": 58,
     "metadata": {},
     "output_type": "execute_result"
    },
    {
     "data": {
      "image/png": "[encoded data removed]",
      "text/plain": [
       "<Figure size 432x288 with 1 Axes>"
      ]
     },
     "metadata": {
      "needs_background": "light"
     },
     "output_type": "display_data"
    }
   ],
   "source": [
    "plt.plot(FPR, TPR)\n",
    "plt.plot([0,1],[0,1],'--', color='black') #diagonal line\n",
    "plt.title('ROC Curve')\n",
    "plt.xlabel('False Positive Rate')\n",
    "plt.ylabel('True Positive Rate')"
   ]
  },
  {
   "cell_type": "markdown",
   "metadata": {},
   "source": [
    "#### From the preceding ROC Curve, we can see that the model performs rather well, close to the model ROC Curve shown in the preceding diagram. This shows that our model is able to differentiate samples of different classes, making good predictions."
   ]
  },
  {
   "cell_type": "markdown",
   "metadata": {},
   "source": [
    "# ANN Regression"
   ]
  },
  {
   "cell_type": "code",
   "execution_count": 59,
   "metadata": {},
   "outputs": [],
   "source": [
    "# Load the libraries\n",
    "import pandas as pd\n",
    "from keras.models import Sequential\n",
    "from keras.layers import Dense\n",
    "from keras.wrappers.scikit_learn import KerasRegressor\n",
    "from sklearn.model_selection import cross_val_score\n",
    "from sklearn.model_selection import KFold\n",
    "from sklearn.preprocessing import StandardScaler\n",
    "from sklearn.pipeline import Pipeline"
   ]
  },
  {
   "cell_type": "markdown",
   "metadata": {},
   "source": [
    "The dataset describes 13 numerical properties of houses in Boston suburbs and is concerned with modeling the price of houses in those suburbs in thousands of dollars. As such, this is a regression predictive modeling problem. Input attributes include things like crime rate, proportion of nonretail business acres, chemical concentrations and more.\n",
    "\n",
    "This is a well-studied problem in machine learning. It is convenient to work with because all of the input and output attributes are numerical and there are 506 instances to work with.\n",
    "\n",
    "Reasonable performance for models evaluated using Mean Squared Error (MSE) are around 20 in squared thousands of dollars (or $4,500 if you take the square root). This is a nice target to aim for with our neural network model."
   ]
  },
  {
   "cell_type": "code",
   "execution_count": 60,
   "metadata": {
    "scrolled": true
   },
   "outputs": [],
   "source": [
    "# load dataset\n",
    "dataframe = pd.read_csv(\"housing.csv\", delim_whitespace = True, header = None)\n",
    "df = dataframe.values\n",
    "\n",
    "# split into input (X) and output (Y) variables\n",
    "X = df[:,0:13]\n",
    "y = df[:,13]"
   ]
  },
  {
   "cell_type": "code",
   "execution_count": 61,
   "metadata": {},
   "outputs": [],
   "source": [
    "# define base model\n",
    "def baseline_model():\n",
    "    # create model\n",
    "    model = Sequential()\n",
    "    model.add(Dense(13, input_dim = 13, kernel_initializer = 'normal', activation = 'relu'))\n",
    "    model.add(Dense(1, kernel_initializer = 'normal'))\n",
    "    # Compile model\n",
    "    model.compile(loss = 'mean_squared_error', optimizer = 'adam')\n",
    "    return model"
   ]
  },
  {
   "cell_type": "code",
   "execution_count": 62,
   "metadata": {},
   "outputs": [],
   "source": [
    "# define wider model\n",
    "def wider_model():\n",
    "    # create model\n",
    "    # `Sequential` groups a linear stack of layers into a `tf.keras.Model`.\n",
    "    model = Sequential()\n",
    "    # Adds a layer instance on top of the layer stack. # Create a `Sequential` model and add a Dense layer as the first layer.\n",
    "    model.add(Dense(20, input_dim = 13, kernel_initializer = 'normal', activation = 'relu'))\n",
    "    model.add(Dense(1, kernel_initializer = 'normal'))\n",
    "    \n",
    "    # Compile model\n",
    "    # The efficient ADAM optimization algorithm is used and a mean squared error loss function is optimized. \n",
    "    # This will be the same metric that we will use to evaluate the performance of the model.\n",
    "    model.compile(loss = 'mean_squared_error', optimizer = 'adam')\n",
    "    return model"
   ]
  },
  {
   "cell_type": "code",
   "execution_count": 63,
   "metadata": {},
   "outputs": [
    {
     "name": "stdout",
     "output_type": "stream",
     "text": [
      "Results: -35.64 (26.91) MSE\n"
     ]
    }
   ],
   "source": [
    "# Evaluate Model\n",
    "# Kfold Cross Validation\n",
    "estimator = KerasRegressor(build_fn = baseline_model, epochs = 100, batch_size = 5, verbose = 0)\n",
    "kfold = KFold(n_splits = 10)\n",
    "results = cross_val_score(estimator, X, y, cv = kfold)\n",
    "print(\"Results: %.2f (%.2f) MSE\" % (results.mean(), results.std()))"
   ]
  },
  {
   "cell_type": "code",
   "execution_count": 64,
   "metadata": {},
   "outputs": [
    {
     "name": "stdout",
     "output_type": "stream",
     "text": [
      "Wider: -23.57 (26.82) MSE\n"
     ]
    }
   ],
   "source": [
    "# Evaluate model with standardized dataset\n",
    "estimators = []\n",
    "estimators.append(('standardize', StandardScaler()))\n",
    "estimators.append(('mlp', KerasRegressor(build_fn = wider_model, epochs = 100, \n",
    "                                         batch_size = 5, verbose = 0)))\n",
    "# The purpose of the pipeline is to assemble several steps that can be cross-validated together while setting different parameters.\n",
    "pipeline = Pipeline(estimators)\n",
    "kfold = KFold(n_splits = 10)\n",
    "results = cross_val_score(pipeline, X, y, cv = kfold)\n",
    "print(\"Wider: %.2f (%.2f) MSE\" % (results.mean(), results.std()))"
   ]
  },
  {
   "cell_type": "markdown",
   "metadata": {},
   "source": [
    "# Task\n",
    "Apply ANN to Predict Average Daily Rates for Hotels. Data set (H1) is available on Moodle. Use the following features (independent) for ANN and target feature customer (ADR) from the given dataset.\n",
    "\n",
    "#### Independent Features\n",
    "* IsCanceled\n",
    "* Country\n",
    "* MarketSegment\n",
    "* DepositType\n",
    "* CustomerType\n",
    "* RequiredCarParkingSpaces\n",
    "* ArrivalDateWeekNumber"
   ]
  },
  {
   "cell_type": "markdown",
   "metadata": {},
   "source": [
    "## Reference: \n",
    "* Neural Network Projects with Python by James Loy Published by Packt Publishing, 2019\n",
    "* <p>machinelearningmastery.com/regression-tutorial-keras-deep-learning-library-python</p>"
   ]
  }
 ],
 "metadata": {
  "kernelspec": {
   "display_name": "Python 3",
   "language": "python",
   "name": "python3"
  },
  "language_info": {
   "codemirror_mode": {
    "name": "ipython",
    "version": 3
   },
   "file_extension": ".py",
   "mimetype": "text/x-python",
   "name": "python",
   "nbconvert_exporter": "python",
   "pygments_lexer": "ipython3",
   "version": "3.8.8"
  }
 },
 "nbformat": 4,
 "nbformat_minor": 4
}
